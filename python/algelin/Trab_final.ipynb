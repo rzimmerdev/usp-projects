{
 "cells": [
  {
   "cell_type": "markdown",
   "metadata": {
    "id": "CJL9V7VUhvRs",
    "pycharm": {
     "name": "#%% md\n"
    }
   },
   "source": [
    "# Cadeia de Markov\n",
    "#### Uma cadeia de markov é um modelo de análise de problemas estatísticos no qual se preve estados futuros baseados no estado atual e nas probabilidades de mudança de estados"
   ]
  },
  {
   "cell_type": "markdown",
   "metadata": {
    "id": "s4TMzOKVhvRv",
    "pycharm": {
     "name": "#%% md\n"
    }
   },
   "source": [
    "### Definição"
   ]
  },
  {
   "cell_type": "markdown",
   "metadata": {
    "id": "NQyLuYkvhvRw",
    "pycharm": {
     "name": "#%% md\n"
    }
   },
   "source": [
    "Denotamos por **1, 2, ..., k** os **k** estados possíveis de uma cadeia de Markov. A probabilidade de o sistema estar no estado **i** em qualquer observação, se na observação imediatamente precedente estava no estado **j**, é denotada por $p_{ij}$ e é chamada a probabilidade de transição do estado **j** ao estado **i**. A matriz P = [$p_{ij}$] é chamada a **matriz de transição** da cadeia de Markov."
   ]
  },
  {
   "cell_type": "markdown",
   "metadata": {
    "id": "saGL0WcrhvRw",
    "pycharm": {
     "name": "#%% md\n"
    }
   },
   "source": [
    "Por exemplo, em uma cadeia de Markov de três estados, a matriz de transição *P* tem o formato"
   ]
  },
  {
   "cell_type": "markdown",
   "metadata": {
    "id": "2wP6yPk6hvRw",
    "pycharm": {
     "name": "#%% md\n"
    }
   },
   "source": [
    "$$p = \\begin{bmatrix}\n",
    "          p_{11} & p_{12} & p_{13} \\\\\n",
    "          p_{21} & p_{22} & p_{23} \\\\\n",
    "          p_{31} & p_{32} & p_{33} \\\\\n",
    "\\end{bmatrix} $$"
   ]
  },
  {
   "cell_type": "markdown",
   "metadata": {
    "id": "iwAdboI4hvRx",
    "pycharm": {
     "name": "#%% md\n"
    }
   },
   "source": [
    "Nesta matriz $p_{32}$ é a probabilidade que o sistema vai mudar para o estado 3 a partir do 2, $p_{11}$ é a probabilidade que o sistema vai continuar no estado 1 imediatamente depois de ter sido observado no estado 1, e assim por diante."
   ]
  },
  {
   "cell_type": "markdown",
   "source": [
    "#### Exemplo: Clima"
   ],
   "metadata": {
    "id": "fVNIdRrL3lFG",
    "pycharm": {
     "name": "#%% md\n"
    }
   }
  },
  {
   "cell_type": "markdown",
   "source": [
    "Suponha que o clima em uma determinada região se comporte de acordo com uma cadeia de Markov.\n",
    "\n",
    "Especificamente, suponha que hoje seja um dia úmido, a probabilidade de amanha ser úmido é de 0.667 e de ser seco 0.333. Agora, se hoje for um dia seco, a probabilidade de ser úmido é de 0.172 e de ser seco de 0.828.\n",
    "\n",
    "Para \\ De | Umido | Seco\n",
    ":----------------:| :-----: | --------:\n",
    "úmido | 0.667 | 0.172\n",
    "seco  | 0.333 | 0.828\n"
   ],
   "metadata": {
    "id": "NDkqC8au47Ld",
    "pycharm": {
     "name": "#%% md\n"
    }
   }
  },
  {
   "cell_type": "markdown",
   "metadata": {
    "id": "_aJfHjOghvR1",
    "pycharm": {
     "name": "#%% md\n"
    }
   },
   "source": [
    "#### Exemplo: Doações na Universidade"
   ]
  },
  {
   "cell_type": "markdown",
   "metadata": {
    "id": "DGe_psPmhvR1",
    "pycharm": {
     "name": "#%% md\n"
    }
   },
   "source": [
    "Conferindo os registros de doações recebidas, a secretaria da associação de ex-alunos de uma universidade observa que 80% de seus ex-alunos que contribuem ao fundo da associação em um certo ano também contribuem no ano seguinte e que 30% dos que não contribuem em um certo ano contribuem no ano seguinte. Isto pode ser visto como uma cadeia de Markov de dois estados: o estado 1 corresponde a um ex-aluno que contribui em um ano qualquer e o estado 2 corresponde a um ex-aluno que não contribuiu naquele ano. A matrriz de transição é:"
   ]
  },
  {
   "cell_type": "code",
   "source": [
    "import numpy as np"
   ],
   "metadata": {
    "id": "Xs3u5_ZhY91s",
    "pycharm": {
     "name": "#%%\n"
    }
   },
   "execution_count": 1,
   "outputs": []
  },
  {
   "cell_type": "code",
   "execution_count": 2,
   "metadata": {
    "id": "1hFyXRoShvR1",
    "colab": {
     "base_uri": "https://localhost:8080/"
    },
    "outputId": "9e960f7b-cb95-4bc2-cd05-626f23885e97",
    "pycharm": {
     "name": "#%%\n"
    }
   },
   "outputs": [
    {
     "name": "stdout",
     "output_type": "stream",
     "text": [
      "A matriz de transição P é: \n",
      "\n",
      "[[0.8 0.3]\n",
      " [0.2 0.7]]\n"
     ]
    }
   ],
   "source": [
    "# definindo a matriz de transição P\n",
    "P = np.array([[80/100, 30/100],\n",
    "              [20/100, 70/100]])\n",
    "\n",
    "# imprimindo a matriz P\n",
    "print(\"A matriz de transição P é: \\n\\n{}\".format(P))"
   ]
  },
  {
   "cell_type": "markdown",
   "metadata": {
    "id": "HnkQ4DJYhvR2",
    "pycharm": {
     "name": "#%% md\n"
    }
   },
   "source": [
    "Nos exemplos acima, as matrizes de transição das cadeias de Markov têm a propiedade que as entradas em qualquer coluna somam 1. Isto não é acidental. Se **P** = [$P_{ij}$] é a matriz de transição de uma cadeia de Markov qualquer de **k** estados, então para cada **j** nós devemos ter \n",
    "$$p_{1j} + p_{2j} + ... p_{kj} = 1$$\n",
    "por que se o sistema está no estado **j** em uma observação, é certo que estará em pelo menos um dos **k** estados possíveis na próxima observação com probabilidade 1.0 (não deixa de existir)."
   ]
  },
  {
   "cell_type": "markdown",
   "metadata": {
    "id": "xjOHjYeyhvR2",
    "pycharm": {
     "name": "#%% md\n"
    }
   },
   "source": [
    "Uma matriz com essa propiedade é chamada **matriz estocástica**, **matriz de probabilidade** ou **matriz de Markov**. Pelo que observamos acima, a matriz de transição de uma cadeia de Markov é sempre uma matriz estocástica."
   ]
  },
  {
   "cell_type": "markdown",
   "metadata": {
    "id": "Tlk1AfVshvR2",
    "pycharm": {
     "name": "#%% md\n"
    }
   },
   "source": [
    "Em geral, não pode ser determinado com certeza o estado de um sistema em uma cadeia de Markov numa observação arbitrária. O melhor que podemos fazr é especificar probabilidades para cada um dos estados possíveis. Por exemplo, nós podemos descrever o estado possível do sistema em uma certa observação em uma cadeia de Markov com três estados, por um vetor-coluna:"
   ]
  },
  {
   "cell_type": "markdown",
   "metadata": {
    "id": "yI6a93s0hvR3",
    "pycharm": {
     "name": "#%% md\n"
    }
   },
   "source": [
    "$$$$\n",
    "\n",
    " \\begin{align}\n",
    "        x = \\begin{bmatrix}\n",
    "        x_{1} \\\\\n",
    "        x_{2} \\\\\n",
    "        x_{3} \n",
    "        \\end{bmatrix}.\n",
    "    \\end{align}\n",
    " $$$$"
   ]
  },
  {
   "cell_type": "markdown",
   "metadata": {
    "id": "eWsNpCwGhvR3",
    "pycharm": {
     "name": "#%% md\n"
    }
   },
   "source": [
    "Na qual $x_{1}$ é a probabilidade que o sistema está no estado 1, $x_{2}$ é a probabilidade que ele está no estado 2 e $x_{3}$ é a probabilidade que ele está no estado 3. Em geral, temos a seguinte definição:"
   ]
  },
  {
   "cell_type": "markdown",
   "metadata": {
    "id": "DF2Z4w3rhvR3",
    "pycharm": {
     "name": "#%% md\n"
    }
   },
   "source": [
    "> O **vetor-estado** de uma observação de uma cadeia de Markov com **k** estados é um vetor-coluna **x** cujo i-ésimo componente $x_{i}$ é a probabilidade do sistema estar, naquela observação, no i-ésimo estado."
   ]
  },
  {
   "cell_type": "markdown",
   "metadata": {
    "id": "iFmos873hvR3",
    "pycharm": {
     "name": "#%% md\n"
    }
   },
   "source": [
    "Observe que as entradas em qualquer vetor-estado de uma cadeia de Markov são não-negativas e têm soma 1. (Por que?) Um vetor-coluna com está propiedade é chamado **vetor de probabilidade**."
   ]
  },
  {
   "cell_type": "markdown",
   "metadata": {
    "id": "iio1yCrYhvR3",
    "pycharm": {
     "name": "#%% md\n"
    }
   },
   "source": [
    "Suponha agora, que nós sabemos o vetor-estado $x^{(0)}$ de uma cadeia de Markov em alguma observação inicial. O teorema seguinte nos permitirá determinar os vetores-estado\n",
    "$$x^{(1)}, x^{(2)}, ..., x^{(n), ...}$$\n",
    "nas observações subsequentes."
   ]
  },
  {
   "cell_type": "markdown",
   "metadata": {
    "id": "aQnkLdvZhvR3",
    "pycharm": {
     "name": "#%% md\n"
    }
   },
   "source": [
    "> **Teorema**: Se *P* é a matriz de transição de uma cadeia de Markov e $x^{(n)}$ é o vetor-estado da n-ésima observação, então $x^{(n + 1)} = Px^{n}$."
   ]
  },
  {
   "cell_type": "markdown",
   "metadata": {
    "id": "r3pyHJUNhvR4",
    "pycharm": {
     "name": "#%% md\n"
    }
   },
   "source": [
    "A prova deste teorema envolver ideias de teorias da probabilidades e não será dada aqui. Deste teorema, segue que"
   ]
  },
  {
   "cell_type": "markdown",
   "metadata": {
    "id": "r_WOZy9AhvR4",
    "pycharm": {
     "name": "#%% md\n"
    }
   },
   "source": [
    "|                                         |\n",
    "|-----------------------------------------|\n",
    "|$$x^{(1)} = PX^{(0)}$$                   |\n",
    "|$$x^{(2)} = PX^{(1)} = P^{2}x^{(0)}$$    |\n",
    "|$$x^{(3)} = PX^{(2)} = P^{3}x^{(0)}$$    |\n",
    "|<center> &vellip; <center>               |\n",
    "|$$x^{(n)} = PX^{(n - 1)} = P^{n}x^{(0)}$$|"
   ]
  },
  {
   "cell_type": "markdown",
   "metadata": {
    "id": "jFESF95ghvR4",
    "pycharm": {
     "name": "#%% md\n"
    }
   },
   "source": [
    "Desta maneira, o vetor-estado inicial $x^{(0)}$ e a matriz de transição **P** determinam $x^{(n)}$ para **n = 1, 2, ...**"
   ]
  },
  {
   "cell_type": "markdown",
   "metadata": {
    "id": "ijt5diAQhvR4",
    "pycharm": {
     "name": "#%% md\n"
    }
   },
   "source": [
    "A matriz de transição no exemplo era:"
   ]
  },
  {
   "cell_type": "code",
   "execution_count": 3,
   "metadata": {
    "id": "U62o1KyChvR4",
    "outputId": "cf72ed7c-d3f3-4fa7-b3fb-d00385511d31",
    "colab": {
     "base_uri": "https://localhost:8080/"
    },
    "pycharm": {
     "name": "#%%\n"
    }
   },
   "outputs": [
    {
     "name": "stdout",
     "output_type": "stream",
     "text": [
      "A matriz de transição P: \n",
      "\n",
      "[[0.8 0.3]\n",
      " [0.2 0.7]]\n"
     ]
    }
   ],
   "source": [
    "# imprimindo a matriz P\n",
    "print(\"A matriz de transição P: \\n\\n{}\".format(P))"
   ]
  },
  {
   "cell_type": "markdown",
   "metadata": {
    "id": "qFWKwaeYhvR5",
    "pycharm": {
     "name": "#%% md\n"
    }
   },
   "source": [
    "Nós agora iremos construir um registro futuro provável de doações de um novo graduando que não doou no primeiro ano após a formatura. Para um tal graduando, o sistema está, inicialmente, com certeza no estado 2, de modo que o vetor-estado inicial é:"
   ]
  },
  {
   "cell_type": "code",
   "execution_count": 4,
   "metadata": {
    "id": "ys-A9LRmhvR5",
    "colab": {
     "base_uri": "https://localhost:8080/"
    },
    "outputId": "edb7d547-498d-45a3-90da-95d2c29192f2",
    "pycharm": {
     "name": "#%%\n"
    }
   },
   "outputs": [
    {
     "name": "stdout",
     "output_type": "stream",
     "text": [
      "O vetor-estado inicial é: \n",
      "[[0]\n",
      " [1]]\n"
     ]
    }
   ],
   "source": [
    "# definindo o vetor-estado x          \n",
    "x = np.array([[0], [1]])\n",
    "\n",
    "# imprimindo o vetor-estado x\n",
    "print(f\"O vetor-estado inicial é: \\n{x}\")"
   ]
  },
  {
   "cell_type": "markdown",
   "metadata": {
    "id": "TOSMX_oohvR6",
    "pycharm": {
     "name": "#%% md\n"
    }
   },
   "source": [
    "Pelo Teorema acima, nós temos, então,"
   ]
  },
  {
   "cell_type": "code",
   "execution_count": 5,
   "metadata": {
    "id": "UQAbSMQ8hvR6",
    "pycharm": {
     "name": "#%%\n"
    }
   },
   "outputs": [],
   "source": [
    "# Função que simula *t* iterações em cima de um vetor x, dado uma matriz de transições P\n",
    "def simulate(P, x, t):\n",
    "    \n",
    "    # Estrutura de repetição para *t* repetições\n",
    "    for i in range(t):\n",
    "        \n",
    "        # Atualização do estado x, dado uma matriz P é feita pelo produto escalar P.x\n",
    "        x = P @ x\n",
    "\n",
    "    # Retornar o estado final após todas iterações    \n",
    "    return x"
   ]
  },
  {
   "cell_type": "code",
   "execution_count": 6,
   "metadata": {
    "id": "yJIwYsaqhvR6",
    "outputId": "441ba13f-a600-4a5d-c2cf-bcd45ee6046a",
    "colab": {
     "base_uri": "https://localhost:8080/"
    },
    "pycharm": {
     "name": "#%%\n"
    }
   },
   "outputs": [
    {
     "name": "stdout",
     "output_type": "stream",
     "text": [
      "O vetor-estado após 1 ano é: \n",
      "[[0.3]\n",
      " [0.7]]\n"
     ]
    }
   ],
   "source": [
    "# vetor-estado após 1 ano\n",
    "\n",
    "x_final = simulate(P, x, t=1)\n",
    "\n",
    "print(f\"O vetor-estado após 1 ano é: \\n{x_final}\")"
   ]
  },
  {
   "cell_type": "markdown",
   "metadata": {
    "id": "o3eCProwhvR7",
    "pycharm": {
     "name": "#%% md\n"
    }
   },
   "source": [
    "Assim, após 1 ano é esperado que o aluno tenha 30% de chance de doar nesse ano (estado 1) e 70% de chance de continuar não tendo doado (estado 2)."
   ]
  },
  {
   "cell_type": "code",
   "execution_count": 7,
   "metadata": {
    "id": "Cwrhm2DRhvR7",
    "outputId": "5bd4c031-f642-4c3b-b9d4-c2662c374c63",
    "colab": {
     "base_uri": "https://localhost:8080/"
    },
    "pycharm": {
     "name": "#%%\n"
    }
   },
   "outputs": [
    {
     "name": "stdout",
     "output_type": "stream",
     "text": [
      "O vetor-estado após 5 anos é: \n",
      "[[0.58125]\n",
      " [0.41875]]\n",
      "E após 100 anos: \n",
      "[[0.6]\n",
      " [0.4]]\n"
     ]
    }
   ],
   "source": [
    "# vetor-estado após 5 anos e após 100 anos\n",
    "\n",
    "x_5 = simulate(P, x, t=5)\n",
    "x_100 = simulate(P, x, t=100)\n",
    "\n",
    "print(f\"O vetor-estado após 5 anos é: \\n{x_5}\")\n",
    "print(f\"E após 100 anos: \\n{x_100}\")"
   ]
  },
  {
   "cell_type": "markdown",
   "metadata": {
    "id": "J_TySVplhvR7",
    "pycharm": {
     "name": "#%% md\n"
    }
   },
   "source": [
    "Percebe-se que o estado final, ou seja, após n anos, converge para um valor real, de modo que é possível prever se o aluno terá ou não doado."
   ]
  },
  {
   "cell_type": "markdown",
   "source": [
    "# Montando uma Carteira de Investimentos\n",
    "\n"
   ],
   "metadata": {
    "id": "yUhDpE032RZu",
    "pycharm": {
     "name": "#%% md\n"
    }
   }
  },
  {
   "cell_type": "markdown",
   "source": [
    "## Introdução\n",
    "\n",
    "Um investidor está gerindo a carteira de investimento de um bilionário da indústria automobilistica. Por meio de uma análise estatística e social, o investidor calculou as probabilidades de movimentação diaria das ações do seu cliente nesse setor, olhando apenas itens de pouca flutuação, e precisa produzir um ranking das melhores ações no momento.\n",
    "\n",
    "\n",
    "### Definição do Problema\n",
    "\n",
    "Dado uma matriz *p* de probabilidades e de tamanho NxN de compra e venda de ações, retorne uma carteira que tenha o maior retorno provável.\n",
    "\n",
    " \\begin{align}\n",
    "        p = \\begin{bmatrix}\n",
    "        x_{11} & x_{12} & ... & x_{1n}\\\\\n",
    "        x_{21} & x_{22} & ... & x_{2n}\\\\\n",
    "        ...\\\\\n",
    "        x_{n1} & x_{n2} & ... & x_{nn}\n",
    "        \\end{bmatrix}.\n",
    "    \\end{align}\n",
    "\n",
    "### Detalhes\n",
    "\n",
    "A matriz de entrada terá tamanho NxN, onde cada posição $x_{ij}$ corresponde à chance de compra de uma ação *i* a partir da venda da quantidade necessária da ação *j*.\n",
    "\n",
    "\n",
    "### Exemplo\n",
    "Tendo recebido a seguinte matriz de probabilidades (em essência, é uma matriz de preferências para cada ação), ou seja, o cliente com seu conhecimento prévio tem preferência pela ação *2*, ou então prefere manter a ação *1* a curto prazo e a *2* a longo prazo.\n",
    "$$\n",
    " \\begin{align}\n",
    "        p = \\begin{bmatrix}\n",
    "        0.1 & 0.3 \\\\\n",
    "        0.9 & 0.7\\\\\n",
    "        \\end{bmatrix}\n",
    "    \\end{align}\n",
    " $$"
   ],
   "metadata": {
    "id": "D11WGdYk4Zzi",
    "pycharm": {
     "name": "#%% md\n"
    }
   }
  },
  {
   "cell_type": "code",
   "source": [
    "def stocks(n, c=None, d=None):\n",
    "  \"\"\"\n",
    "  Create a NxN probability matrix P that show a preference and previous\n",
    "  knowledge for a given stock list.\n",
    "  \"\"\"\n",
    "  if c is None:\n",
    "    s = sum((int(n / 4), int(n / 12), int(n/5)))\n",
    "\n",
    "    # Number of average risk stocks, high risk stocks, long term stocks and fixed income stocks \n",
    "    c = (int(n / 4), int(n / 12), int(n/5), n - s)\n",
    "    \n",
    "    # Percentage of uniformely distributed presence in a portfolio for each type\n",
    "    d = [(10, 100), (0, 25), (33, 66), (25, 50)]\n",
    "\n",
    "  P = np.zeros((n, n))\n",
    "  i = 0\n",
    "\n",
    "  # Fill in individual stocks uniform chance of appearing in a portfolio\n",
    "  for idx, stock in enumerate(c):\n",
    "    p = d[idx]\n",
    "    P[i:i+stock] = np.random.uniform(p[0], p[1], size=(stock, n))\n",
    "    i += stock\n",
    "\n",
    "  # Divide by column-wise sum to get probability\n",
    "  P /= P.sum(axis=0)\n",
    "\n",
    "  return P, c"
   ],
   "metadata": {
    "id": "es8QLZ4zViOC",
    "pycharm": {
     "name": "#%%\n"
    }
   },
   "execution_count": 8,
   "outputs": []
  },
  {
   "cell_type": "code",
   "source": [
    "def get_accumulated(x, c):\n",
    "  i = 0\n",
    "  acc = np.zeros(len(c))\n",
    "  for idx, stock in enumerate(c):\n",
    "    acc[idx] = x[i:i+c[idx]].sum()\n",
    "    i += c[idx]\n",
    "  return acc"
   ],
   "metadata": {
    "id": "A3E9L4yzvFtY",
    "pycharm": {
     "name": "#%%\n"
    }
   },
   "execution_count": 9,
   "outputs": []
  },
  {
   "cell_type": "code",
   "source": [
    "n = 1000\n",
    "P, c = stocks(n)\n",
    "\n",
    "# Verifying the Markov Matrix property\n",
    "np.allclose(P.sum(axis=0), 1)"
   ],
   "metadata": {
    "colab": {
     "base_uri": "https://localhost:8080/"
    },
    "id": "DTfjRRhW9gYB",
    "outputId": "e17c7438-21e5-433d-93f4-2bb9495ebdd2",
    "pycharm": {
     "name": "#%%\n"
    }
   },
   "execution_count": 10,
   "outputs": [
    {
     "data": {
      "text/plain": "True"
     },
     "execution_count": 10,
     "metadata": {},
     "output_type": "execute_result"
    }
   ]
  },
  {
   "cell_type": "code",
   "source": [
    "# Generating an average risk only portfolio\n",
    "x = np.concatenate((np.ones(c[0]), np.zeros(n - c[0]))) / c[0]"
   ],
   "metadata": {
    "id": "2DxWUnfE9jJS",
    "pycharm": {
     "name": "#%%\n"
    }
   },
   "execution_count": 11,
   "outputs": []
  },
  {
   "cell_type": "code",
   "source": [
    "x_100 = simulate(P, x, t=5)\n",
    "print(get_accumulated(x_100, c))"
   ],
   "metadata": {
    "colab": {
     "base_uri": "https://localhost:8080/"
    },
    "id": "ILe6sY2RsVEN",
    "outputId": "b09f4e2b-4295-4f25-abb5-278889457787",
    "pycharm": {
     "name": "#%%\n"
    }
   },
   "execution_count": 12,
   "outputs": [
    {
     "name": "stdout",
     "output_type": "stream",
     "text": [
      "[0.32601107 0.02459888 0.23447475 0.4149153 ]\n"
     ]
    }
   ]
  },
  {
   "cell_type": "markdown",
   "source": [
    "Acima, o cliente nos apresenta sua carteira atual, composta apenas de ações de risco médio.\n",
    "\n",
    "Em seguida, usamos a matriz de Markov, simulando 20 iterações de compras e vendas, até obter a carteira que tem maior ganho estimado, de acordo com a matriz de conhecimentos prévios fornecida pelo cliente.\n",
    "\n",
    "Como visto, para obter o valor em um tempo específico, é preciso multiplicar a matriz de transição varias vezes, que, para simulações muito grandes, talvez não haja convergência em tempo ótimo, visto que a complexidade de multiplicação de matriz é $O(n^3)$, e pode demorar muito tempo para rodar diversas simulações.\n",
    "\n",
    "Para tal, faremos uso de uma propriedade de Álgebra Linear a seguir (exponenciação em cima dos autovalores)"
   ],
   "metadata": {
    "id": "PIuqWKvDxyh9",
    "pycharm": {
     "name": "#%% md\n"
    }
   }
  },
  {
   "cell_type": "markdown",
   "source": [
    "$$$$\n",
    "\\begin{align}\n",
    "A^x = P\\cdot D^x \\cdot P^{-1}\n",
    "\\end{align}\n",
    "\n",
    "$$$$"
   ],
   "metadata": {
    "id": "3xjLQySC2Sq4",
    "pycharm": {
     "name": "#%% md\n"
    }
   }
  },
  {
   "cell_type": "markdown",
   "source": [
    "Tal propriedade nos diz que a potencia de uma matriz pode ser reescrita de tal forma em que $P$ é a matriz formada pelos autovetores, $P^{-1}$ é a inversa de $P$ e $D$ é a diagonalização de A, obtido através de seus autovalores"
   ],
   "metadata": {
    "id": "tD3xA7Ib3U7S",
    "pycharm": {
     "name": "#%% md\n"
    }
   }
  },
  {
   "cell_type": "code",
   "source": [
    "def simulate_eig(P, x, t):\n",
    "  eig = np.linalg.eig(P)\n",
    "  V = eig[1]\n",
    "  D_n = np.diag(eig[0] ** t)\n",
    "\n",
    "  return (V @ D_n @ np.linalg.inv(V) @ x).real, eig"
   ],
   "metadata": {
    "id": "VHo0oLjW9Ngz",
    "pycharm": {
     "name": "#%%\n"
    }
   },
   "execution_count": 13,
   "outputs": []
  },
  {
   "cell_type": "code",
   "source": [
    "x_n, eig = simulate_eig(P, x, 5)\n",
    "print(get_accumulated(x_n, c))"
   ],
   "metadata": {
    "colab": {
     "base_uri": "https://localhost:8080/"
    },
    "id": "SCk0zV2J9d9A",
    "outputId": "e671c304-ca44-48c2-e5b5-ca3988abc350",
    "pycharm": {
     "name": "#%%\n"
    }
   },
   "execution_count": 14,
   "outputs": [
    {
     "name": "stdout",
     "output_type": "stream",
     "text": [
      "[0.32601107 0.02459888 0.23447475 0.4149153 ]\n"
     ]
    }
   ]
  },
  {
   "cell_type": "markdown",
   "source": [
    "# Matriz de Distribuição Estacionária\n",
    "\n",
    "Dependendo da matriz de probabilidades P, é provável (desde que seus vetores sejam independentes) que ela convirga para uma certa distribuição de probabilidades. No caso de um portfólio de ações, essa matriz, também chamada de matriz estacionária é a que melhor reflete as probabilidades dadas pelo cliente.\n",
    "\n",
    "Dessa forma, é de nosso interesse saber calculá-la do jeito mais eficiente.\n",
    "Caso P tenha convergência definida, o vetor de estados final é dado pela seguinte equação: \n",
    "$$\\frac{\\vec{x}}{\\sum_{i=0}^{n}\\vec{x}_{i}} \\text{, onde }\\vec{x} \\text{ são os autovetores de P.}$$ "
   ],
   "metadata": {
    "id": "QL2k5sTWozUv",
    "pycharm": {
     "name": "#%% md\n"
    }
   }
  },
  {
   "cell_type": "code",
   "source": [
    "def stationary(P=None, eig=None):\n",
    "  if P is None and eig is None:\n",
    "    raise ValueError\n",
    "\n",
    "  if eig is None:\n",
    "    eig = np.linalg.eig(P)\n",
    "\n",
    "  vec = eig[1][:,np.isclose(eig[0], 1)]\n",
    "\n",
    "  return (vec / vec.sum()).real"
   ],
   "metadata": {
    "id": "CBInSWbV-U0r",
    "pycharm": {
     "name": "#%%\n"
    }
   },
   "execution_count": 15,
   "outputs": []
  },
  {
   "cell_type": "markdown",
   "source": [
    "Após calcular a matriz estacionária, acumulamos as ações individuais sugeridas dado os diferentes tipos de ações (de acordo com risco, prazo e tipo de retorno)."
   ],
   "metadata": {
    "id": "lTOKm_0gqacu",
    "pycharm": {
     "name": "#%% md\n"
    }
   }
  },
  {
   "cell_type": "code",
   "source": [
    "def build_portfolio(eig, c, total_price):\n",
    "\n",
    "  r = get_accumulated(stationary(eig=eig), c)\n",
    "  suggested = dict(zip([\"Risco Padrão\", \"Alto Risco\", \"Longo Prazo\", \"Renda Fixa\"], r))\n",
    "\n",
    "  print(f\"Carteira Sugerida (R$ {round(total_price / 1e3)}k): \")\n",
    "\n",
    "  for key in suggested.keys():\n",
    "    print(f\"{key}: R$\", round(suggested[key] * total_price, 2))\n",
    "\n",
    "build_portfolio(eig, c, total_price=1e4)"
   ],
   "metadata": {
    "colab": {
     "base_uri": "https://localhost:8080/"
    },
    "id": "hbUmTTbQA27T",
    "outputId": "c26aa9ae-def3-454e-8ac7-3a35bbb8d958",
    "pycharm": {
     "name": "#%%\n"
    }
   },
   "execution_count": 16,
   "outputs": [
    {
     "name": "stdout",
     "output_type": "stream",
     "text": [
      "Carteira Sugerida (R$ 10k): \n",
      "Risco Padrão: R$ 3260.11\n",
      "Alto Risco: R$ 245.99\n",
      "Longo Prazo: R$ 2344.75\n",
      "Renda Fixa: R$ 4149.15\n"
     ]
    }
   ]
  },
  {
   "cell_type": "markdown",
   "source": [
    "Por fim, vamos comparar as velocidades de processamento necessário para cada um dos dois métodos. Isso será feito com uma amostra de n=10 simulações, usando o método Iterativo e Analítico, anotando o tempo final e o de início e guardando as diferenças."
   ],
   "metadata": {
    "id": "GzzI6499d1Jn",
    "pycharm": {
     "name": "#%% md\n"
    }
   }
  },
  {
   "cell_type": "code",
   "source": [
    "from timeit import default_timer as timer\n",
    "import time\n",
    "\n",
    "def time_it(f, *args):\n",
    "  start = timer()\n",
    "  f(*args)\n",
    "  end = timer()\n",
    "  return end - start"
   ],
   "metadata": {
    "id": "_cG-qS5neDv2",
    "pycharm": {
     "name": "#%%\n"
    }
   },
   "execution_count": 17,
   "outputs": []
  },
  {
   "cell_type": "code",
   "execution_count": 18,
   "outputs": [
    {
     "name": "stdout",
     "output_type": "stream",
     "text": [
      "Tempos de Execução: \n",
      "- Multiplicativo:  4.789265099999966\n",
      "- Analítico:  2.843153799999982\n",
      "- Iterativo:  0.0014355999999224878\n"
     ]
    }
   ],
   "source": [
    "n = 1000\n",
    "P, c = stocks(n)\n",
    "\n",
    "x = np.concatenate((np.ones(c[0]), np.zeros(n - c[0]))) / c[0]\n",
    "\n",
    "print(\"Tempos de Execução: \")\n",
    "print(\"- Multiplicativo: \", time_it(simulate_eig, P, x, 10))\n",
    "print(\"- Analítico: \", time_it(stationary, P))\n",
    "print(\"- Iterativo: \", time_it(simulate, P, x, 10))"
   ],
   "metadata": {
    "collapsed": false,
    "pycharm": {
     "name": "#%%\n"
    }
   }
  },
  {
   "cell_type": "markdown",
   "source": [
    "# Simulação de Monte Carlo\n",
    "\n",
    "Uma simulação de Monte Carlo é usada para modelar a probabilidade de diferentes resultados em um processo que não pode ser facilmente previsto devido à intervenção de variáveis ​​aleatórias. É uma técnica usada para entender o impacto do risco e da incerteza."
   ],
   "metadata": {
    "id": "gtAxnyL4G9pa",
    "pycharm": {
     "name": "#%% md\n"
    }
   }
  },
  {
   "cell_type": "code",
   "source": [
    "!pip install --upgrade pandas-datareader --quiet"
   ],
   "metadata": {
    "id": "90c4z47aJ6g1",
    "pycharm": {
     "name": "#%%\n"
    }
   },
   "execution_count": 19,
   "outputs": [
    {
     "name": "stdout",
     "output_type": "stream",
     "text": [
      "/bin/sh: 1: pip: not found\r\n"
     ]
    }
   ]
  },
  {
   "cell_type": "code",
   "source": [
    "import pandas as pd\n",
    "import numpy as np\n",
    "import matplotlib.pyplot as plt\n",
    "import pandas_datareader.data as web"
   ],
   "metadata": {
    "id": "iQdX8tQaGeVu",
    "pycharm": {
     "name": "#%%\n"
    }
   },
   "execution_count": 20,
   "outputs": []
  },
  {
   "cell_type": "markdown",
   "source": [
    "Abaixo, um método simples para obter dados de ações (lista de preços em função de dT = tempo passado) do Yahoo Finance"
   ],
   "metadata": {
    "id": "dkJbfmOqs3Xl",
    "pycharm": {
     "name": "#%% md\n"
    }
   }
  },
  {
   "cell_type": "code",
   "source": [
    "def get_data(stocks):\n",
    "    df = web.DataReader(stocks, 'yahoo', start='2019-09-10', end='2019-10-09')\n",
    "    prices = df['Close']\n",
    "    returns = prices.pct_change()\n",
    "\n",
    "    return prices, returns.mean(), returns.cov()"
   ],
   "metadata": {
    "id": "Q0F9QBNEH7PP",
    "pycharm": {
     "name": "#%%\n"
    }
   },
   "execution_count": 21,
   "outputs": []
  },
  {
   "cell_type": "markdown",
   "source": [
    "Em seguida, instanciamos um vetor de pesos normalizados (cuja soma da 1.0), ou seja, um vetor de probabilidades."
   ],
   "metadata": {
    "id": "MDvPB9gEuAp9",
    "pycharm": {
     "name": "#%% md\n"
    }
   }
  },
  {
   "cell_type": "code",
   "source": [
    "stocks = ['GE', 'GOOG', 'IBM']\n",
    "prices, return_mean, return_cov = get_data(stocks)\n",
    "\n",
    "weights = np.random.random(len(return_mean))\n",
    "weights /= np.sum(weights)"
   ],
   "metadata": {
    "id": "J9Bn4-rVH5c8",
    "pycharm": {
     "name": "#%%\n"
    }
   },
   "execution_count": 22,
   "outputs": []
  },
  {
   "cell_type": "markdown",
   "source": [
    "Em seguida, calculamos a decomposição de Cholesky, para obter uma matriz triangular inferior (matriz triangular, onde todos os elementos acima da diagonal são nulos) e sua conjugada transposta, de acordo com a equação abaixo.\n",
    "\n",
    "$$A = L\\times D \\times L^{T} \\text{ (1)}$$\n",
    "\n",
    "Exemplo:\n",
    "\n",
    "![exemplo de decomposicao de cholesky](https://wikimedia.org/api/rest_v1/media/math/render/svg/61b139af2d8d18abde0ee195701edd3f0abd7b2e)\n",
    "\n",
    "E no formato da equação 1:\n",
    "\n",
    "![LDL_T decomposition](https://wikimedia.org/api/rest_v1/media/math/render/svg/6e81a32696db6b00ce5409afe577d36fd1f27db7)\n",
    "\n",
    "\n",
    "Com esa decomposição, geramos uma matriz *Z* de tamanho Dias x Ações com elementos aleatórios retirados de uma distribuição normal.\n",
    "\n",
    "Em seguida, simulamos o retorno esperado fazendo um produto interno de *L* pela matriz *Z* e somamos com a média das ações reais."
   ],
   "metadata": {
    "id": "W8jEJkOlvsS5",
    "pycharm": {
     "name": "#%% md\n"
    }
   }
  },
  {
   "cell_type": "code",
   "execution_count": 23,
   "outputs": [
    {
     "data": {
      "text/plain": "<Figure size 640x480 with 1 Axes>",
      "image/png": "[encoded data removed]"
     },
     "metadata": {},
     "output_type": "display_data"
    }
   ],
   "source": [
    "t = 10\n",
    "F = 100\n",
    "\n",
    "mean_vectorized = np.full(shape=(F, len(weights)), fill_value=return_mean).T\n",
    "x = np.zeros((F, t))\n",
    "\n",
    "price_0 = 100\n",
    "\n",
    "# Cholesky decomposition to Lower Triangular Matrix\n",
    "L = np.linalg.cholesky(return_cov)\n",
    "\n",
    "for i in range(t):\n",
    "  Z = np.random.normal(size=(F, len(weights)))\n",
    "  returns = mean_vectorized + np.inner(L, Z)\n",
    "  x[:, i] = np.cumprod(np.inner(weights, returns.T) + 1) * price_0\n",
    "  \n",
    "plt.plot(x)\n",
    "plt.ylabel('Portfolio Value (R$)')\n",
    "plt.xlabel('Days (F=100)')\n",
    "plt.title('MC simulation of a stock portfolio')\n",
    "plt.show()"
   ],
   "metadata": {
    "collapsed": false,
    "pycharm": {
     "name": "#%%\n"
    }
   }
  }
 ],
 "metadata": {
  "kernelspec": {
   "display_name": "Python 3",
   "language": "python",
   "name": "python3"
  },
  "language_info": {
   "codemirror_mode": {
    "name": "ipython",
    "version": 3
   },
   "file_extension": ".py",
   "mimetype": "text/x-python",
   "name": "python",
   "nbconvert_exporter": "python",
   "pygments_lexer": "ipython3",
   "version": "3.7.4"
  },
  "colab": {
   "provenance": []
  }
 },
 "nbformat": 4,
 "nbformat_minor": 0
}