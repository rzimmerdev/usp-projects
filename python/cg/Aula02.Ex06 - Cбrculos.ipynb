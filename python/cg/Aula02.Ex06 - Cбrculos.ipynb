{
 "cells": [
  {
   "cell_type": "markdown",
   "metadata": {},
   "source": [
    "# Aula02.Ex06 - Círculos"
   ]
  },
  {
   "cell_type": "markdown",
   "metadata": {},
   "source": [
    "### Primeiro, vamos importar as bibliotecas necessárias.\n",
    "Verifique no código anterior um script para instalar as dependências necessárias (OpenGL e GLFW) antes de prosseguir."
   ]
  },
  {
   "cell_type": "code",
   "execution_count": 141,
   "metadata": {
    "ExecuteTime": {
     "end_time": "2024-03-09T22:46:19.689323Z",
     "start_time": "2024-03-09T22:46:19.686821Z"
    }
   },
   "outputs": [],
   "source": [
    "import glfw\n",
    "from OpenGL.GL import *\n",
    "import OpenGL.GL.shaders\n",
    "import numpy as np"
   ]
  },
  {
   "cell_type": "markdown",
   "metadata": {},
   "source": [
    "### Inicializando janela"
   ]
  },
  {
   "cell_type": "code",
   "execution_count": 142,
   "metadata": {
    "ExecuteTime": {
     "end_time": "2024-03-09T22:46:19.887694Z",
     "start_time": "2024-03-09T22:46:19.744737Z"
    }
   },
   "outputs": [],
   "source": [
    "glfw.init()\n",
    "glfw.window_hint(glfw.VISIBLE, glfw.FALSE);\n",
    "window = glfw.create_window(500, 500, \"Círculos\", None, None)\n",
    "glfw.make_context_current(window)"
   ]
  },
  {
   "cell_type": "markdown",
   "metadata": {},
   "source": [
    "### Capturando eventos de teclado e mouse"
   ]
  },
  {
   "cell_type": "code",
   "execution_count": 143,
   "metadata": {
    "ExecuteTime": {
     "end_time": "2024-03-09T22:46:19.891220Z",
     "start_time": "2024-03-09T22:46:19.888714Z"
    }
   },
   "outputs": [],
   "source": [
    "def key_event(window,key,scancode,action,mods):\n",
    "    print('[key event] key=',key)\n",
    "    print('[key event] scancode=',scancode)\n",
    "    print('[key event] action=',action)\n",
    "    print('[key event] mods=',mods)\n",
    "    print('-------')\n",
    "    \n",
    "glfw.set_key_callback(window,key_event)\n",
    "\n",
    "def mouse_event(window,button,action,mods):\n",
    "    print('[mouse event] button=',button)\n",
    "    print('[mouse event] action=',action)\n",
    "    print('[mouse event] mods=',mods)\n",
    "    print('-------')\n",
    "glfw.set_mouse_button_callback(window,mouse_event)"
   ]
  },
  {
   "cell_type": "markdown",
   "metadata": {},
   "source": [
    "### GLSL (OpenGL Shading Language)\n",
    "\n",
    "Aqui veremos nosso primeiro código GLSL.\n",
    "\n",
    "É uma linguagem de shading de alto nível baseada na linguagem de programação C.\n",
    "\n",
    "Nós estamos escrevendo código GLSL como se \"strings\" de uma variável (mas podemos ler de arquivos texto). Esse código, depois, terá que ser compilado e linkado ao nosso programa. \n",
    "\n",
    "Iremos aprender GLSL conforme a necessidade do curso. Usarmos uma versão do GLSL mais antiga, compatível com muitos dispositivos."
   ]
  },
  {
   "cell_type": "markdown",
   "metadata": {},
   "source": [
    "### GLSL para Vertex Shader\n",
    "\n",
    "No Pipeline programável, podemos interagir com Vertex Shaders.\n",
    "\n",
    "No código abaixo, estamos fazendo o seguinte:\n",
    "\n",
    "* Definindo uma variável chamada position do tipo vec2.\n",
    "* Usamos vec2, pois nosso programa (na CPU) irá enviar apenas duas coordenadas para plotar um ponto. Podemos mandar três coordenadas (vec3) e até mesmo quatro coordenadas (vec4).\n",
    "* void main() é o ponto de entrada do nosso programa (função principal)\n",
    "* gl_Position é uma variável especial do GLSL. Variáveis que começam com 'gl_' são desse tipo. Nesse caso, determina a posição de um vértice. Observe que todo vértice tem 4 coordenadas, por isso nós combinamos nossa variável vec2 com uma variável vec4."
   ]
  },
  {
   "cell_type": "code",
   "execution_count": 144,
   "metadata": {
    "ExecuteTime": {
     "end_time": "2024-03-09T22:46:19.896627Z",
     "start_time": "2024-03-09T22:46:19.891896Z"
    }
   },
   "outputs": [],
   "source": [
    "vertex_code = \"\"\"\n",
    "        attribute vec2 position;\n",
    "        void main(){\n",
    "            gl_Position = vec4(position,0.0,1.0);\n",
    "        }\n",
    "        \"\"\""
   ]
  },
  {
   "cell_type": "markdown",
   "metadata": {},
   "source": [
    "### GLSL para Fragment Shader\n",
    "\n",
    "No Pipeline programável, podemos interagir com Fragment Shaders.\n",
    "\n",
    "No código abaixo, estamos fazendo o seguinte:\n",
    "\n",
    "* void main() é o ponto de entrada do nosso programa (função principal)\n",
    "* gl_FragColor é uma variável especial do GLSL. Variáveis que começam com 'gl_' são desse tipo. Nesse caso, determina a cor de um fragmento. Nesse caso é um ponto, mas poderia ser outro objeto (ponto, linha, triangulos, etc)."
   ]
  },
  {
   "cell_type": "code",
   "execution_count": 145,
   "metadata": {
    "ExecuteTime": {
     "end_time": "2024-03-09T22:46:19.905080Z",
     "start_time": "2024-03-09T22:46:19.897664Z"
    }
   },
   "outputs": [],
   "source": [
    "fragment_code = \"\"\"\n",
    "        void main(){\n",
    "            gl_FragColor = vec4(0.0, 0.0, 0.0, 1.0);\n",
    "        }\n",
    "        \"\"\""
   ]
  },
  {
   "cell_type": "markdown",
   "metadata": {},
   "source": [
    "### Requisitando slot para a GPU para nossos programas Vertex e Fragment Shaders"
   ]
  },
  {
   "cell_type": "code",
   "execution_count": 146,
   "metadata": {
    "ExecuteTime": {
     "end_time": "2024-03-09T22:46:19.913939Z",
     "start_time": "2024-03-09T22:46:19.905943Z"
    }
   },
   "outputs": [],
   "source": [
    "# Request a program and shader slots from GPU\n",
    "program  = glCreateProgram()\n",
    "vertex   = glCreateShader(GL_VERTEX_SHADER)\n",
    "fragment = glCreateShader(GL_FRAGMENT_SHADER)\n"
   ]
  },
  {
   "cell_type": "markdown",
   "metadata": {},
   "source": [
    "### Associando nosso código-fonte aos slots solicitados"
   ]
  },
  {
   "cell_type": "code",
   "execution_count": 147,
   "metadata": {
    "ExecuteTime": {
     "end_time": "2024-03-09T22:46:19.919278Z",
     "start_time": "2024-03-09T22:46:19.914756Z"
    }
   },
   "outputs": [],
   "source": [
    "# Set shaders source\n",
    "glShaderSource(vertex, vertex_code)\n",
    "glShaderSource(fragment, fragment_code)"
   ]
  },
  {
   "cell_type": "markdown",
   "metadata": {},
   "source": [
    "### Compilando o Vertex Shader\n",
    "\n",
    "Se há algum erro em nosso programa Vertex Shader, nosso app para por aqui."
   ]
  },
  {
   "cell_type": "code",
   "execution_count": 148,
   "metadata": {
    "ExecuteTime": {
     "end_time": "2024-03-09T22:46:19.923682Z",
     "start_time": "2024-03-09T22:46:19.919968Z"
    }
   },
   "outputs": [],
   "source": [
    "# Compile shaders\n",
    "glCompileShader(vertex)\n",
    "if not glGetShaderiv(vertex, GL_COMPILE_STATUS):\n",
    "    error = glGetShaderInfoLog(vertex).decode()\n",
    "    print(error)\n",
    "    raise RuntimeError(\"Erro de compilacao do Vertex Shader\")\n"
   ]
  },
  {
   "cell_type": "markdown",
   "metadata": {},
   "source": [
    "### Compilando o Fragment Shader\n",
    "\n",
    "Se há algum erro em nosso programa Fragment Shader, nosso app para por aqui."
   ]
  },
  {
   "cell_type": "code",
   "execution_count": 149,
   "metadata": {
    "ExecuteTime": {
     "end_time": "2024-03-09T22:46:19.931227Z",
     "start_time": "2024-03-09T22:46:19.924441Z"
    }
   },
   "outputs": [],
   "source": [
    "glCompileShader(fragment)\n",
    "if not glGetShaderiv(fragment, GL_COMPILE_STATUS):\n",
    "    error = glGetShaderInfoLog(fragment).decode()\n",
    "    print(error)\n",
    "    raise RuntimeError(\"Erro de compilacao do Fragment Shader\")"
   ]
  },
  {
   "cell_type": "markdown",
   "metadata": {},
   "source": [
    "### Associando os programas compilado ao programa principal"
   ]
  },
  {
   "cell_type": "code",
   "execution_count": 150,
   "metadata": {
    "ExecuteTime": {
     "end_time": "2024-03-09T22:46:19.939336Z",
     "start_time": "2024-03-09T22:46:19.932024Z"
    }
   },
   "outputs": [],
   "source": [
    "# Attach shader objects to the program\n",
    "glAttachShader(program, vertex)\n",
    "glAttachShader(program, fragment)\n"
   ]
  },
  {
   "cell_type": "markdown",
   "metadata": {},
   "source": [
    "### Linkagem do programa"
   ]
  },
  {
   "cell_type": "code",
   "execution_count": 151,
   "metadata": {
    "ExecuteTime": {
     "end_time": "2024-03-09T22:46:19.947017Z",
     "start_time": "2024-03-09T22:46:19.940833Z"
    }
   },
   "outputs": [],
   "source": [
    "# Build program\n",
    "glLinkProgram(program)\n",
    "if not glGetProgramiv(program, GL_LINK_STATUS):\n",
    "    print(glGetProgramInfoLog(program))\n",
    "    raise RuntimeError('Linking error')\n",
    "    \n",
    "# Make program the default program\n",
    "glUseProgram(program)"
   ]
  },
  {
   "cell_type": "markdown",
   "metadata": {},
   "source": [
    "### Preparando dados para enviar a GPU\n",
    "\n",
    "Nesse momento, nós compilamos nossos Vertex e Program Shaders para que a GPU possa processá-los.\n",
    "\n",
    "Por outro lado, as informações de vértices geralmente estão na CPU e devem ser transmitidas para a GPU.\n"
   ]
  },
  {
   "cell_type": "markdown",
   "metadata": {},
   "source": [
    "No caso do círculo, nós temos que gerar as coordenadas para nossos vértices"
   ]
  },
  {
   "cell_type": "code",
   "execution_count": 152,
   "metadata": {
    "ExecuteTime": {
     "end_time": "2024-03-09T22:46:19.950866Z",
     "start_time": "2024-03-09T22:46:19.947774Z"
    }
   },
   "outputs": [],
   "source": [
    "import math # para calculo com sin e cos\n",
    "\n",
    "num_vertices = 16 # define a \"qualidade\" do circulo\n",
    "pi = 3.14\n",
    "counter = 0\n",
    "radius = 0.5\n",
    "vertices = np.zeros(num_vertices, [(\"position\", np.float32, 2)])\n",
    "\n",
    "# set first vertex to the circle center\n",
    "vertices[0] = [0,0]\n",
    "\n",
    "angle = 0.0\n",
    "for counter in range(0, num_vertices):\n",
    "    angle += 2*pi/num_vertices \n",
    "    x = math.cos(angle)*radius\n",
    "    y = math.sin(angle)*radius\n",
    "    vertices[counter] = [x,y]\n",
    "\n"
   ]
  },
  {
   "cell_type": "code",
   "execution_count": 153,
   "metadata": {
    "ExecuteTime": {
     "end_time": "2024-03-09T22:46:19.959626Z",
     "start_time": "2024-03-09T22:46:19.951557Z"
    }
   },
   "outputs": [
    {
     "data": {
      "text/plain": "array([([ 4.6197784e-01,  1.9124974e-01],),\n       ([ 3.5369414e-01,  3.5341260e-01],),\n       ([ 1.9161758e-01,  4.6182540e-01],),\n       ([ 3.9816336e-04,  4.9999985e-01],),\n       ([-1.9088180e-01,  4.6213001e-01],),\n       ([-3.5313082e-01,  3.5397545e-01],),\n       ([-4.6167266e-01,  1.9198528e-01],),\n       ([-4.9999937e-01,  7.9632644e-04],),\n       ([-4.6228185e-01, -1.9051373e-01],),\n       ([-3.5425654e-01, -3.5284883e-01],),\n       ([-1.9235286e-01, -4.6151963e-01],),\n       ([-1.1944891e-03, -4.9999857e-01],),\n       ([ 1.9014555e-01, -4.6243343e-01],),\n       ([ 3.5256660e-01, -3.5453743e-01],),\n       ([ 4.6136633e-01, -1.9272032e-01],),\n       ([ 4.9999747e-01, -1.5926509e-03],)],\n      dtype=[('position', '<f4', (2,))])"
     },
     "execution_count": 153,
     "metadata": {},
     "output_type": "execute_result"
    }
   ],
   "source": [
    "vertices"
   ]
  },
  {
   "cell_type": "markdown",
   "metadata": {},
   "source": [
    "### Para enviar nossos dados da CPU para a GPU, precisamos requisitar um slot."
   ]
  },
  {
   "cell_type": "code",
   "execution_count": 154,
   "metadata": {
    "ExecuteTime": {
     "end_time": "2024-03-09T22:46:19.967987Z",
     "start_time": "2024-03-09T22:46:19.960293Z"
    }
   },
   "outputs": [],
   "source": [
    "# Request a buffer slot from GPU\n",
    "buffer = glGenBuffers(1)\n",
    "# Make this buffer the default one\n",
    "glBindBuffer(GL_ARRAY_BUFFER, buffer)\n"
   ]
  },
  {
   "cell_type": "markdown",
   "metadata": {},
   "source": [
    "### Abaixo, nós enviamos todo o conteúdo da variável vertices.\n",
    "\n",
    "Veja os parâmetros da função glBufferData [https://www.khronos.org/registry/OpenGL-Refpages/gl4/html/glBufferData.xhtml]"
   ]
  },
  {
   "cell_type": "code",
   "execution_count": 155,
   "metadata": {
    "ExecuteTime": {
     "end_time": "2024-03-09T22:46:19.976690Z",
     "start_time": "2024-03-09T22:46:19.968788Z"
    }
   },
   "outputs": [],
   "source": [
    "# Upload data\n",
    "glBufferData(GL_ARRAY_BUFFER, vertices.nbytes, vertices, GL_DYNAMIC_DRAW)\n",
    "glBindBuffer(GL_ARRAY_BUFFER, buffer)"
   ]
  },
  {
   "cell_type": "markdown",
   "metadata": {},
   "source": [
    "### Associando variáveis do programa GLSL (Vertex Shaders) com nossos dados\n",
    "\n",
    "Primeiro, definimos o byte inicial e o offset dos dados."
   ]
  },
  {
   "cell_type": "code",
   "execution_count": 156,
   "metadata": {
    "ExecuteTime": {
     "end_time": "2024-03-09T22:46:19.980549Z",
     "start_time": "2024-03-09T22:46:19.977582Z"
    }
   },
   "outputs": [],
   "source": [
    "# Bind the position attribute\n",
    "# --------------------------------------\n",
    "stride = vertices.strides[0]\n",
    "offset = ctypes.c_void_p(0)\n"
   ]
  },
  {
   "cell_type": "markdown",
   "metadata": {},
   "source": [
    "Em seguida, soliciamos à GPU a localização da variável \"position\" (que guarda coordenadas dos nossos vértices). Nós definimos essa variável no Vertex Shader."
   ]
  },
  {
   "cell_type": "code",
   "execution_count": 157,
   "metadata": {
    "ExecuteTime": {
     "end_time": "2024-03-09T22:46:19.984810Z",
     "start_time": "2024-03-09T22:46:19.981328Z"
    }
   },
   "outputs": [],
   "source": [
    "loc = glGetAttribLocation(program, \"position\")\n",
    "glEnableVertexAttribArray(loc)"
   ]
  },
  {
   "cell_type": "markdown",
   "metadata": {},
   "source": [
    "A partir da localização anterior, nós indicamos à GPU onde está o conteúdo (via posições stride/offset) para a variável position (aqui identificada na posição loc).\n",
    "\n",
    "Outros parâmetros:\n",
    "\n",
    "* Definimos que possui duas coordenadas\n",
    "* Que cada coordenada é do tipo float (GL_FLOAT)\n",
    "* Que não se deve normalizar a coordenada (False)\n",
    "\n",
    "Mais detalhes: https://www.khronos.org/registry/OpenGL-Refpages/gl4/html/glVertexAttribPointer.xhtml"
   ]
  },
  {
   "cell_type": "code",
   "execution_count": 158,
   "metadata": {
    "ExecuteTime": {
     "end_time": "2024-03-09T22:46:19.993101Z",
     "start_time": "2024-03-09T22:46:19.985537Z"
    }
   },
   "outputs": [],
   "source": [
    "glVertexAttribPointer(loc, 2, GL_FLOAT, False, stride, offset)"
   ]
  },
  {
   "cell_type": "markdown",
   "metadata": {},
   "source": [
    "### Nesse momento, nós exibimos a janela!\n"
   ]
  },
  {
   "cell_type": "code",
   "execution_count": 159,
   "metadata": {
    "ExecuteTime": {
     "end_time": "2024-03-09T22:46:20.028766Z",
     "start_time": "2024-03-09T22:46:19.993843Z"
    }
   },
   "outputs": [],
   "source": [
    "glfw.show_window(window)"
   ]
  },
  {
   "cell_type": "markdown",
   "metadata": {},
   "source": [
    "### Loop principal da janela.\n",
    "Enquanto a janela não for fechada, esse laço será executado. É neste espaço que trabalhamos com algumas interações com a OpenGL.\n",
    "\n",
    "A novidade agora é a função glDrawArrays()\n",
    "\n",
    "Tal função recebe o tipo de primitiva (GL_TRIANGLE_FAN), o índice inicial do array de vértices (vamos mostrar todos os três vértices, por isso começamos com 0) e a quantidade de vértices ( len(vertices) )."
   ]
  },
  {
   "cell_type": "code",
   "execution_count": 160,
   "metadata": {
    "ExecuteTime": {
     "end_time": "2024-03-09T22:46:21.238156Z",
     "start_time": "2024-03-09T22:46:20.029678Z"
    }
   },
   "outputs": [],
   "source": [
    "while not glfw.window_should_close(window):\n",
    "\n",
    "    glfw.poll_events() \n",
    "\n",
    "    \n",
    "    # glPolygonMode(GL_FRONT_AND_BACK,GL_LINE) ## ative esse comando para enxergar os triângulos\n",
    "    glClear(GL_COLOR_BUFFER_BIT) \n",
    "    glClearColor(1.0, 1.0, 1.0, 1.0)\n",
    "    \n",
    "    \n",
    "    glDrawArrays(GL_TRIANGLE_FAN, 0, len(vertices))\n",
    "\n",
    "    glfw.swap_buffers(window)\n",
    "\n",
    "glfw.terminate()"
   ]
  },
  {
   "cell_type": "markdown",
   "metadata": {},
   "source": [
    "# Exercício\n",
    "\n",
    "1. Modifique esse código para desenhar o círculo a partir de qualquer centro.\n",
    "\n",
    "2. Faça que com sua janela tenha o tamanho width=800 e height=500. Veja o que acontece com seu círculo (efeito do aspect ratio). Tente corrigir esse efeito durante a geração das coordenadas do vértice."
   ]
  }
 ],
 "metadata": {
  "finalized": {
   "timestamp": 1583114796072,
   "trusted": true
  },
  "kernelspec": {
   "display_name": "Python 3",
   "language": "python",
   "name": "python3"
  },
  "language_info": {
   "codemirror_mode": {
    "name": "ipython",
    "version": 3
   },
   "file_extension": ".py",
   "mimetype": "text/x-python",
   "name": "python",
   "nbconvert_exporter": "python",
   "pygments_lexer": "ipython3",
   "version": "3.8.5"
  }
 },
 "nbformat": 4,
 "nbformat_minor": 2
}
