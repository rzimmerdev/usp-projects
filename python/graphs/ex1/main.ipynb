{
 "cells": [
  {
   "cell_type": "code",
   "execution_count": 64,
   "outputs": [],
   "source": [
    "from random import seed, random\n",
    "# import numpy as np"
   ],
   "metadata": {
    "collapsed": false,
    "pycharm": {
     "name": "#%%\n"
    }
   }
  },
  {
   "cell_type": "code",
   "execution_count": 108,
   "metadata": {
    "collapsed": true
   },
   "outputs": [],
   "source": [
    "def erdos_renyi(n: int, p: float):\n",
    "    if not 0 < p < 1:\n",
    "        raise ValueError(f\"Valor invalido p: {p}, precisa estar entre 0 e 1.\")\n",
    "\n",
    "    if n < 0:\n",
    "        raise ValueError(f\"Valor invalido n: {n}, precisa ser maior que 0.\")\n",
    "\n",
    "    mat = [[0 for x in range(n)] for _ in range(n)]\n",
    "    # mat = np.zeros((n, n))\n",
    "\n",
    "    for i in range(0, n - 1):\n",
    "        for j in range(i + 1, n):\n",
    "            if random() < p:\n",
    "                mat[i][j] = 1\n",
    "                mat[j][i] = 1\n",
    "\n",
    "    return mat"
   ]
  },
  {
   "cell_type": "code",
   "execution_count": 115,
   "outputs": [
    {
     "name": "stdout",
     "output_type": "stream",
     "text": [
      "[0, 0, 0, 1, 1, 0, 0]\n",
      "[0, 0, 1, 0, 0, 0, 0]\n",
      "[0, 1, 0, 1, 0, 1, 0]\n",
      "[1, 0, 1, 0, 1, 0, 1]\n",
      "[1, 0, 0, 1, 0, 1, 0]\n",
      "[0, 0, 1, 0, 1, 0, 0]\n",
      "[0, 0, 0, 1, 0, 0, 0]\n"
     ]
    }
   ],
   "source": [
    "matrix_size = 7\n",
    "\n",
    "# seed(\"ex1 main.py\")\n",
    "\n",
    "matrix = erdos_renyi(matrix_size, 0.3)\n",
    "\n",
    "for line in range(0, matrix_size):\n",
    "    print(matrix[line])"
   ],
   "metadata": {
    "collapsed": false,
    "pycharm": {
     "name": "#%%\n"
    }
   }
  }
 ],
 "metadata": {
  "kernelspec": {
   "display_name": "Python 3",
   "language": "python",
   "name": "python3"
  },
  "language_info": {
   "codemirror_mode": {
    "name": "ipython",
    "version": 2
   },
   "file_extension": ".py",
   "mimetype": "text/x-python",
   "name": "python",
   "nbconvert_exporter": "python",
   "pygments_lexer": "ipython2",
   "version": "2.7.6"
  }
 },
 "nbformat": 4,
 "nbformat_minor": 0
}