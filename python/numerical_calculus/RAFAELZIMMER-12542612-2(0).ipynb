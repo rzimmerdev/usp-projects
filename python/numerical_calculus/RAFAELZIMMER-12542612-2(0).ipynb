{
 "cells": [
  {
   "cell_type": "code",
   "execution_count": 1,
   "outputs": [],
   "source": [
    "import numpy as np\n",
    "import scipy\n",
    "import time"
   ],
   "metadata": {
    "collapsed": false,
    "ExecuteTime": {
     "start_time": "2023-05-20T18:31:15.769709Z",
     "end_time": "2023-05-20T18:31:16.285730Z"
    }
   }
  },
  {
   "cell_type": "markdown",
   "source": [
    "**Nome**: *Rafael Zimmer*\n",
    "**nUsp**: *12542612*"
   ],
   "metadata": {
    "collapsed": false
   }
  },
  {
   "cell_type": "markdown",
   "source": [
    "# 1 Sistemas Lineares com Matrizes Simétricas\n",
    "## 1) Considere a matriz A e o vetor b dados abaixo\n",
    "\n",
    "$$\n",
    "A = \\begin{bmatrix}\n",
    "100 & -4 & 0 & ... \\\\\n",
    "-4 & 100 & 4 & ... \\\\\n",
    "0 & -4 & 100 & ... \\\\\n",
    "0 & 0 & -4 & ... \\\\\n",
    "\\vdots & \\vdots & \\vdots & \\vdots \\\\\n",
    "... & ... & -4 & 100\n",
    "\\end{bmatrix},\n",
    "b = \\begin{bmatrix}\n",
    "1/n^4 \\\\\n",
    "1/n^4 \\\\\n",
    "\\vdots \\\\\n",
    "1/n^4\n",
    "\\end{bmatrix}\n",
    "$$\n",
    "\n",
    "### Seja $n$ a dimensão do problema."
   ],
   "metadata": {
    "collapsed": false
   }
  },
  {
   "cell_type": "markdown",
   "source": [
    "### a) Escreva um código que monte a matriz $A$ para $n = 1000$"
   ],
   "metadata": {
    "collapsed": false
   }
  },
  {
   "cell_type": "code",
   "execution_count": 2,
   "metadata": {
    "collapsed": true,
    "ExecuteTime": {
     "start_time": "2023-05-20T18:31:16.282189Z",
     "end_time": "2023-05-20T18:31:16.305047Z"
    }
   },
   "outputs": [],
   "source": [
    "# Funções auxiliares para conversão das variáveis e matrizes para o formato float128 e float64,\n",
    "# com o intuito de melhorar as precisões das saídas dos métodos diretos e iterativos.\n",
    "def to_float(function):\n",
    "    def converted(*args):\n",
    "        return function(*[np.array(arg, dtype=np.float128) for arg in args])\n",
    "\n",
    "    return converted\n",
    "\n",
    "\n",
    "def to_float_small(function, *args):\n",
    "    return function(*[arg.astype(np.float64) for arg in args])"
   ]
  },
  {
   "cell_type": "code",
   "execution_count": 3,
   "outputs": [],
   "source": [
    "# Cria uma matriz\n",
    "def create_A(n):\n",
    "    A = np.zeros((n, n))\n",
    "    A[0, 0] = 100\n",
    "    A[0, 1] = -4\n",
    "    A[-1, -1] = 100\n",
    "    A[-1, -2] = -4\n",
    "\n",
    "    for i in range(1, n - 1):\n",
    "        A[i, i - 1] = -4\n",
    "        A[i, i] = 100\n",
    "        A[i, i + 1] = -4\n",
    "\n",
    "    return A\n",
    "\n",
    "\n",
    "def create_b(n):\n",
    "    b = np.zeros(n)\n",
    "    b[:] = 1 / n ** 4\n",
    "    return b.T"
   ],
   "metadata": {
    "collapsed": false,
    "ExecuteTime": {
     "start_time": "2023-05-20T18:31:16.298503Z",
     "end_time": "2023-05-20T18:31:16.356370Z"
    }
   }
  },
  {
   "cell_type": "code",
   "execution_count": 4,
   "outputs": [
    {
     "name": "stdout",
     "output_type": "stream",
     "text": [
      "[[100.  -4.   0. ...   0.   0.   0.]\n",
      " [ -4. 100.  -4. ...   0.   0.   0.]\n",
      " [  0.  -4. 100. ...   0.   0.   0.]\n",
      " ...\n",
      " [  0.   0.   0. ... 100.  -4.   0.]\n",
      " [  0.   0.   0. ...  -4. 100.  -4.]\n",
      " [  0.   0.   0. ...   0.  -4. 100.]]\n",
      "[1.e-12 1.e-12 1.e-12 1.e-12 1.e-12 1.e-12 1.e-12 1.e-12 1.e-12 1.e-12\n",
      " 1.e-12 1.e-12 1.e-12 1.e-12 1.e-12 1.e-12 1.e-12 1.e-12 1.e-12 1.e-12\n",
      " 1.e-12 1.e-12 1.e-12 1.e-12 1.e-12 1.e-12 1.e-12 1.e-12 1.e-12 1.e-12\n",
      " 1.e-12 1.e-12 1.e-12 1.e-12 1.e-12 1.e-12 1.e-12 1.e-12 1.e-12 1.e-12\n",
      " 1.e-12 1.e-12 1.e-12 1.e-12 1.e-12 1.e-12 1.e-12 1.e-12 1.e-12 1.e-12\n",
      " 1.e-12 1.e-12 1.e-12 1.e-12 1.e-12 1.e-12 1.e-12 1.e-12 1.e-12 1.e-12\n",
      " 1.e-12 1.e-12 1.e-12 1.e-12 1.e-12 1.e-12 1.e-12 1.e-12 1.e-12 1.e-12\n",
      " 1.e-12 1.e-12 1.e-12 1.e-12 1.e-12 1.e-12 1.e-12 1.e-12 1.e-12 1.e-12\n",
      " 1.e-12 1.e-12 1.e-12 1.e-12 1.e-12 1.e-12 1.e-12 1.e-12 1.e-12 1.e-12\n",
      " 1.e-12 1.e-12 1.e-12 1.e-12 1.e-12 1.e-12 1.e-12 1.e-12 1.e-12 1.e-12\n",
      " 1.e-12 1.e-12 1.e-12 1.e-12 1.e-12 1.e-12 1.e-12 1.e-12 1.e-12 1.e-12\n",
      " 1.e-12 1.e-12 1.e-12 1.e-12 1.e-12 1.e-12 1.e-12 1.e-12 1.e-12 1.e-12\n",
      " 1.e-12 1.e-12 1.e-12 1.e-12 1.e-12 1.e-12 1.e-12 1.e-12 1.e-12 1.e-12\n",
      " 1.e-12 1.e-12 1.e-12 1.e-12 1.e-12 1.e-12 1.e-12 1.e-12 1.e-12 1.e-12\n",
      " 1.e-12 1.e-12 1.e-12 1.e-12 1.e-12 1.e-12 1.e-12 1.e-12 1.e-12 1.e-12\n",
      " 1.e-12 1.e-12 1.e-12 1.e-12 1.e-12 1.e-12 1.e-12 1.e-12 1.e-12 1.e-12\n",
      " 1.e-12 1.e-12 1.e-12 1.e-12 1.e-12 1.e-12 1.e-12 1.e-12 1.e-12 1.e-12\n",
      " 1.e-12 1.e-12 1.e-12 1.e-12 1.e-12 1.e-12 1.e-12 1.e-12 1.e-12 1.e-12\n",
      " 1.e-12 1.e-12 1.e-12 1.e-12 1.e-12 1.e-12 1.e-12 1.e-12 1.e-12 1.e-12\n",
      " 1.e-12 1.e-12 1.e-12 1.e-12 1.e-12 1.e-12 1.e-12 1.e-12 1.e-12 1.e-12\n",
      " 1.e-12 1.e-12 1.e-12 1.e-12 1.e-12 1.e-12 1.e-12 1.e-12 1.e-12 1.e-12\n",
      " 1.e-12 1.e-12 1.e-12 1.e-12 1.e-12 1.e-12 1.e-12 1.e-12 1.e-12 1.e-12\n",
      " 1.e-12 1.e-12 1.e-12 1.e-12 1.e-12 1.e-12 1.e-12 1.e-12 1.e-12 1.e-12\n",
      " 1.e-12 1.e-12 1.e-12 1.e-12 1.e-12 1.e-12 1.e-12 1.e-12 1.e-12 1.e-12\n",
      " 1.e-12 1.e-12 1.e-12 1.e-12 1.e-12 1.e-12 1.e-12 1.e-12 1.e-12 1.e-12\n",
      " 1.e-12 1.e-12 1.e-12 1.e-12 1.e-12 1.e-12 1.e-12 1.e-12 1.e-12 1.e-12\n",
      " 1.e-12 1.e-12 1.e-12 1.e-12 1.e-12 1.e-12 1.e-12 1.e-12 1.e-12 1.e-12\n",
      " 1.e-12 1.e-12 1.e-12 1.e-12 1.e-12 1.e-12 1.e-12 1.e-12 1.e-12 1.e-12\n",
      " 1.e-12 1.e-12 1.e-12 1.e-12 1.e-12 1.e-12 1.e-12 1.e-12 1.e-12 1.e-12\n",
      " 1.e-12 1.e-12 1.e-12 1.e-12 1.e-12 1.e-12 1.e-12 1.e-12 1.e-12 1.e-12\n",
      " 1.e-12 1.e-12 1.e-12 1.e-12 1.e-12 1.e-12 1.e-12 1.e-12 1.e-12 1.e-12\n",
      " 1.e-12 1.e-12 1.e-12 1.e-12 1.e-12 1.e-12 1.e-12 1.e-12 1.e-12 1.e-12\n",
      " 1.e-12 1.e-12 1.e-12 1.e-12 1.e-12 1.e-12 1.e-12 1.e-12 1.e-12 1.e-12\n",
      " 1.e-12 1.e-12 1.e-12 1.e-12 1.e-12 1.e-12 1.e-12 1.e-12 1.e-12 1.e-12\n",
      " 1.e-12 1.e-12 1.e-12 1.e-12 1.e-12 1.e-12 1.e-12 1.e-12 1.e-12 1.e-12\n",
      " 1.e-12 1.e-12 1.e-12 1.e-12 1.e-12 1.e-12 1.e-12 1.e-12 1.e-12 1.e-12\n",
      " 1.e-12 1.e-12 1.e-12 1.e-12 1.e-12 1.e-12 1.e-12 1.e-12 1.e-12 1.e-12\n",
      " 1.e-12 1.e-12 1.e-12 1.e-12 1.e-12 1.e-12 1.e-12 1.e-12 1.e-12 1.e-12\n",
      " 1.e-12 1.e-12 1.e-12 1.e-12 1.e-12 1.e-12 1.e-12 1.e-12 1.e-12 1.e-12\n",
      " 1.e-12 1.e-12 1.e-12 1.e-12 1.e-12 1.e-12 1.e-12 1.e-12 1.e-12 1.e-12\n",
      " 1.e-12 1.e-12 1.e-12 1.e-12 1.e-12 1.e-12 1.e-12 1.e-12 1.e-12 1.e-12\n",
      " 1.e-12 1.e-12 1.e-12 1.e-12 1.e-12 1.e-12 1.e-12 1.e-12 1.e-12 1.e-12\n",
      " 1.e-12 1.e-12 1.e-12 1.e-12 1.e-12 1.e-12 1.e-12 1.e-12 1.e-12 1.e-12\n",
      " 1.e-12 1.e-12 1.e-12 1.e-12 1.e-12 1.e-12 1.e-12 1.e-12 1.e-12 1.e-12\n",
      " 1.e-12 1.e-12 1.e-12 1.e-12 1.e-12 1.e-12 1.e-12 1.e-12 1.e-12 1.e-12\n",
      " 1.e-12 1.e-12 1.e-12 1.e-12 1.e-12 1.e-12 1.e-12 1.e-12 1.e-12 1.e-12\n",
      " 1.e-12 1.e-12 1.e-12 1.e-12 1.e-12 1.e-12 1.e-12 1.e-12 1.e-12 1.e-12\n",
      " 1.e-12 1.e-12 1.e-12 1.e-12 1.e-12 1.e-12 1.e-12 1.e-12 1.e-12 1.e-12\n",
      " 1.e-12 1.e-12 1.e-12 1.e-12 1.e-12 1.e-12 1.e-12 1.e-12 1.e-12 1.e-12\n",
      " 1.e-12 1.e-12 1.e-12 1.e-12 1.e-12 1.e-12 1.e-12 1.e-12 1.e-12 1.e-12\n",
      " 1.e-12 1.e-12 1.e-12 1.e-12 1.e-12 1.e-12 1.e-12 1.e-12 1.e-12 1.e-12\n",
      " 1.e-12 1.e-12 1.e-12 1.e-12 1.e-12 1.e-12 1.e-12 1.e-12 1.e-12 1.e-12\n",
      " 1.e-12 1.e-12 1.e-12 1.e-12 1.e-12 1.e-12 1.e-12 1.e-12 1.e-12 1.e-12\n",
      " 1.e-12 1.e-12 1.e-12 1.e-12 1.e-12 1.e-12 1.e-12 1.e-12 1.e-12 1.e-12\n",
      " 1.e-12 1.e-12 1.e-12 1.e-12 1.e-12 1.e-12 1.e-12 1.e-12 1.e-12 1.e-12\n",
      " 1.e-12 1.e-12 1.e-12 1.e-12 1.e-12 1.e-12 1.e-12 1.e-12 1.e-12 1.e-12\n",
      " 1.e-12 1.e-12 1.e-12 1.e-12 1.e-12 1.e-12 1.e-12 1.e-12 1.e-12 1.e-12\n",
      " 1.e-12 1.e-12 1.e-12 1.e-12 1.e-12 1.e-12 1.e-12 1.e-12 1.e-12 1.e-12\n",
      " 1.e-12 1.e-12 1.e-12 1.e-12 1.e-12 1.e-12 1.e-12 1.e-12 1.e-12 1.e-12\n",
      " 1.e-12 1.e-12 1.e-12 1.e-12 1.e-12 1.e-12 1.e-12 1.e-12 1.e-12 1.e-12\n",
      " 1.e-12 1.e-12 1.e-12 1.e-12 1.e-12 1.e-12 1.e-12 1.e-12 1.e-12 1.e-12\n",
      " 1.e-12 1.e-12 1.e-12 1.e-12 1.e-12 1.e-12 1.e-12 1.e-12 1.e-12 1.e-12\n",
      " 1.e-12 1.e-12 1.e-12 1.e-12 1.e-12 1.e-12 1.e-12 1.e-12 1.e-12 1.e-12\n",
      " 1.e-12 1.e-12 1.e-12 1.e-12 1.e-12 1.e-12 1.e-12 1.e-12 1.e-12 1.e-12\n",
      " 1.e-12 1.e-12 1.e-12 1.e-12 1.e-12 1.e-12 1.e-12 1.e-12 1.e-12 1.e-12\n",
      " 1.e-12 1.e-12 1.e-12 1.e-12 1.e-12 1.e-12 1.e-12 1.e-12 1.e-12 1.e-12\n",
      " 1.e-12 1.e-12 1.e-12 1.e-12 1.e-12 1.e-12 1.e-12 1.e-12 1.e-12 1.e-12\n",
      " 1.e-12 1.e-12 1.e-12 1.e-12 1.e-12 1.e-12 1.e-12 1.e-12 1.e-12 1.e-12\n",
      " 1.e-12 1.e-12 1.e-12 1.e-12 1.e-12 1.e-12 1.e-12 1.e-12 1.e-12 1.e-12\n",
      " 1.e-12 1.e-12 1.e-12 1.e-12 1.e-12 1.e-12 1.e-12 1.e-12 1.e-12 1.e-12\n",
      " 1.e-12 1.e-12 1.e-12 1.e-12 1.e-12 1.e-12 1.e-12 1.e-12 1.e-12 1.e-12\n",
      " 1.e-12 1.e-12 1.e-12 1.e-12 1.e-12 1.e-12 1.e-12 1.e-12 1.e-12 1.e-12\n",
      " 1.e-12 1.e-12 1.e-12 1.e-12 1.e-12 1.e-12 1.e-12 1.e-12 1.e-12 1.e-12\n",
      " 1.e-12 1.e-12 1.e-12 1.e-12 1.e-12 1.e-12 1.e-12 1.e-12 1.e-12 1.e-12\n",
      " 1.e-12 1.e-12 1.e-12 1.e-12 1.e-12 1.e-12 1.e-12 1.e-12 1.e-12 1.e-12\n",
      " 1.e-12 1.e-12 1.e-12 1.e-12 1.e-12 1.e-12 1.e-12 1.e-12 1.e-12 1.e-12\n",
      " 1.e-12 1.e-12 1.e-12 1.e-12 1.e-12 1.e-12 1.e-12 1.e-12 1.e-12 1.e-12\n",
      " 1.e-12 1.e-12 1.e-12 1.e-12 1.e-12 1.e-12 1.e-12 1.e-12 1.e-12 1.e-12\n",
      " 1.e-12 1.e-12 1.e-12 1.e-12 1.e-12 1.e-12 1.e-12 1.e-12 1.e-12 1.e-12\n",
      " 1.e-12 1.e-12 1.e-12 1.e-12 1.e-12 1.e-12 1.e-12 1.e-12 1.e-12 1.e-12\n",
      " 1.e-12 1.e-12 1.e-12 1.e-12 1.e-12 1.e-12 1.e-12 1.e-12 1.e-12 1.e-12\n",
      " 1.e-12 1.e-12 1.e-12 1.e-12 1.e-12 1.e-12 1.e-12 1.e-12 1.e-12 1.e-12\n",
      " 1.e-12 1.e-12 1.e-12 1.e-12 1.e-12 1.e-12 1.e-12 1.e-12 1.e-12 1.e-12\n",
      " 1.e-12 1.e-12 1.e-12 1.e-12 1.e-12 1.e-12 1.e-12 1.e-12 1.e-12 1.e-12\n",
      " 1.e-12 1.e-12 1.e-12 1.e-12 1.e-12 1.e-12 1.e-12 1.e-12 1.e-12 1.e-12\n",
      " 1.e-12 1.e-12 1.e-12 1.e-12 1.e-12 1.e-12 1.e-12 1.e-12 1.e-12 1.e-12\n",
      " 1.e-12 1.e-12 1.e-12 1.e-12 1.e-12 1.e-12 1.e-12 1.e-12 1.e-12 1.e-12\n",
      " 1.e-12 1.e-12 1.e-12 1.e-12 1.e-12 1.e-12 1.e-12 1.e-12 1.e-12 1.e-12\n",
      " 1.e-12 1.e-12 1.e-12 1.e-12 1.e-12 1.e-12 1.e-12 1.e-12 1.e-12 1.e-12\n",
      " 1.e-12 1.e-12 1.e-12 1.e-12 1.e-12 1.e-12 1.e-12 1.e-12 1.e-12 1.e-12\n",
      " 1.e-12 1.e-12 1.e-12 1.e-12 1.e-12 1.e-12 1.e-12 1.e-12 1.e-12 1.e-12\n",
      " 1.e-12 1.e-12 1.e-12 1.e-12 1.e-12 1.e-12 1.e-12 1.e-12 1.e-12 1.e-12\n",
      " 1.e-12 1.e-12 1.e-12 1.e-12 1.e-12 1.e-12 1.e-12 1.e-12 1.e-12 1.e-12\n",
      " 1.e-12 1.e-12 1.e-12 1.e-12 1.e-12 1.e-12 1.e-12 1.e-12 1.e-12 1.e-12\n",
      " 1.e-12 1.e-12 1.e-12 1.e-12 1.e-12 1.e-12 1.e-12 1.e-12 1.e-12 1.e-12\n",
      " 1.e-12 1.e-12 1.e-12 1.e-12 1.e-12 1.e-12 1.e-12 1.e-12 1.e-12 1.e-12\n",
      " 1.e-12 1.e-12 1.e-12 1.e-12 1.e-12 1.e-12 1.e-12 1.e-12 1.e-12 1.e-12\n",
      " 1.e-12 1.e-12 1.e-12 1.e-12 1.e-12 1.e-12 1.e-12 1.e-12 1.e-12 1.e-12\n",
      " 1.e-12 1.e-12 1.e-12 1.e-12 1.e-12 1.e-12 1.e-12 1.e-12 1.e-12 1.e-12\n",
      " 1.e-12 1.e-12 1.e-12 1.e-12 1.e-12 1.e-12 1.e-12 1.e-12 1.e-12 1.e-12]\n"
     ]
    }
   ],
   "source": [
    "n = 1000\n",
    "\n",
    "A = create_A(n)\n",
    "b = create_b(n)\n",
    "\n",
    "print(A)\n",
    "print(b)"
   ],
   "metadata": {
    "collapsed": false,
    "ExecuteTime": {
     "start_time": "2023-05-20T18:31:16.337479Z",
     "end_time": "2023-05-20T18:31:16.433244Z"
    }
   }
  },
  {
   "cell_type": "markdown",
   "source": [
    "### b) Escreva um código que faça a decomposição de Cholesky de uma matriz simétrica definida positiva qualquer."
   ],
   "metadata": {
    "collapsed": false
   }
  },
  {
   "cell_type": "code",
   "execution_count": 7,
   "outputs": [],
   "source": [
    "# A decomposição de Cholesky é usada para fatorar uma matriz simétrica definida positiva em uma matriz\n",
    "# triangular inferior e a transposta dessa matriz. Embora fácil de implementar para resolver sistemas\n",
    "# lineares, a decomposição de Cholesky requer uma limitação bem específica, que é receber uma matriz\n",
    "# simétrica definida positiva e também é computacionalmente custosa para matrizes grandes.\n",
    "# Considerações sobre limitações e eficiência devem ser feitas ao aplicar esse método.\n",
    "@to_float\n",
    "def cholesky(A):\n",
    "    H = np.zeros_like(A)\n",
    "\n",
    "    for i in range(len(A)):\n",
    "        for j in range(i + 1):\n",
    "            s = np.sum(H[i, :j] * H[j, :j])\n",
    "            if i == j:\n",
    "                H[i, j] = np.sqrt(A[i, j] - s)\n",
    "            else:\n",
    "                H[i, j] = (A[i, j] - s) / H[j, j]\n",
    "    return H"
   ],
   "metadata": {
    "collapsed": false,
    "ExecuteTime": {
     "start_time": "2023-05-20T18:36:39.437370Z",
     "end_time": "2023-05-20T18:36:39.512298Z"
    }
   }
  },
  {
   "cell_type": "code",
   "execution_count": 10,
   "outputs": [
    {
     "name": "stdout",
     "output_type": "stream",
     "text": [
      "Testing Cholesky decomposition...\n",
      "OK\n",
      "[[10.          0.          0.          0.          0.        ]\n",
      " [-0.4         9.9919968   0.          0.          0.        ]\n",
      " [ 0.         -0.40032038  9.99198397  0.          0.        ]\n",
      " [ 0.          0.         -0.4003209   9.99198395  0.        ]\n",
      " [ 0.          0.          0.         -0.4003209   9.99198395]]\n"
     ]
    }
   ],
   "source": [
    "A = abs(create_A(n))\n",
    "b = create_b(n)\n",
    "\n",
    "print(\"Testing Cholesky decomposition...\")\n",
    "H = cholesky(A)\n",
    "print(\"OK\" if np.allclose(H @ H.T, A) else \"Wrong\")\n",
    "\n",
    "print(H[:5, :5])"
   ],
   "metadata": {
    "collapsed": false,
    "ExecuteTime": {
     "start_time": "2023-05-20T18:44:30.948093Z",
     "end_time": "2023-05-20T18:44:38.954310Z"
    }
   }
  },
  {
   "cell_type": "markdown",
   "source": [
    "### c) Usando as rotinas implementadas anteriormente, escreva um código para resolver um sistema $A \\cdot x = b$."
   ],
   "metadata": {
    "collapsed": false
   }
  },
  {
   "cell_type": "code",
   "execution_count": 8,
   "outputs": [],
   "source": [
    "# As substituições progressivas e regressivas são métodos para resolver sistemas de equações lineares\n",
    "# quando a matriz é triangular inferior ou superior, respectivamente.\n",
    "#\n",
    "# Essas técnicas evitam a necessidade de realizar operações de multiplicação e inversão de matrizes\n",
    "# completas, resultando em um processo mais rápido. (A . x = b => x = A^-1 . b)\n",
    "#\n",
    "# No entanto, as substituições progressivas só podem\n",
    "# ser aplicadas a matrizes triangulares inferiores, enquanto as regressivas são aplicáveis apenas a\n",
    "# matrizes triangulares superiores.\n",
    "@to_float\n",
    "def forward_sub(L, b):\n",
    "    y = np.zeros_like(b)\n",
    "\n",
    "    for i in range(len(L)):\n",
    "        y[i] = (b[i] - np.dot(L[i, :i], y[:i])) / L[i, i]\n",
    "\n",
    "    return y\n",
    "\n",
    "\n",
    "@to_float\n",
    "def back_sub(U, b):\n",
    "    x = np.zeros_like(b)\n",
    "\n",
    "    for i in range(len(U) - 1, -1, -1):\n",
    "        x[i] = (b[i] - np.dot(U[i, i + 1:], x[i + 1:])) / (U[i, i] if U[i, i] != 0 else 1)\n",
    "\n",
    "    return x\n",
    "\n",
    "\n",
    "# Resolve um sistema dada uma matriz triangular inferior decorrente do método de Cholesky.\n",
    "# Simplesmente aplica os métodos de substituição progressiva e substituição regressiva na matriz\n",
    "# H e na sua transposta.\n",
    "@to_float\n",
    "def solve_triangular(H, b):\n",
    "    y = forward_sub(H, b)\n",
    "    x = back_sub(H.T, y)\n",
    "\n",
    "    return x"
   ],
   "metadata": {
    "collapsed": false,
    "ExecuteTime": {
     "start_time": "2023-05-20T18:41:16.427987Z",
     "end_time": "2023-05-20T18:41:16.474966Z"
    }
   }
  },
  {
   "cell_type": "code",
   "execution_count": 8,
   "outputs": [
    {
     "name": "stdout",
     "output_type": "stream",
     "text": [
      "Testing forward-backwards substitutions for solving Triangular Matrix...\n",
      "OK\n"
     ]
    }
   ],
   "source": [
    "A = create_A(n)\n",
    "b = create_b(n)\n",
    "\n",
    "H = cholesky(A)\n",
    "\n",
    "print(\"Testing forward-backwards substitutions for solving Triangular Matrix...\")\n",
    "x = solve_triangular(H, b)\n",
    "print(\"OK\" if np.allclose(x, to_float_small(np.linalg.solve, A, b)) else \"Wrong\")"
   ],
   "metadata": {
    "collapsed": false
   }
  },
  {
   "cell_type": "markdown",
   "source": [
    "### d) Escreva um código implementando o método de Jacobi para resolver um sistema $Ax = b$.\n",
    "### Utilize o erro absoluto como critério de parada."
   ],
   "metadata": {
    "collapsed": false
   }
  },
  {
   "cell_type": "code",
   "execution_count": 9,
   "outputs": [],
   "source": [
    "@to_float\n",
    "def error(a, b):\n",
    "    return np.linalg.norm(b - a)\n",
    "\n",
    "\n",
    "# O método de Gauss-Jacobi é um algoritmo iterativo eficiente para resolver sistemas de equações lineares\n",
    "# grandes e esparsos.\n",
    "#\n",
    "# As soluções aproximadas das variáveis são atualizadas iterativamente, utilizando os\n",
    "# valores anteriores das outras variáveis. A convergência pode ser lenta em alguns sistemas e\n",
    "# depende dos valores iniciais. Apesar disso, o método de Gauss-Jacobi é eficiente para matrizes\n",
    "# esparsas, exigindo menos operações do que métodos diretos.\n",
    "@to_float\n",
    "def gauss_jacobi(A, b, eps=1e-25):\n",
    "    x = np.zeros_like(b)\n",
    "    n = len(A)\n",
    "    k = min(1e10, eps ** -1)\n",
    "\n",
    "    D = np.diag(np.diag(A) + eps)\n",
    "    C = np.eye(n) - to_float_small(np.linalg.solve, D, A)\n",
    "    g = to_float_small(np.linalg.solve, D, b)\n",
    "    iterations = 0\n",
    "\n",
    "    while error(np.dot(A, x), b) > eps and iterations < k:\n",
    "        x = np.dot(C, x) + g\n",
    "        iterations += 1\n",
    "\n",
    "    if k == 0:\n",
    "        raise ValueError(\"Solution is not convergent\")\n",
    "    return x, iterations"
   ],
   "metadata": {
    "collapsed": false,
    "ExecuteTime": {
     "start_time": "2023-05-20T18:43:43.322768Z",
     "end_time": "2023-05-20T18:43:43.386389Z"
    }
   }
  },
  {
   "cell_type": "code",
   "execution_count": 10,
   "outputs": [
    {
     "name": "stdout",
     "output_type": "stream",
     "text": [
      "Testing Gauss Jacobi...\n",
      "OK\n"
     ]
    }
   ],
   "source": [
    "A = create_A(n)\n",
    "b = create_b(n)\n",
    "\n",
    "\n",
    "print(\"Testing Gauss Jacobi...\")\n",
    "x = gauss_jacobi(A, b)[0]\n",
    "print(\"OK\" if np.allclose(x, to_float_small(np.linalg.solve, A, b)) else \"Wrong\")"
   ],
   "metadata": {
    "collapsed": false
   }
  },
  {
   "cell_type": "markdown",
   "source": [
    "### e) Vamos comparar o método direto de Cholesky com o iterativo de Jacobi neste exemplo.\n",
    "### Observe quanto tempo leva para resolver o sistema usando Cholesky.\n",
    "### Quantas iterações foram necessárias no método de Jacobi para obtermos a mesma precisão da solução dada pelo método de Cholesky ?"
   ],
   "metadata": {
    "collapsed": false
   }
  },
  {
   "cell_type": "code",
   "execution_count": 11,
   "outputs": [],
   "source": [
    "def timeit(function, *args, **kwargs):\n",
    "    start = time.time()\n",
    "    out = function(*args, **kwargs)\n",
    "    end = time.time()\n",
    "\n",
    "    return (end - start), out"
   ],
   "metadata": {
    "collapsed": false
   }
  },
  {
   "cell_type": "code",
   "execution_count": 12,
   "outputs": [],
   "source": [
    "A = create_A(n)\n",
    "b = create_b(n)"
   ],
   "metadata": {
    "collapsed": false
   }
  },
  {
   "cell_type": "code",
   "execution_count": 13,
   "outputs": [
    {
     "name": "stdout",
     "output_type": "stream",
     "text": [
      "Time for solving using Gauss-Jacobi algorithm: 0.25688815116882324 with a total of 14 iterations\n"
     ]
    }
   ],
   "source": [
    "duration, out = timeit(gauss_jacobi, A, b)\n",
    "print(\"Time for solving using Gauss-Jacobi algorithm: \" + str(duration) + \" with a total of \" + str(\n",
    "    out[1]) + \" iterations\")"
   ],
   "metadata": {
    "collapsed": false
   }
  },
  {
   "cell_type": "code",
   "execution_count": 14,
   "outputs": [
    {
     "name": "stdout",
     "output_type": "stream",
     "text": [
      "Time for decomposing using Cholesky algortihm: 7.087960720062256\n",
      "Time for solving using Cholesky lower triangular: 0.025084257125854492\n"
     ]
    }
   ],
   "source": [
    "# o método de Gauss-Jacobi pode tirar proveito da estrutura esparsa da matriz,\n",
    "# evitando o cálculo de operações desnecessárias em elementos zero. Por outro lado, Cholesyk +\n",
    "# substituições não são tão eficientes com matrizes esparsas, o que resulta em um tempo de\n",
    "# execução mais lento. Portanto, para matrizes esparsas, o método de Gauss-Jacobi geralmente é preferido\n",
    "# devido à sua eficiência no tempo de execução.\n",
    "duration_decomp, out = timeit(cholesky, A)\n",
    "duration_solve, _ = timeit(solve_triangular, out, b)\n",
    "\n",
    "print(\"Time for decomposing using Cholesky algortihm: \" + str(duration_decomp))\n",
    "print(\"Time for solving using Cholesky lower triangular: \" + str(duration_solve))"
   ],
   "metadata": {
    "collapsed": false
   }
  },
  {
   "cell_type": "markdown",
   "source": [
    "### f) É possível melhorar a implementação da decomposição de Cholesky para o exemplo em questão ?"
   ],
   "metadata": {
    "collapsed": false
   }
  },
  {
   "cell_type": "code",
   "execution_count": 15,
   "outputs": [],
   "source": [
    "# Não é necessário rodar o Cholesky para toda a matriz, dado que ela é esparsa, basta limitar os valores de i e j para a diagonal e as colunas adjacentes. (Usando dot product)\n",
    "@to_float\n",
    "def cholesky_sparse(A):\n",
    "    H = np.zeros_like(A)\n",
    "\n",
    "    for i in range(len(A)):\n",
    "        for j in range(i + 1):\n",
    "            s = H[i, :j].dot(H[j, :j].T)\n",
    "            if i == j:\n",
    "                H[i, j] = np.sqrt(A[i, j] - s)\n",
    "            else:\n",
    "                H[i, j] = (A[i, j] - s) / H[j, j]\n",
    "\n",
    "    return H"
   ],
   "metadata": {
    "collapsed": false
   }
  },
  {
   "cell_type": "code",
   "execution_count": 17,
   "outputs": [
    {
     "name": "stdout",
     "output_type": "stream",
     "text": [
      "Time for decomposing using Sparse Cholesky algortihm: 3.1326279640197754\n",
      "Time for solving using Triangular Sparse Cholesky: 0.06309652328491211\n"
     ]
    }
   ],
   "source": [
    "duration_decomp, out = timeit(cholesky_sparse, A)\n",
    "duration_solve, _ = timeit(solve_triangular, out, b)\n",
    "\n",
    "print(\"Time for decomposing using Sparse Cholesky algortihm: \" + str(duration_decomp))\n",
    "print(\"Time for solving using Triangular Sparse Cholesky: \" + str(duration_solve))"
   ],
   "metadata": {
    "collapsed": false,
    "ExecuteTime": {
     "end_time": "2023-05-19T03:12:16.763206400Z",
     "start_time": "2023-05-19T03:12:13.491508800Z"
    }
   }
  },
  {
   "cell_type": "markdown",
   "source": [
    "# 2 Método de Newton Para Sistemas Não-Lineares"
   ],
   "metadata": {
    "collapsed": false
   }
  },
  {
   "cell_type": "markdown",
   "source": [
    "## 1) Observando a equação (4), vê-se a necessidade de calcular a matriz inversa da Jacobiana.\n",
    "## É possível calcular matrizes inversas usando a decomposição LU, sendo assim, implemente um  código que:"
   ],
   "metadata": {
    "collapsed": false
   }
  },
  {
   "cell_type": "markdown",
   "source": [
    "### a) Calcule a fatoração LU de uma matriz qualquer;"
   ],
   "metadata": {
    "collapsed": false
   }
  },
  {
   "cell_type": "code",
   "execution_count": 18,
   "outputs": [],
   "source": [
    "# A decomposição LU é usada para fatorar uma matriz em um\n",
    "# produto de uma matriz triangular inferior (L) e uma matriz triangular superior (U).\n",
    "# É amplamente utilizada para resolver sistemas de equações lineares e calcular inversas de matrizes,\n",
    "# mas pode ser limitada quando a matriz é singular ou mal condicionada.\n",
    "#\n",
    "# Além disso, seu desempenho computacional é alto, especialmente para matrizes grandes,\n",
    "# devido à complexidade de tempo cúbica (2 fors + 1 operação vetorial acelerada).\n",
    "@to_float\n",
    "def lu_decomp(A):\n",
    "    n = len(A)\n",
    "    L = np.eye(n)\n",
    "    U = np.copy(A)\n",
    "\n",
    "    for k in range(n - 1):\n",
    "        for i in range(k + 1, n):\n",
    "            L[i, k] = U[i, k] / U[k, k]\n",
    "            U[i, k:] -= L[i, k] * U[k, k:]\n",
    "\n",
    "    return L, U\n",
    "\n",
    "\n",
    "def lu_solve(A, b):\n",
    "    L, U = lu_decomp(A)\n",
    "\n",
    "    y = forward_sub(L, b)\n",
    "    x = back_sub(U, y)\n",
    "\n",
    "    return x\n",
    "\n",
    "\n",
    "# Abaixo, uma implementação da eliminação de Gauss, outro método para dsolução de sistemas lineares\n",
    "# Este método transforma a matriz em uma forma triangular superior por meio de operações elementares\n",
    "# (um tipo de operação específica que preserva certas propriedades da matriz original).\n",
    "#\n",
    "# No entanto, pode ter limitações em casos de matrizes singulares ou mal condicionadas, e sua eficiência\n",
    "# depende da presença de zeros na matriz.\n",
    "@to_float\n",
    "def solve(A, b):\n",
    "    n = len(A)\n",
    "    U = np.copy(A)\n",
    "    y = np.copy(b)\n",
    "\n",
    "    for k in range(n - 1):\n",
    "\n",
    "        p = np.argmax(abs(U[k:, k])) + k\n",
    "\n",
    "        U[[k, p], :] = U[[p, k], :]\n",
    "        y[[k, p]] = y[[p, k]]\n",
    "\n",
    "        for i in range(k + 1, n):\n",
    "            m = -U[i, k] / (U[k, k] if U[k, k] != 0 else 1)\n",
    "            U[i, k:n] += m * U[k, k:n]\n",
    "            y[i] += m * y[k]\n",
    "\n",
    "    return back_sub(U, y)"
   ],
   "metadata": {
    "collapsed": false,
    "ExecuteTime": {
     "end_time": "2023-05-19T03:12:19.652803400Z",
     "start_time": "2023-05-19T03:12:19.636234600Z"
    }
   }
  },
  {
   "cell_type": "code",
   "execution_count": 19,
   "outputs": [
    {
     "name": "stdout",
     "output_type": "stream",
     "text": [
      "Testing LU Decomp...\n",
      "OK\n"
     ]
    }
   ],
   "source": [
    "A = np.random.rand(10, 10)\n",
    "\n",
    "print(\"Testing LU Decomp...\")\n",
    "print(\"OK\" if np.all(np.isclose(lu_decomp(A)[0] @ lu_decomp(A)[1], A)) else \"Wrong\")"
   ],
   "metadata": {
    "collapsed": false,
    "ExecuteTime": {
     "end_time": "2023-05-19T03:12:21.809578500Z",
     "start_time": "2023-05-19T03:12:21.732988600Z"
    }
   }
  },
  {
   "cell_type": "markdown",
   "source": [
    "### b) Resolva um sistema linear cujo lado direito é uma matriz;"
   ],
   "metadata": {
    "collapsed": false
   }
  },
  {
   "cell_type": "code",
   "execution_count": 20,
   "outputs": [
    {
     "name": "stdout",
     "output_type": "stream",
     "text": [
      "Testing LU Solve...\n",
      "OK\n",
      "Testing Gauss Decomp...\n",
      "OK\n",
      "Duration Gauss Elimination:  0.0009829998016357422\n",
      "Duration LU Decomp solve:  0.0010662078857421875\n",
      "Speedup:  0.9219588550983899\n"
     ]
    }
   ],
   "source": [
    "# Basta tornar b (n, 1) => B (n, m)\n",
    "A = np.random.rand(10, 10)\n",
    "B = np.random.rand(10, 5)\n",
    "\n",
    "print(\"Testing LU Solve...\")\n",
    "print(\"OK\" if np.allclose(lu_solve(A, B), np.linalg.solve(A, B)) else \"Wrong\")  # Using LU decomp\n",
    "\n",
    "print(\"Testing Gauss Decomp...\")\n",
    "print(\"OK\" if np.allclose(solve(A, B), np.linalg.solve(A, B)) else \"Wrong\")  # Using Gauss Elimination\n",
    "\n",
    "time_gauss = timeit(solve, A, B)[0]\n",
    "time_lu = timeit(lu_solve, A, B)[0]\n",
    "\n",
    "print(\"Duration Gauss Elimination: \", time_gauss)\n",
    "print(\"Duration LU Decomp solve: \", time_lu)\n",
    "print(\"Speedup: \", time_gauss / time_lu)"
   ],
   "metadata": {
    "collapsed": false,
    "ExecuteTime": {
     "end_time": "2023-05-19T03:12:23.411842700Z",
     "start_time": "2023-05-19T03:12:23.339390800Z"
    }
   }
  },
  {
   "cell_type": "code",
   "execution_count": 21,
   "outputs": [
    {
     "name": "stdout",
     "output_type": "stream",
     "text": [
      "Testing LU Solve...\n",
      "OK\n"
     ]
    }
   ],
   "source": [
    "# Se B for uma matriz:\n",
    "test = True\n",
    "\n",
    "print(\"Testing LU Solve...\")\n",
    "for i in range(10):\n",
    "    A = np.random.rand(10, 10)\n",
    "    B = np.random.rand(10, 5)\n",
    "    x = lu_solve(A, B)\n",
    "\n",
    "    if not np.allclose(x, np.linalg.solve(A, B)) or x.shape != (10, 5):\n",
    "        test = False\n",
    "        break\n",
    "print(\"OK\" if test else \"Wrong\")"
   ],
   "metadata": {
    "collapsed": false,
    "ExecuteTime": {
     "end_time": "2023-05-19T03:12:24.776635200Z",
     "start_time": "2023-05-19T03:12:24.712823600Z"
    }
   }
  },
  {
   "cell_type": "markdown",
   "source": [
    "### c) Finalmente, calcule a inversa de uma matriz qualquer resolvendo vários sistemas lineares."
   ],
   "metadata": {
    "collapsed": false
   }
  },
  {
   "cell_type": "code",
   "execution_count": 22,
   "outputs": [],
   "source": [
    "# O cálculo da inversa envolve a solução de sistemas independentes para cada coluna da matriz identidade.\n",
    "# Essa abordagem pode ser computacionalmente custosa para matrizes grandes devido à necessidade de\n",
    "# resolver múltiplos sistemas lineares.\n",
    "# Além disso, pode ser limitada quando a matriz é singular ou mal condicionada.\n",
    "#\n",
    "# Apesar das limitações e considerações de eficiência, essa técnica é útil em contextos teóricos e análises de propriedades matriciais.\n",
    "def inv(A):\n",
    "    I = np.eye(len(A))\n",
    "    A_inv = np.eye(len(A))\n",
    "\n",
    "    for idx, i in enumerate(I.T):\n",
    "        A_inv[:, idx] = solve(A, i)\n",
    "\n",
    "    if np.isnan(np.min(A_inv)):\n",
    "        return A\n",
    "\n",
    "    return A_inv"
   ],
   "metadata": {
    "collapsed": false,
    "ExecuteTime": {
     "end_time": "2023-05-19T03:12:26.372150900Z",
     "start_time": "2023-05-19T03:12:26.363660600Z"
    }
   }
  },
  {
   "cell_type": "code",
   "execution_count": 23,
   "outputs": [
    {
     "name": "stdout",
     "output_type": "stream",
     "text": [
      "Testing Inverse\n",
      "OK\n"
     ]
    }
   ],
   "source": [
    "A = np.random.rand(10, 10)\n",
    "\n",
    "print(\"Testing Inverse\")\n",
    "print(\"OK\" if np.allclose(inv(A), scipy.linalg.inv(A)) else \"Wrong\")"
   ],
   "metadata": {
    "collapsed": false,
    "ExecuteTime": {
     "end_time": "2023-05-19T03:12:27.176311300Z",
     "start_time": "2023-05-19T03:12:27.114683400Z"
    }
   }
  },
  {
   "cell_type": "markdown",
   "source": [
    "## 2) Implemente o método de Newton para sistemas usando a rotina implementada no item anterior.\n",
    "## Lembre-se de especificar o critério de parada utilizado.\n",
    "\n",
    "### e\n",
    "\n",
    "## 3) Implemente novamente o método de Newton para sistemas usando o algoritmo anterior.\n",
    "## Utilize as rotinas já implementadas neste trabalho para resolução do sistema linear, indicando sempre qual está usando."
   ],
   "metadata": {
    "collapsed": false
   }
  },
  {
   "cell_type": "code",
   "execution_count": 24,
   "outputs": [],
   "source": [
    "# O cálculo de derivadas parciais pelo método do limite simétrico utiliza o conceito de\n",
    "# limite em um ponto para calcular a taxa de variação de uma função em relação a uma variável específica.\n",
    "# Seleciona-se um ponto x, e relativo à este ponto faz-se duas variações mínimas (tendendo a 0)\n",
    "# no sentido positivo e negativo, sendo possível estimar a derivada pela razão da variação em y pela\n",
    "# variação em x.\n",
    "\n",
    "# Apesar de ser uma abordagem precisa,\n",
    "# pode ser computacionalmente custosa para funções complexas com múltiplas\n",
    "# variáveis e não é aplicável a funções não diferenciáveis.\n",
    "def partial_derivatives(f, x, h=1e-10):\n",
    "    x = x.astype(np.float128)\n",
    "    derivatives = np.zeros_like(x)\n",
    "    for i in range(len(x)):\n",
    "        diff_x = np.copy(x)\n",
    "        diff_x[i] += h\n",
    "        y_pos = f(diff_x)\n",
    "\n",
    "        diff_x[i] -= 2 * h\n",
    "        y_neg = f(diff_x)\n",
    "\n",
    "        derivatives[i] = (y_pos - y_neg) / (2 * h)\n",
    "\n",
    "    return derivatives\n",
    "\n",
    "# O cálculo da Jacobiana é composta pelo cálculo das derivadas parciais de uma função multivariável.\n",
    "# Essa abordagem permite determinar a taxa de variação de uma função em relação a diferentes variáveis\n",
    "# independentes, disposta em formato de matriz.\n",
    "# No entanto, a computação da Jacobiana pode ser computacionalmente custosa para funções com um grande\n",
    "# número de variáveis e requer derivadas precisas.\n",
    "def Jac(F, x, h=1e-10):\n",
    "    x = x.astype(np.float128)\n",
    "    jacobian = np.zeros((len(F), len(x)))\n",
    "\n",
    "    for i in range(len(F)):\n",
    "        jacobian[i] = partial_derivatives(F[i], x, h)\n",
    "\n",
    "    return jacobian"
   ],
   "metadata": {
    "collapsed": false,
    "ExecuteTime": {
     "end_time": "2023-05-19T03:12:29.242647500Z",
     "start_time": "2023-05-19T03:12:29.239646100Z"
    }
   }
  },
  {
   "cell_type": "code",
   "execution_count": 25,
   "outputs": [],
   "source": [
    "def f1(x):\n",
    "    y = 3 * x[0] ** 4 + x[0] * x[1] ** 2 + 1\n",
    "    return y\n",
    "\n",
    "\n",
    "def f2(x):\n",
    "    y = np.cos(x[0] - x[1])\n",
    "    return y"
   ],
   "metadata": {
    "collapsed": false,
    "ExecuteTime": {
     "end_time": "2023-05-19T03:12:30.224944100Z",
     "start_time": "2023-05-19T03:12:30.210725600Z"
    }
   }
  },
  {
   "cell_type": "code",
   "execution_count": 26,
   "outputs": [
    {
     "name": "stdout",
     "output_type": "stream",
     "text": [
      "[[16.          4.        ]\n",
      " [ 0.84147098 -0.84147098]]\n"
     ]
    }
   ],
   "source": [
    "x0 = np.array([1, 2])\n",
    "F = np.array([f1, f2])\n",
    "\n",
    "print(Jac(F, x0))"
   ],
   "metadata": {
    "collapsed": false,
    "ExecuteTime": {
     "end_time": "2023-05-19T03:12:31.064923800Z",
     "start_time": "2023-05-19T03:12:31.059924800Z"
    }
   }
  },
  {
   "cell_type": "code",
   "execution_count": 27,
   "outputs": [],
   "source": [
    "# O método de Newton é um método iterativo utilizado para encontrar as raízes de uma função.\n",
    "# Ele utiliza aproximações iniciais e as iterações de uma fórmula recursiva para se aproximar da solução.\n",
    "# Embora eficiente para convergência rápida, o método de Newton é limitado pelos pontos iniciais e pela\n",
    "# possibilidade de divergência nas funções em questão.\n",
    "def newton_method_inverse(F, x0, eps=1e-16):\n",
    "    x = x0 - inv(Jac(F, x0)) @ np.array(list(map(lambda y: y(x0), F)))\n",
    "    k = min(1e6, eps ** -1)\n",
    "    iterations = 0\n",
    "    while error(x, x0) > 1e-6:\n",
    "        if iterations > k:\n",
    "            raise ValueError(\"Newton method did not converge\")\n",
    "        x0 = x\n",
    "        x = x - inv(Jac(F, x)) @ np.array(list([y(x) for y in F]))\n",
    "        iterations += 1\n",
    "\n",
    "    return x, iterations\n",
    "\n",
    "\n",
    "def newton_method(F, x0, eps=1e-16):\n",
    "    x = x0 - solve(Jac(F, x0), list(map(lambda y: y(x0), F)))\n",
    "\n",
    "    k = min(1e6, eps ** -1)\n",
    "    iterations = 0\n",
    "    while error(x, x0) > 1e-6:\n",
    "        if iterations > k:\n",
    "            raise ValueError(\"Newton method did not converge\")\n",
    "        x0 = x\n",
    "        x = x - solve(Jac(F, x), list([y(x) for y in F]))\n",
    "        iterations += 1\n",
    "\n",
    "    return x, iterations"
   ],
   "metadata": {
    "collapsed": false,
    "ExecuteTime": {
     "end_time": "2023-05-19T03:12:32.007806100Z",
     "start_time": "2023-05-19T03:12:31.943950100Z"
    }
   }
  },
  {
   "cell_type": "code",
   "execution_count": 28,
   "outputs": [
    {
     "name": "stdout",
     "output_type": "stream",
     "text": [
      "Testing Newton Method using Inverse...\n",
      "OK\n",
      "Testing Newton Method...\n",
      "OK\n"
     ]
    }
   ],
   "source": [
    "x0 = np.array([0, 0])\n",
    "F = np.array([f1, f2])\n",
    "\n",
    "x_newton_inverse = newton_method_inverse(F, x0)[0]\n",
    "x_newton = newton_method(F, x0)[0]\n",
    "\n",
    "print(\"Testing Newton Method using Inverse...\")\n",
    "print(\"OK\" if np.all(np.isclose(0, list(map(lambda f_i: f_i(x_newton_inverse), F)))) else \"Wrong\")\n",
    "\n",
    "print(\"Testing Newton Method...\")\n",
    "print(\"OK\" if np.all(np.isclose(0, list(map(lambda f_i: f_i(x_newton), F)))) else \"Wrong\")"
   ],
   "metadata": {
    "collapsed": false,
    "ExecuteTime": {
     "end_time": "2023-05-19T03:12:33.116437700Z",
     "start_time": "2023-05-19T03:12:33.016878800Z"
    }
   }
  },
  {
   "cell_type": "code",
   "execution_count": 29,
   "outputs": [
    {
     "name": "stdout",
     "output_type": "stream",
     "text": [
      "Time for Newton method with inverse:  0.008031845092773438\n",
      "Time for Newton method:  0.0035953521728515625\n",
      "Speedup:  2.234\n"
     ]
    }
   ],
   "source": [
    "time_inverse = timeit(lambda: newton_method_inverse(F, x0))[0]\n",
    "time_newton = timeit(lambda: newton_method(F, x0))[0]\n",
    "\n",
    "print(\"Time for Newton method with inverse: \", time_inverse)\n",
    "\n",
    "print(\"Time for Newton method: \", time_newton)\n",
    "\n",
    "print(\"Speedup: \", np.round(time_inverse / time_newton, 3))"
   ],
   "metadata": {
    "collapsed": false,
    "ExecuteTime": {
     "end_time": "2023-05-19T03:12:35.060546900Z",
     "start_time": "2023-05-19T03:12:34.965759200Z"
    }
   }
  },
  {
   "cell_type": "markdown",
   "source": [
    "### 4) Dada a equação de um círculo $(x − a)^{2} + (y − b)^{2} = R^{2}$ e três pontos que passam por esse círculo\n",
    "\n",
    "|---|------|------|-------|\n",
    "| x | 8.21 | 0.34 | 5.96  |\n",
    "| y | 0.00 | 6.62 | -1.12 |"
   ],
   "metadata": {
    "collapsed": false
   }
  },
  {
   "cell_type": "markdown",
   "source": [
    "$(x - a)^{2} + (y - b)^{2} - R^{2} = 0$\n",
    "\n",
    "Substituindo:\n",
    "P0:\n",
    "$(8.21 - a)^{2} + (b)^{2} - R^{2} = 0$\n",
    "\n",
    "P1:\n",
    "$(0.34 - a)^{2} + (6.62 - b)^{2} - R^{2} = 0$\n",
    "\n",
    "P2:\n",
    "$(5.96 - a)^{2} + (-1.12 - b)^{2} - R^{2} = 0$\n",
    "\n"
   ],
   "metadata": {
    "collapsed": false
   }
  },
  {
   "cell_type": "markdown",
   "source": [
    "### a) Monte um sistema não-linear para determinar a, b e R."
   ],
   "metadata": {
    "collapsed": false
   }
  },
  {
   "cell_type": "code",
   "execution_count": 30,
   "outputs": [],
   "source": [
    "p1 = lambda x: (8.21 - x[0]) ** 2 + x[1] ** 2 - x[2] ** 2\n",
    "p2 = lambda x: (0.34 - x[0]) ** 2 + (6.62 - x[1]) ** 2 - x[2] ** 2\n",
    "p3 = lambda x: (5.96 - x[0]) ** 2 + (-1.12 - x[1]) ** 2 - x[2] ** 2\n",
    "\n",
    "f = np.array([p1, p2, p3])"
   ],
   "metadata": {
    "collapsed": false,
    "ExecuteTime": {
     "end_time": "2023-05-19T03:12:41.235796800Z",
     "start_time": "2023-05-19T03:12:41.224612100Z"
    }
   }
  },
  {
   "cell_type": "markdown",
   "source": [
    "### b) Resolva o sistema não-linear utilizando os códigos feitos nos itens 2 e 3."
   ],
   "metadata": {
    "collapsed": false
   }
  },
  {
   "cell_type": "code",
   "execution_count": 31,
   "outputs": [
    {
     "name": "stdout",
     "output_type": "stream",
     "text": [
      "Testing Newton method for solving non-linear circle equation...\n",
      "OK\n"
     ]
    }
   ],
   "source": [
    "y = newton_method(f, np.array([0, 0, 0]))[0]\n",
    "y_inverse = newton_method_inverse(f, np.array([0, 0, 0]))[0]\n",
    "\n",
    "print(\"Testing Newton method for solving non-linear circle equation...\")\n",
    "print(\"OK\" if np.allclose(y, y_inverse) else \"Wrong\")"
   ],
   "metadata": {
    "collapsed": false,
    "ExecuteTime": {
     "end_time": "2023-05-19T03:12:43.076789700Z",
     "start_time": "2023-05-19T03:12:43.014397600Z"
    }
   }
  },
  {
   "cell_type": "markdown",
   "source": [
    "### c) Houve melhora no tempo de execução do código implementado no item 3?"
   ],
   "metadata": {
    "collapsed": false
   }
  },
  {
   "cell_type": "code",
   "execution_count": 32,
   "outputs": [
    {
     "name": "stdout",
     "output_type": "stream",
     "text": [
      "Time for Newton method with inverse:  0.008663415908813477\n",
      "Time for Newton method:  0.001567840576171875\n",
      "Speedup:  5.526\n"
     ]
    }
   ],
   "source": [
    "time_inverse = timeit(lambda: newton_method_inverse(f, np.array([0, 0, 0])))[0]\n",
    "time_newton = timeit(lambda: newton_method(f, np.array([0, 0, 0])))[0]\n",
    "\n",
    "print(\"Time for Newton method with inverse: \", time_inverse)\n",
    "print(\"Time for Newton method: \", time_newton)\n",
    "print(\"Speedup: \", np.round(time_inverse / time_newton, 3))"
   ],
   "metadata": {
    "collapsed": false,
    "ExecuteTime": {
     "end_time": "2023-05-19T03:12:46.272109400Z",
     "start_time": "2023-05-19T03:12:46.204135400Z"
    }
   }
  },
  {
   "cell_type": "markdown",
   "source": [
    "### d) Finalmente, com os resultados a, b e R, utilizando a equação do círculo dada por $(x−a)^2 + (y −b)^2 = R^2$,\n",
    "### imprima o gráfico que representa esse círculo"
   ],
   "metadata": {
    "collapsed": false
   }
  },
  {
   "cell_type": "code",
   "execution_count": 33,
   "outputs": [
    {
     "data": {
      "text/plain": "<Figure size 640x480 with 1 Axes>",
      "image/png": "[encoded data removed]"
     },
     "metadata": {},
     "output_type": "display_data"
    },
    {
     "name": "stdout",
     "output_type": "stream",
     "text": [
      "a:  4.8301056542974524365 b:  3.9699216766345842848 R:  5.2138243072360282554\n"
     ]
    }
   ],
   "source": [
    "from matplotlib import pyplot as plt, patches\n",
    "\n",
    "fig = plt.figure()\n",
    "ax = fig.add_subplot()\n",
    "circle1 = patches.Circle((y[0], y[1]), radius=y[2])\n",
    "ax.add_patch(circle1)\n",
    "ax.axis('equal')\n",
    "plt.show()\n",
    "print(\"a: \", y[0], \"b: \", y[1], \"R: \", y[2])"
   ],
   "metadata": {
    "collapsed": false,
    "ExecuteTime": {
     "end_time": "2023-05-19T03:12:50.263243700Z",
     "start_time": "2023-05-19T03:12:49.135081400Z"
    }
   }
  }
 ],
 "metadata": {
  "kernelspec": {
   "display_name": "Python 3",
   "language": "python",
   "name": "python3"
  },
  "language_info": {
   "codemirror_mode": {
    "name": "ipython",
    "version": 2
   },
   "file_extension": ".py",
   "mimetype": "text/x-python",
   "name": "python",
   "nbconvert_exporter": "python",
   "pygments_lexer": "ipython2",
   "version": "2.7.6"
  }
 },
 "nbformat": 4,
 "nbformat_minor": 0
}
