{
 "cells": [
  {
   "cell_type": "code",
   "execution_count": null,
   "outputs": [],
   "source": [
    "import numpy as np\n",
    "import scipy\n",
    "import time"
   ],
   "metadata": {
    "collapsed": false,
    "ExecuteTime": {
     "end_time": "2023-05-18T05:58:39.607621400Z",
     "start_time": "2023-05-18T05:58:39.318093500Z"
    }
   }
  },
  {
   "cell_type": "markdown",
   "source": [
    "**Nome**: *Rafael Zimmer*\n",
    "**nUsp**: *12542612*"
   ],
   "metadata": {
    "collapsed": false
   }
  },
  {
   "cell_type": "markdown",
   "source": [
    "# 1 Sistemas Lineares com Matrizes Simétricas\n",
    "## 1) Considere a matriz A e o vetor b dados abaixo\n",
    "\n",
    "$$\n",
    "A = \\begin{bmatrix}\n",
    "100 & -4 & 0 & ... \\\\\n",
    "-4 & 100 & 4 & ... \\\\\n",
    "0 & -4 & 100 & ... \\\\\n",
    "0 & 0 & -4 & ... \\\\\n",
    "\\vdots & \\vdots & \\vdots & \\vdots \\\\\n",
    "... & ... & -4 & 100\n",
    "\\end{bmatrix},\n",
    "b = \\begin{bmatrix}\n",
    "1/n^4 \\\\\n",
    "1/n^4 \\\\\n",
    "\\vdots \\\\\n",
    "1/n^4\n",
    "\\end{bmatrix}\n",
    "$$\n",
    "\n",
    "### Seja $n$ a dimensão do problema."
   ],
   "metadata": {
    "collapsed": false
   }
  },
  {
   "cell_type": "markdown",
   "source": [
    "### a) Escreva um código que monte a matriz $A$ para $n = 1000$"
   ],
   "metadata": {
    "collapsed": false
   }
  },
  {
   "cell_type": "code",
   "execution_count": null,
   "metadata": {
    "collapsed": true,
    "ExecuteTime": {
     "end_time": "2023-05-18T05:58:39.628619800Z",
     "start_time": "2023-05-18T05:58:39.623619500Z"
    }
   },
   "outputs": [],
   "source": [
    "def to_float(function):\n",
    "    def converted(*args):\n",
    "        return function(*[np.array(arg, dtype=np.float64) for arg in args])\n",
    "\n",
    "    return converted\n",
    "\n",
    "n = 1000\n",
    "\n",
    "def create_A(n):\n",
    "    A = np.zeros((n,n))\n",
    "    A[0, 0] = 100\n",
    "    A[0, 1] = -4\n",
    "    A[-1, -1] = 100\n",
    "    A[-1, -2] = -4\n",
    "\n",
    "    for i in range(1, n - 1):\n",
    "        A[i, i - 1] = -4\n",
    "        A[i, i] = 100\n",
    "        A[i, i + 1] = -4\n",
    "\n",
    "    return A\n",
    "\n",
    "def create_b(n):\n",
    "    b = np.zeros(n)\n",
    "    b[:] = 1 / n ** 4\n",
    "    return b.T\n",
    "\n",
    "A = create_A(n)\n",
    "b = create_b(n)"
   ]
  },
  {
   "cell_type": "code",
   "execution_count": null,
   "outputs": [
    {
     "name": "stdout",
     "output_type": "stream",
     "text": [
      "[[100.  -4.   0. ...   0.   0.   0.]\n",
      " [ -4. 100.  -4. ...   0.   0.   0.]\n",
      " [  0.  -4. 100. ...   0.   0.   0.]\n",
      " ...\n",
      " [  0.   0.   0. ... 100.  -4.   0.]\n",
      " [  0.   0.   0. ...  -4. 100.  -4.]\n",
      " [  0.   0.   0. ...   0.  -4. 100.]]\n",
      "[1.e-12 1.e-12 1.e-12 1.e-12 1.e-12 1.e-12 1.e-12 1.e-12 1.e-12 1.e-12\n",
      " 1.e-12 1.e-12 1.e-12 1.e-12 1.e-12 1.e-12 1.e-12 1.e-12 1.e-12 1.e-12\n",
      " 1.e-12 1.e-12 1.e-12 1.e-12 1.e-12 1.e-12 1.e-12 1.e-12 1.e-12 1.e-12\n",
      " 1.e-12 1.e-12 1.e-12 1.e-12 1.e-12 1.e-12 1.e-12 1.e-12 1.e-12 1.e-12\n",
      " 1.e-12 1.e-12 1.e-12 1.e-12 1.e-12 1.e-12 1.e-12 1.e-12 1.e-12 1.e-12\n",
      " 1.e-12 1.e-12 1.e-12 1.e-12 1.e-12 1.e-12 1.e-12 1.e-12 1.e-12 1.e-12\n",
      " 1.e-12 1.e-12 1.e-12 1.e-12 1.e-12 1.e-12 1.e-12 1.e-12 1.e-12 1.e-12\n",
      " 1.e-12 1.e-12 1.e-12 1.e-12 1.e-12 1.e-12 1.e-12 1.e-12 1.e-12 1.e-12\n",
      " 1.e-12 1.e-12 1.e-12 1.e-12 1.e-12 1.e-12 1.e-12 1.e-12 1.e-12 1.e-12\n",
      " 1.e-12 1.e-12 1.e-12 1.e-12 1.e-12 1.e-12 1.e-12 1.e-12 1.e-12 1.e-12\n",
      " 1.e-12 1.e-12 1.e-12 1.e-12 1.e-12 1.e-12 1.e-12 1.e-12 1.e-12 1.e-12\n",
      " 1.e-12 1.e-12 1.e-12 1.e-12 1.e-12 1.e-12 1.e-12 1.e-12 1.e-12 1.e-12\n",
      " 1.e-12 1.e-12 1.e-12 1.e-12 1.e-12 1.e-12 1.e-12 1.e-12 1.e-12 1.e-12\n",
      " 1.e-12 1.e-12 1.e-12 1.e-12 1.e-12 1.e-12 1.e-12 1.e-12 1.e-12 1.e-12\n",
      " 1.e-12 1.e-12 1.e-12 1.e-12 1.e-12 1.e-12 1.e-12 1.e-12 1.e-12 1.e-12\n",
      " 1.e-12 1.e-12 1.e-12 1.e-12 1.e-12 1.e-12 1.e-12 1.e-12 1.e-12 1.e-12\n",
      " 1.e-12 1.e-12 1.e-12 1.e-12 1.e-12 1.e-12 1.e-12 1.e-12 1.e-12 1.e-12\n",
      " 1.e-12 1.e-12 1.e-12 1.e-12 1.e-12 1.e-12 1.e-12 1.e-12 1.e-12 1.e-12\n",
      " 1.e-12 1.e-12 1.e-12 1.e-12 1.e-12 1.e-12 1.e-12 1.e-12 1.e-12 1.e-12\n",
      " 1.e-12 1.e-12 1.e-12 1.e-12 1.e-12 1.e-12 1.e-12 1.e-12 1.e-12 1.e-12\n",
      " 1.e-12 1.e-12 1.e-12 1.e-12 1.e-12 1.e-12 1.e-12 1.e-12 1.e-12 1.e-12\n",
      " 1.e-12 1.e-12 1.e-12 1.e-12 1.e-12 1.e-12 1.e-12 1.e-12 1.e-12 1.e-12\n",
      " 1.e-12 1.e-12 1.e-12 1.e-12 1.e-12 1.e-12 1.e-12 1.e-12 1.e-12 1.e-12\n",
      " 1.e-12 1.e-12 1.e-12 1.e-12 1.e-12 1.e-12 1.e-12 1.e-12 1.e-12 1.e-12\n",
      " 1.e-12 1.e-12 1.e-12 1.e-12 1.e-12 1.e-12 1.e-12 1.e-12 1.e-12 1.e-12\n",
      " 1.e-12 1.e-12 1.e-12 1.e-12 1.e-12 1.e-12 1.e-12 1.e-12 1.e-12 1.e-12\n",
      " 1.e-12 1.e-12 1.e-12 1.e-12 1.e-12 1.e-12 1.e-12 1.e-12 1.e-12 1.e-12\n",
      " 1.e-12 1.e-12 1.e-12 1.e-12 1.e-12 1.e-12 1.e-12 1.e-12 1.e-12 1.e-12\n",
      " 1.e-12 1.e-12 1.e-12 1.e-12 1.e-12 1.e-12 1.e-12 1.e-12 1.e-12 1.e-12\n",
      " 1.e-12 1.e-12 1.e-12 1.e-12 1.e-12 1.e-12 1.e-12 1.e-12 1.e-12 1.e-12\n",
      " 1.e-12 1.e-12 1.e-12 1.e-12 1.e-12 1.e-12 1.e-12 1.e-12 1.e-12 1.e-12\n",
      " 1.e-12 1.e-12 1.e-12 1.e-12 1.e-12 1.e-12 1.e-12 1.e-12 1.e-12 1.e-12\n",
      " 1.e-12 1.e-12 1.e-12 1.e-12 1.e-12 1.e-12 1.e-12 1.e-12 1.e-12 1.e-12\n",
      " 1.e-12 1.e-12 1.e-12 1.e-12 1.e-12 1.e-12 1.e-12 1.e-12 1.e-12 1.e-12\n",
      " 1.e-12 1.e-12 1.e-12 1.e-12 1.e-12 1.e-12 1.e-12 1.e-12 1.e-12 1.e-12\n",
      " 1.e-12 1.e-12 1.e-12 1.e-12 1.e-12 1.e-12 1.e-12 1.e-12 1.e-12 1.e-12\n",
      " 1.e-12 1.e-12 1.e-12 1.e-12 1.e-12 1.e-12 1.e-12 1.e-12 1.e-12 1.e-12\n",
      " 1.e-12 1.e-12 1.e-12 1.e-12 1.e-12 1.e-12 1.e-12 1.e-12 1.e-12 1.e-12\n",
      " 1.e-12 1.e-12 1.e-12 1.e-12 1.e-12 1.e-12 1.e-12 1.e-12 1.e-12 1.e-12\n",
      " 1.e-12 1.e-12 1.e-12 1.e-12 1.e-12 1.e-12 1.e-12 1.e-12 1.e-12 1.e-12\n",
      " 1.e-12 1.e-12 1.e-12 1.e-12 1.e-12 1.e-12 1.e-12 1.e-12 1.e-12 1.e-12\n",
      " 1.e-12 1.e-12 1.e-12 1.e-12 1.e-12 1.e-12 1.e-12 1.e-12 1.e-12 1.e-12\n",
      " 1.e-12 1.e-12 1.e-12 1.e-12 1.e-12 1.e-12 1.e-12 1.e-12 1.e-12 1.e-12\n",
      " 1.e-12 1.e-12 1.e-12 1.e-12 1.e-12 1.e-12 1.e-12 1.e-12 1.e-12 1.e-12\n",
      " 1.e-12 1.e-12 1.e-12 1.e-12 1.e-12 1.e-12 1.e-12 1.e-12 1.e-12 1.e-12\n",
      " 1.e-12 1.e-12 1.e-12 1.e-12 1.e-12 1.e-12 1.e-12 1.e-12 1.e-12 1.e-12\n",
      " 1.e-12 1.e-12 1.e-12 1.e-12 1.e-12 1.e-12 1.e-12 1.e-12 1.e-12 1.e-12\n",
      " 1.e-12 1.e-12 1.e-12 1.e-12 1.e-12 1.e-12 1.e-12 1.e-12 1.e-12 1.e-12\n",
      " 1.e-12 1.e-12 1.e-12 1.e-12 1.e-12 1.e-12 1.e-12 1.e-12 1.e-12 1.e-12\n",
      " 1.e-12 1.e-12 1.e-12 1.e-12 1.e-12 1.e-12 1.e-12 1.e-12 1.e-12 1.e-12\n",
      " 1.e-12 1.e-12 1.e-12 1.e-12 1.e-12 1.e-12 1.e-12 1.e-12 1.e-12 1.e-12\n",
      " 1.e-12 1.e-12 1.e-12 1.e-12 1.e-12 1.e-12 1.e-12 1.e-12 1.e-12 1.e-12\n",
      " 1.e-12 1.e-12 1.e-12 1.e-12 1.e-12 1.e-12 1.e-12 1.e-12 1.e-12 1.e-12\n",
      " 1.e-12 1.e-12 1.e-12 1.e-12 1.e-12 1.e-12 1.e-12 1.e-12 1.e-12 1.e-12\n",
      " 1.e-12 1.e-12 1.e-12 1.e-12 1.e-12 1.e-12 1.e-12 1.e-12 1.e-12 1.e-12\n",
      " 1.e-12 1.e-12 1.e-12 1.e-12 1.e-12 1.e-12 1.e-12 1.e-12 1.e-12 1.e-12\n",
      " 1.e-12 1.e-12 1.e-12 1.e-12 1.e-12 1.e-12 1.e-12 1.e-12 1.e-12 1.e-12\n",
      " 1.e-12 1.e-12 1.e-12 1.e-12 1.e-12 1.e-12 1.e-12 1.e-12 1.e-12 1.e-12\n",
      " 1.e-12 1.e-12 1.e-12 1.e-12 1.e-12 1.e-12 1.e-12 1.e-12 1.e-12 1.e-12\n",
      " 1.e-12 1.e-12 1.e-12 1.e-12 1.e-12 1.e-12 1.e-12 1.e-12 1.e-12 1.e-12\n",
      " 1.e-12 1.e-12 1.e-12 1.e-12 1.e-12 1.e-12 1.e-12 1.e-12 1.e-12 1.e-12\n",
      " 1.e-12 1.e-12 1.e-12 1.e-12 1.e-12 1.e-12 1.e-12 1.e-12 1.e-12 1.e-12\n",
      " 1.e-12 1.e-12 1.e-12 1.e-12 1.e-12 1.e-12 1.e-12 1.e-12 1.e-12 1.e-12\n",
      " 1.e-12 1.e-12 1.e-12 1.e-12 1.e-12 1.e-12 1.e-12 1.e-12 1.e-12 1.e-12\n",
      " 1.e-12 1.e-12 1.e-12 1.e-12 1.e-12 1.e-12 1.e-12 1.e-12 1.e-12 1.e-12\n",
      " 1.e-12 1.e-12 1.e-12 1.e-12 1.e-12 1.e-12 1.e-12 1.e-12 1.e-12 1.e-12\n",
      " 1.e-12 1.e-12 1.e-12 1.e-12 1.e-12 1.e-12 1.e-12 1.e-12 1.e-12 1.e-12\n",
      " 1.e-12 1.e-12 1.e-12 1.e-12 1.e-12 1.e-12 1.e-12 1.e-12 1.e-12 1.e-12\n",
      " 1.e-12 1.e-12 1.e-12 1.e-12 1.e-12 1.e-12 1.e-12 1.e-12 1.e-12 1.e-12\n",
      " 1.e-12 1.e-12 1.e-12 1.e-12 1.e-12 1.e-12 1.e-12 1.e-12 1.e-12 1.e-12\n",
      " 1.e-12 1.e-12 1.e-12 1.e-12 1.e-12 1.e-12 1.e-12 1.e-12 1.e-12 1.e-12\n",
      " 1.e-12 1.e-12 1.e-12 1.e-12 1.e-12 1.e-12 1.e-12 1.e-12 1.e-12 1.e-12\n",
      " 1.e-12 1.e-12 1.e-12 1.e-12 1.e-12 1.e-12 1.e-12 1.e-12 1.e-12 1.e-12\n",
      " 1.e-12 1.e-12 1.e-12 1.e-12 1.e-12 1.e-12 1.e-12 1.e-12 1.e-12 1.e-12\n",
      " 1.e-12 1.e-12 1.e-12 1.e-12 1.e-12 1.e-12 1.e-12 1.e-12 1.e-12 1.e-12\n",
      " 1.e-12 1.e-12 1.e-12 1.e-12 1.e-12 1.e-12 1.e-12 1.e-12 1.e-12 1.e-12\n",
      " 1.e-12 1.e-12 1.e-12 1.e-12 1.e-12 1.e-12 1.e-12 1.e-12 1.e-12 1.e-12\n",
      " 1.e-12 1.e-12 1.e-12 1.e-12 1.e-12 1.e-12 1.e-12 1.e-12 1.e-12 1.e-12\n",
      " 1.e-12 1.e-12 1.e-12 1.e-12 1.e-12 1.e-12 1.e-12 1.e-12 1.e-12 1.e-12\n",
      " 1.e-12 1.e-12 1.e-12 1.e-12 1.e-12 1.e-12 1.e-12 1.e-12 1.e-12 1.e-12\n",
      " 1.e-12 1.e-12 1.e-12 1.e-12 1.e-12 1.e-12 1.e-12 1.e-12 1.e-12 1.e-12\n",
      " 1.e-12 1.e-12 1.e-12 1.e-12 1.e-12 1.e-12 1.e-12 1.e-12 1.e-12 1.e-12\n",
      " 1.e-12 1.e-12 1.e-12 1.e-12 1.e-12 1.e-12 1.e-12 1.e-12 1.e-12 1.e-12\n",
      " 1.e-12 1.e-12 1.e-12 1.e-12 1.e-12 1.e-12 1.e-12 1.e-12 1.e-12 1.e-12\n",
      " 1.e-12 1.e-12 1.e-12 1.e-12 1.e-12 1.e-12 1.e-12 1.e-12 1.e-12 1.e-12\n",
      " 1.e-12 1.e-12 1.e-12 1.e-12 1.e-12 1.e-12 1.e-12 1.e-12 1.e-12 1.e-12\n",
      " 1.e-12 1.e-12 1.e-12 1.e-12 1.e-12 1.e-12 1.e-12 1.e-12 1.e-12 1.e-12\n",
      " 1.e-12 1.e-12 1.e-12 1.e-12 1.e-12 1.e-12 1.e-12 1.e-12 1.e-12 1.e-12\n",
      " 1.e-12 1.e-12 1.e-12 1.e-12 1.e-12 1.e-12 1.e-12 1.e-12 1.e-12 1.e-12\n",
      " 1.e-12 1.e-12 1.e-12 1.e-12 1.e-12 1.e-12 1.e-12 1.e-12 1.e-12 1.e-12\n",
      " 1.e-12 1.e-12 1.e-12 1.e-12 1.e-12 1.e-12 1.e-12 1.e-12 1.e-12 1.e-12\n",
      " 1.e-12 1.e-12 1.e-12 1.e-12 1.e-12 1.e-12 1.e-12 1.e-12 1.e-12 1.e-12\n",
      " 1.e-12 1.e-12 1.e-12 1.e-12 1.e-12 1.e-12 1.e-12 1.e-12 1.e-12 1.e-12\n",
      " 1.e-12 1.e-12 1.e-12 1.e-12 1.e-12 1.e-12 1.e-12 1.e-12 1.e-12 1.e-12\n",
      " 1.e-12 1.e-12 1.e-12 1.e-12 1.e-12 1.e-12 1.e-12 1.e-12 1.e-12 1.e-12\n",
      " 1.e-12 1.e-12 1.e-12 1.e-12 1.e-12 1.e-12 1.e-12 1.e-12 1.e-12 1.e-12\n",
      " 1.e-12 1.e-12 1.e-12 1.e-12 1.e-12 1.e-12 1.e-12 1.e-12 1.e-12 1.e-12\n",
      " 1.e-12 1.e-12 1.e-12 1.e-12 1.e-12 1.e-12 1.e-12 1.e-12 1.e-12 1.e-12\n",
      " 1.e-12 1.e-12 1.e-12 1.e-12 1.e-12 1.e-12 1.e-12 1.e-12 1.e-12 1.e-12\n",
      " 1.e-12 1.e-12 1.e-12 1.e-12 1.e-12 1.e-12 1.e-12 1.e-12 1.e-12 1.e-12]\n"
     ]
    }
   ],
   "source": [
    "print(A)\n",
    "print(b)"
   ],
   "metadata": {
    "collapsed": false,
    "ExecuteTime": {
     "end_time": "2023-05-18T05:58:39.675618500Z",
     "start_time": "2023-05-18T05:58:39.627621600Z"
    }
   }
  },
  {
   "cell_type": "markdown",
   "source": [
    "### b) Escreva um código que faça a decomposição de Cholesky de uma matriz simétrica definida positiva qualquer."
   ],
   "metadata": {
    "collapsed": false
   }
  },
  {
   "cell_type": "code",
   "execution_count": null,
   "outputs": [],
   "source": [
    "@to_float\n",
    "def cholesky(A):\n",
    "    H = np.zeros_like(A)\n",
    "\n",
    "    for i in range(len(A)):\n",
    "        for j in range(i + 1):\n",
    "            s = np.sum(H[i, :j] * H[j, :j])\n",
    "            if i == j:\n",
    "                H[i, j] = np.sqrt(A[i, j] - s)\n",
    "            else:\n",
    "                H[i, j] = (A[i, j] - s) / H[j, j]\n",
    "    return H"
   ],
   "metadata": {
    "collapsed": false,
    "ExecuteTime": {
     "end_time": "2023-05-18T05:58:39.675618500Z",
     "start_time": "2023-05-18T05:58:39.654630Z"
    }
   }
  },
  {
   "cell_type": "code",
   "execution_count": null,
   "outputs": [],
   "source": [
    "H = cholesky(A)"
   ],
   "metadata": {
    "collapsed": false,
    "ExecuteTime": {
     "end_time": "2023-05-18T05:58:45.519423200Z",
     "start_time": "2023-05-18T05:58:39.661620300Z"
    }
   }
  },
  {
   "cell_type": "code",
   "execution_count": null,
   "outputs": [
    {
     "name": "stdout",
     "output_type": "stream",
     "text": [
      "True\n"
     ]
    }
   ],
   "source": [
    "print(np.all(np.isclose(H, np.linalg.cholesky(A))))"
   ],
   "metadata": {
    "collapsed": false,
    "ExecuteTime": {
     "end_time": "2023-05-18T05:58:45.669082400Z",
     "start_time": "2023-05-18T05:58:45.523424200Z"
    }
   }
  },
  {
   "cell_type": "markdown",
   "source": [
    "### c) Usando as rotinas implementadas anteriormente, escreva um código para resolver um sistema $A \\cdot x = b$."
   ],
   "metadata": {
    "collapsed": false
   }
  },
  {
   "cell_type": "code",
   "execution_count": null,
   "outputs": [],
   "source": [
    "@to_float\n",
    "def forward_sub(L, b):\n",
    "    y = np.zeros_like(b, dtype=np.float32)\n",
    "\n",
    "    for i in range(len(L)):\n",
    "        y[i] = (b[i] - np.dot(L[i, :i+1], y[:i+1])) / L[i, i]\n",
    "\n",
    "    return y\n",
    "\n",
    "@to_float\n",
    "def back_sub(U, b):\n",
    "    x = np.zeros_like(b, dtype=np.float32)\n",
    "\n",
    "    for i in range(len(U) - 1, -1, -1):\n",
    "        x[i] = (b[i] - np.dot(U[i, i + 1:], x[i + 1:])) / (U[i, i] if U[i, i] != 0 else 1)\n",
    "\n",
    "    return x\n",
    "\n",
    "@to_float\n",
    "def solve_triangular(H, b):\n",
    "\n",
    "    y = forward_sub(H, b)\n",
    "    x = back_sub(H.T, y)\n",
    "\n",
    "    return x"
   ],
   "metadata": {
    "collapsed": false,
    "ExecuteTime": {
     "end_time": "2023-05-18T05:58:45.699082Z",
     "start_time": "2023-05-18T05:58:45.667084300Z"
    }
   }
  },
  {
   "cell_type": "code",
   "execution_count": null,
   "outputs": [],
   "source": [
    "x = solve_triangular(H, b)"
   ],
   "metadata": {
    "collapsed": false,
    "ExecuteTime": {
     "end_time": "2023-05-18T05:58:45.744090200Z",
     "start_time": "2023-05-18T05:58:45.673081400Z"
    }
   }
  },
  {
   "cell_type": "code",
   "execution_count": null,
   "outputs": [
    {
     "name": "stdout",
     "output_type": "stream",
     "text": [
      "True\n"
     ]
    }
   ],
   "source": [
    "print(np.all(np.isclose(x, np.linalg.solve(A, b))))"
   ],
   "metadata": {
    "collapsed": false,
    "ExecuteTime": {
     "end_time": "2023-05-18T05:58:45.779814600Z",
     "start_time": "2023-05-18T05:58:45.729085500Z"
    }
   }
  },
  {
   "cell_type": "markdown",
   "source": [
    "### d) Escreva um código implementando o método de Jacobi para resolver um sistema $Ax = b$.\n",
    "### Utilize o erro absoluto como critério de parada."
   ],
   "metadata": {
    "collapsed": false
   }
  },
  {
   "cell_type": "code",
   "execution_count": 13,
   "outputs": [],
   "source": [
    "def abs_error(a, b):\n",
    "    return np.linalg.norm(b - a)\n",
    "\n",
    "@to_float\n",
    "def gauss_jacobi(A, b, eps=1e-6):\n",
    "    x = np.zeros_like(b)\n",
    "    k = min(1e4, eps ** -1)\n",
    "    iterations = 0\n",
    "\n",
    "    D = np.diag(A)\n",
    "    C = A - np.diagflat(D)\n",
    "\n",
    "    while abs_error(np.dot(A, x), b) > eps and iterations < k:\n",
    "        x = (b - np.dot(C, x)) / D\n",
    "        iterations += 1\n",
    "\n",
    "    if iterations == k:\n",
    "        raise ValueError(\"Solution is not convergent\")\n",
    "\n",
    "    return x, iterations"
   ],
   "metadata": {
    "collapsed": false,
    "ExecuteTime": {
     "end_time": "2023-05-18T06:05:23.526471100Z",
     "start_time": "2023-05-18T06:05:23.501470100Z"
    }
   }
  },
  {
   "cell_type": "code",
   "execution_count": 14,
   "outputs": [
    {
     "name": "stdout",
     "output_type": "stream",
     "text": [
      "True\n"
     ]
    }
   ],
   "source": [
    "x, _ = gauss_jacobi(A, b)\n",
    "\n",
    "print(np.all(np.isclose(x, np.linalg.solve(A, b))))"
   ],
   "metadata": {
    "collapsed": false,
    "ExecuteTime": {
     "end_time": "2023-05-18T06:05:26.202229700Z",
     "start_time": "2023-05-18T06:05:26.126223500Z"
    }
   }
  },
  {
   "cell_type": "markdown",
   "source": [
    "### e) Vamos comparar o método direto de Cholesky com o iterativo de Jacobi neste exemplo.\n",
    "### Observe quanto tempo leva para resolver o sistema usando Cholesky.\n",
    "### Quantas iterações foram necessárias no método de Jacobi para obtermos a mesma precisão da solução dada pelo método de Cholesky ?"
   ],
   "metadata": {
    "collapsed": false
   }
  },
  {
   "cell_type": "code",
   "execution_count": 15,
   "outputs": [],
   "source": [
    "def timeit(function, *args, **kwargs):\n",
    "    start = time.time()\n",
    "    out = function(*args, **kwargs)\n",
    "    end = time.time()\n",
    "\n",
    "    return end - start, out"
   ],
   "metadata": {
    "collapsed": false,
    "ExecuteTime": {
     "end_time": "2023-05-18T06:05:44.988071600Z",
     "start_time": "2023-05-18T06:05:44.982074400Z"
    }
   }
  },
  {
   "cell_type": "code",
   "execution_count": 16,
   "outputs": [
    {
     "name": "stdout",
     "output_type": "stream",
     "text": [
      "Time for solving using Gauss-Jacobi algorithm: 0.011240005493164062 with a total of 0 iterations\n"
     ]
    }
   ],
   "source": [
    "duration, out = timeit(gauss_jacobi, A, b)\n",
    "print(\"Time for solving using Gauss-Jacobi algorithm: \" + str(duration) + \" with a total of \" + str(out[1]) + \" iterations\")"
   ],
   "metadata": {
    "collapsed": false,
    "ExecuteTime": {
     "end_time": "2023-05-18T06:05:46.513583600Z",
     "start_time": "2023-05-18T06:05:46.430575500Z"
    }
   }
  },
  {
   "cell_type": "code",
   "execution_count": 17,
   "outputs": [
    {
     "name": "stdout",
     "output_type": "stream",
     "text": [
      "Time for decomposing using Cholesky algortihm: 6.202816486358643\n"
     ]
    }
   ],
   "source": [
    "print(\"Time for decomposing using Cholesky algortihm: \" + str(timeit(cholesky, A)[0]))"
   ],
   "metadata": {
    "collapsed": false,
    "ExecuteTime": {
     "end_time": "2023-05-18T06:05:54.040185400Z",
     "start_time": "2023-05-18T06:05:47.767746Z"
    }
   }
  },
  {
   "cell_type": "code",
   "execution_count": 18,
   "outputs": [
    {
     "name": "stdout",
     "output_type": "stream",
     "text": [
      "Time for solving using lower triangular matrix: 0.026048660278320312\n"
     ]
    }
   ],
   "source": [
    "print(\"Time for solving using lower triangular matrix: \" + str(timeit(solve_triangular, H, b)[0]))"
   ],
   "metadata": {
    "collapsed": false,
    "ExecuteTime": {
     "end_time": "2023-05-18T06:05:55.871685600Z",
     "start_time": "2023-05-18T06:05:55.804682600Z"
    }
   }
  },
  {
   "cell_type": "markdown",
   "source": [
    "### f) É possível melhorar a implementação da decomposição de Cholesky para o exemplo em questão ?"
   ],
   "metadata": {
    "collapsed": false
   }
  },
  {
   "cell_type": "code",
   "execution_count": 19,
   "outputs": [],
   "source": [
    "# Não é necessário rodar o Cholesky para toda a matriz, dado que ela é esparsa, basta limitar os valores de i e j para a diagonal e as colunas adjacentes."
   ],
   "metadata": {
    "collapsed": false,
    "ExecuteTime": {
     "end_time": "2023-05-18T06:06:00.867404100Z",
     "start_time": "2023-05-18T06:06:00.841405900Z"
    }
   }
  },
  {
   "cell_type": "code",
   "execution_count": 20,
   "outputs": [],
   "source": [
    "@to_float\n",
    "def cholesky_sparse(A):\n",
    "    H = np.zeros_like(A)  # Initialize the sparse Cholesky factor\n",
    "\n",
    "    for i in range(len(A)):\n",
    "        for j in range(i + 1):\n",
    "            s = H[i, :j].dot(H[j, :j].T)  # Use dot product for sparse matrices\n",
    "            if i == j:\n",
    "                H[i, j] = np.sqrt(A[i, j] - s)\n",
    "            else:\n",
    "                H[i, j] = (A[i, j] - s) / H[j, j]\n",
    "\n",
    "    return H"
   ],
   "metadata": {
    "collapsed": false,
    "ExecuteTime": {
     "end_time": "2023-05-18T06:06:01.420904900Z",
     "start_time": "2023-05-18T06:06:01.415904600Z"
    }
   }
  },
  {
   "cell_type": "code",
   "execution_count": 21,
   "outputs": [
    {
     "name": "stdout",
     "output_type": "stream",
     "text": [
      "Time for decomposing using Sparse Cholesky algortihm: 2.368556499481201\n"
     ]
    }
   ],
   "source": [
    "print(\"Time for decomposing using Sparse Cholesky algortihm: \" + str(timeit(cholesky_sparse, A)[0]))"
   ],
   "metadata": {
    "collapsed": false,
    "ExecuteTime": {
     "end_time": "2023-05-18T06:06:05.038731400Z",
     "start_time": "2023-05-18T06:06:02.589757900Z"
    }
   }
  },
  {
   "cell_type": "markdown",
   "source": [
    "# 2 Método de Newton Para Sistemas Não-Lineares"
   ],
   "metadata": {
    "collapsed": false
   }
  },
  {
   "cell_type": "markdown",
   "source": [
    "## 1) Observando a equação (4), vê-se a necessidade de calcular a matriz inversa da Jacobiana.\n",
    "## É possível calcular matrizes inversas usando a decomposição LU, sendo assim, implemente um  código que:"
   ],
   "metadata": {
    "collapsed": false
   }
  },
  {
   "cell_type": "markdown",
   "source": [
    "### a) Calcule a fatoração LU de uma matriz qualquer;"
   ],
   "metadata": {
    "collapsed": false
   }
  },
  {
   "cell_type": "code",
   "execution_count": 22,
   "outputs": [],
   "source": [
    "A = np.random.rand(10, 10)\n",
    "b = np.random.rand(10)"
   ],
   "metadata": {
    "collapsed": false,
    "ExecuteTime": {
     "end_time": "2023-05-18T06:06:07.046007100Z",
     "start_time": "2023-05-18T06:06:07.040005600Z"
    }
   }
  },
  {
   "cell_type": "code",
   "execution_count": 23,
   "outputs": [],
   "source": [
    "@to_float\n",
    "def lu_decomp(A):\n",
    "    n = len(A)\n",
    "    L = np.eye(n)\n",
    "    U = np.copy(A)\n",
    "\n",
    "    for k in range(n - 1):\n",
    "        pivot_index = np.argmax(np.abs(U[k:, k])) + k\n",
    "        U[[k, pivot_index], :] = U[[pivot_index, k], :]\n",
    "        L[[k, pivot_index], :k] = L[[pivot_index, k], :k]\n",
    "\n",
    "        for i in range(k + 1, n):\n",
    "            if U[k, k] != 0:\n",
    "                L[i, k] = U[i, k] / U[k, k]\n",
    "            else:\n",
    "                L[i, k] = 0\n",
    "            U[i, k:] -= L[i, k] * U[k, k:]\n",
    "\n",
    "    return L, U\n",
    "\n",
    "@to_float\n",
    "def lu_solve(A, b):\n",
    "    L, U = lu_decomp(A)\n",
    "\n",
    "    y = forward_sub(L, b)\n",
    "    x = back_sub(U, y)\n",
    "\n",
    "    return x\n",
    "\n",
    "@to_float\n",
    "def solve(A, b):\n",
    "    n = len(A)\n",
    "    U = np.copy(A)\n",
    "    y = np.copy(b)\n",
    "\n",
    "    for k in range(n - 1):\n",
    "\n",
    "        p = np.argmax(abs(U[k:, k])) + k\n",
    "\n",
    "        U[[k, p], :] = U[[p, k], :]\n",
    "        y[[k, p]] = y[[p, k]]\n",
    "\n",
    "        for i in range(k + 1, n):\n",
    "            m = -U[i, k] / (U[k, k] if U[k, k] != 0 else 1)\n",
    "            U[i, k:n] += m * U[k, k:n]\n",
    "            y[i] += m * y[k]\n",
    "\n",
    "    return back_sub(U, y)"
   ],
   "metadata": {
    "collapsed": false,
    "ExecuteTime": {
     "end_time": "2023-05-18T06:06:07.631163200Z",
     "start_time": "2023-05-18T06:06:07.580164700Z"
    }
   }
  },
  {
   "cell_type": "code",
   "execution_count": 24,
   "outputs": [
    {
     "name": "stdout",
     "output_type": "stream",
     "text": [
      "True\n",
      "True\n"
     ]
    }
   ],
   "source": [
    "print(np.all(np.isclose(lu_decomp(A)[0], scipy.linalg.lu(A)[1])))\n",
    "print(np.all(np.isclose(lu_decomp(A)[1], scipy.linalg.lu(A)[2])))"
   ],
   "metadata": {
    "collapsed": false,
    "ExecuteTime": {
     "end_time": "2023-05-18T06:06:10.902347200Z",
     "start_time": "2023-05-18T06:06:10.689583300Z"
    }
   }
  },
  {
   "cell_type": "markdown",
   "source": [
    "### b) Resolva um sistema linear cujo lado direito é uma matriz;"
   ],
   "metadata": {
    "collapsed": false
   }
  },
  {
   "cell_type": "code",
   "execution_count": 25,
   "outputs": [
    {
     "data": {
      "text/plain": "False"
     },
     "execution_count": 25,
     "metadata": {},
     "output_type": "execute_result"
    }
   ],
   "source": [
    "lu_solved = lu_solve(A, b)\n",
    "np.all(np.isclose(solve(A, b), scipy.linalg.solve(A, b)))"
   ],
   "metadata": {
    "collapsed": false,
    "ExecuteTime": {
     "end_time": "2023-05-18T06:06:12.459840400Z",
     "start_time": "2023-05-18T06:06:12.446840300Z"
    }
   }
  },
  {
   "cell_type": "markdown",
   "source": [
    "### c) Finalmente, calcule a inversa de uma matriz qualquer resolvendo vários sistemas lineares."
   ],
   "metadata": {
    "collapsed": false
   }
  },
  {
   "cell_type": "code",
   "execution_count": null,
   "outputs": [],
   "source": [
    "def inv(A):\n",
    "    I = np.eye(len(A))\n",
    "    A_inv = np.eye(len(A))\n",
    "\n",
    "    for idx, i in enumerate(I):\n",
    "        A_inv[:, idx] = solve(A, i)\n",
    "\n",
    "    if np.isnan(np.min(A_inv)):\n",
    "        return A\n",
    "\n",
    "    return A_inv"
   ],
   "metadata": {
    "collapsed": false
   }
  },
  {
   "cell_type": "code",
   "execution_count": null,
   "outputs": [],
   "source": [
    "np.all(np.isclose(inv(A), scipy.linalg.inv(A)))"
   ],
   "metadata": {
    "collapsed": false
   }
  },
  {
   "cell_type": "markdown",
   "source": [
    "## 2) Implemente o método de Newton para sistemas usando a rotina implementada no item anterior.\n",
    "## Lembre-se de especificar o critério de parada utilizado.\n",
    "\n",
    "### e\n",
    "\n",
    "## 3) Implemente novamente o método de Newton para sistemas usando o algoritmo anterior.\n",
    "## Utilize as rotinas já implementadas neste trabalho para resolução do sistema linear, indicando sempre qual está usando."
   ],
   "metadata": {
    "collapsed": false
   }
  },
  {
   "cell_type": "code",
   "execution_count": null,
   "outputs": [],
   "source": [
    "def partial_derivatives(f, x, h=1e-6):\n",
    "    x = x.astype(np.float64)\n",
    "    derivatives = np.zeros_like(x)\n",
    "    for i in range(len(x)):\n",
    "        diff_x = np.copy(x)\n",
    "        diff_x[i] += h\n",
    "        y_pos = f(diff_x)\n",
    "\n",
    "        diff_x[i] -= 2 * h\n",
    "        y_neg = f(diff_x)\n",
    "\n",
    "        derivatives[i] = (y_pos - y_neg) / (2 * h)\n",
    "\n",
    "    return derivatives\n",
    "\n",
    "def Jac(f, x, h=1e-8):\n",
    "    x = x.astype(np.float64)\n",
    "    jacobian = np.zeros((len(f), len(x)))\n",
    "\n",
    "    for i in range(len(f)):\n",
    "        jacobian[i] = partial_derivatives(f[i], x, h)\n",
    "\n",
    "    return jacobian"
   ],
   "metadata": {
    "collapsed": false
   }
  },
  {
   "cell_type": "code",
   "execution_count": null,
   "outputs": [],
   "source": [
    "def f1(x):\n",
    "    y = x[0] ** 2 + x[1] ** 2\n",
    "    return y\n",
    "\n",
    "def f2(x):\n",
    "    y = np.sin(x[0] + x[1])\n",
    "    return y"
   ],
   "metadata": {
    "collapsed": false
   }
  },
  {
   "cell_type": "code",
   "execution_count": null,
   "outputs": [],
   "source": [
    "def newton_method_inverse(f, x0, eps=1e-6):\n",
    "    x = x0\n",
    "    k = 0\n",
    "    while not np.all(np.isclose(0, list(map(lambda f_i: f_i(x), f)), atol=eps)):\n",
    "        if k > eps ** -1:\n",
    "            raise ValueError(\"Newton method did not converge\")\n",
    "        x = x - inv(Jac(f, x)) @ np.array(list(map(lambda y: y(x), f)))\n",
    "        k += 1\n",
    "\n",
    "    return x, k\n",
    "\n",
    "def newton_method(f, x0, eps=1e-6):\n",
    "    x = x0\n",
    "    k = 0\n",
    "    while not np.all(np.isclose(0, list(map(lambda f_i: f_i(x), f)), atol=eps)):\n",
    "        if k > eps ** -1:\n",
    "            raise ValueError(\"Newton method did not converge\")\n",
    "        x = x - solve(Jac(f, x), list(map(lambda y: y(x), f)))\n",
    "        k += 1\n",
    "\n",
    "    return x, k"
   ],
   "metadata": {
    "collapsed": false
   }
  },
  {
   "cell_type": "code",
   "execution_count": null,
   "outputs": [],
   "source": [
    "x0 = np.array([1, 0])\n",
    "f = np.array([f1, f2])\n",
    "\n",
    "\n",
    "x_newton_inverse = newton_method_inverse(f, x0, eps=1e-8)[0]\n",
    "x_newton = newton_method(f, x0, eps=1e-8)[0]"
   ],
   "metadata": {
    "collapsed": false
   }
  },
  {
   "cell_type": "code",
   "execution_count": null,
   "outputs": [],
   "source": [
    "print(np.all(np.isclose(0, list(map(lambda f_i: f_i(x_newton), f)))))"
   ],
   "metadata": {
    "collapsed": false
   }
  },
  {
   "cell_type": "code",
   "execution_count": null,
   "outputs": [],
   "source": [
    "time_inverse = timeit(lambda: newton_method_inverse(f, x0, eps=1e-8))[0]\n",
    "time_newton = timeit(lambda: newton_method(f, x0, eps=1e-8))[0]\n",
    "\n",
    "print(\"Time for Newton method with inverse: \", time_inverse)\n",
    "\n",
    "print(\"Time for Newton method: \", time_newton)\n",
    "\n",
    "print(\"Speedup: \", np.round(time_inverse / time_newton, 3))"
   ],
   "metadata": {
    "collapsed": false
   }
  },
  {
   "cell_type": "markdown",
   "source": [
    "### 4) Dada a equação de um círculo $(x − a)^{2} + (y − b)^{2} = R^{2}$ e três pontos que passam por esse círculo\n",
    "\n",
    "|---|------|------|-------|\n",
    "| x | 8.21 | 0.34 | 5.96  |\n",
    "| y | 0.00 | 6.62 | -1.12 |"
   ],
   "metadata": {
    "collapsed": false
   }
  },
  {
   "cell_type": "markdown",
   "source": [
    "$(x - a)^{2} + (y - b)^{2} - R^{2} = 0$\n",
    "\n",
    "Substituindo:\n",
    "P0:\n",
    "$(8.21 - a)^{2} + (b)^{2} - R^{2} = 0$\n",
    "\n",
    "P1:\n",
    "$(0.34 - a)^{2} + (6.62 - b)^{2} - R^{2} = 0$\n",
    "\n",
    "P2:\n",
    "$(5.96 - a)^{2} + (-1.12 - b)^{2} - R^{2} = 0$\n",
    "\n"
   ],
   "metadata": {
    "collapsed": false
   }
  },
  {
   "cell_type": "markdown",
   "source": [
    "### a) Monte um sistema não-linear para determinar a, b e R."
   ],
   "metadata": {
    "collapsed": false
   }
  },
  {
   "cell_type": "code",
   "execution_count": null,
   "outputs": [],
   "source": [
    "p1 = lambda x: (8.21 - x[0]) ** 2 + x[1] ** 2 - x[2] ** 2\n",
    "p2 = lambda x: (0.34 - x[0]) ** 2 + (6.62 - x[1]) ** 2 - x[2] ** 2\n",
    "p3 = lambda x: (5.96 - x[0]) ** 2 + (-1.12 - x[1]) ** 2 - x[2] ** 2\n",
    "\n",
    "f = np.array([p1, p2, p3])"
   ],
   "metadata": {
    "collapsed": false
   }
  },
  {
   "cell_type": "markdown",
   "source": [
    "### b) Resolva o sistema não-linear utilizando os códigos feitos nos itens 2 e 3."
   ],
   "metadata": {
    "collapsed": false
   }
  },
  {
   "cell_type": "code",
   "execution_count": null,
   "outputs": [],
   "source": [
    "y = newton_method(f, np.array([0, 0, 0]))[0]\n",
    "y_inverse = newton_method_inverse(f, np.array([0, 0, 0]))[0]\n",
    "\n",
    "print(np.all(np.isclose(y, y_inverse)))"
   ],
   "metadata": {
    "collapsed": false
   }
  },
  {
   "cell_type": "markdown",
   "source": [
    "### c) Houve melhora no tempo de execução do código implementado no item 3?"
   ],
   "metadata": {
    "collapsed": false
   }
  },
  {
   "cell_type": "code",
   "execution_count": null,
   "outputs": [],
   "source": [
    "time_inverse = timeit(lambda: newton_method_inverse(f, np.array([0, 0, 0])))[0]\n",
    "time_newton = timeit(lambda: newton_method(f, np.array([0, 0, 0])))[0]\n",
    "\n",
    "print(\"Time for Newton method with inverse: \", time_inverse)\n",
    "print(\"Time for Newton method: \", time_newton)\n",
    "print(\"Speedup: \", np.round(time_inverse / time_newton, 3))"
   ],
   "metadata": {
    "collapsed": false
   }
  },
  {
   "cell_type": "markdown",
   "source": [
    "### d) Finalmente, com os resultados a, b e R, utilizando a equação do círculo dada por $(x−a)^2 + (y −b)^2 = R^2$,\n",
    "### imprima o gráfico que representa esse círculo"
   ],
   "metadata": {
    "collapsed": false
   }
  },
  {
   "cell_type": "code",
   "execution_count": null,
   "outputs": [],
   "source": [
    "from matplotlib import pyplot as plt, patches\n",
    "fig = plt.figure()\n",
    "ax = fig.add_subplot()\n",
    "circle1 = patches.Circle((y[0], y[1]), radius=y[2])\n",
    "ax.add_patch(circle1)\n",
    "ax.axis('equal')\n",
    "plt.show()\n",
    "print(\"a: \", y[0], \"b: \", y[1], \"R: \", y[2])"
   ],
   "metadata": {
    "collapsed": false
   }
  },
  {
   "cell_type": "code",
   "execution_count": null,
   "outputs": [],
   "source": [],
   "metadata": {
    "collapsed": false
   }
  }
 ],
 "metadata": {
  "kernelspec": {
   "display_name": "Python 3",
   "language": "python",
   "name": "python3"
  },
  "language_info": {
   "codemirror_mode": {
    "name": "ipython",
    "version": 2
   },
   "file_extension": ".py",
   "mimetype": "text/x-python",
   "name": "python",
   "nbconvert_exporter": "python",
   "pygments_lexer": "ipython2",
   "version": "2.7.6"
  }
 },
 "nbformat": 4,
 "nbformat_minor": 0
}
