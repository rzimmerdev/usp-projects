{
 "nbformat": 4,
 "nbformat_minor": 0,
 "metadata": {
  "colab": {
   "provenance": []
  },
  "kernelspec": {
   "name": "python3",
   "language": "python",
   "display_name": "Python 3 (ipykernel)"
  },
  "language_info": {
   "name": "python"
  }
 },
 "cells": [
  {
   "cell_type": "code",
   "metadata": {
    "colab": {
     "base_uri": "https://localhost:8080/"
    },
    "id": "clS_crNm8yHJ",
    "outputId": "6508a3e3-6a87-4f3d-a6cf-7ab91a65c1e7",
    "ExecuteTime": {
     "start_time": "2023-04-13T11:23:13.976364Z",
     "end_time": "2023-04-13T11:23:13.992386Z"
    }
   },
   "source": [
    "import numpy as np\n",
    "import math as m\n",
    "\n",
    "# Gauss-Jacobi\n",
    "def gauss_jacobi(A,b,x0,tol,flag):\n",
    "    n = np.shape(A)[0];\n",
    "    D = np.diag(np.diag(A));\n",
    "    aux_C = np.linalg.solve(D,A);\n",
    "    C = np.eye(n) - aux_C;\n",
    "    g = np.linalg.solve(D,b);\n",
    "    kmax = 10000; k = 0;\n",
    "\n",
    "    error = np.zeros(kmax);\n",
    "    if flag:\n",
    "        statment = (np.linalg.norm(b-A.dot(x0))>tol and k<kmax);\n",
    "    else:\n",
    "        statment = (k<kmax);\n",
    "\n",
    "    while statment:\n",
    "        error[k] = np.linalg.norm(b-A.dot(x0));\n",
    "        k = k+1;\n",
    "        x0 = C.dot(x0)+g;\n",
    "        if flag:\n",
    "            statment = (np.linalg.norm(b-A.dot(x0))>tol and k<kmax);\n",
    "        else:\n",
    "            statment = (k<kmax);\n",
    "    \n",
    "    if (k == kmax and flag):\n",
    "        print('\\nErro: o método não converge.\\n')\n",
    "    \n",
    "    x = x0;\n",
    "    return x,k,error\n",
    "\n",
    "# Gauss-Seidel\n",
    "def gauss_seidel(A,b,x0,tol,flag):\n",
    "    L = np.tril(A); R = np.triu(A,1);\n",
    "    C = -np.linalg.solve(L,R);\n",
    "    print(L, R)\n",
    "    g = np.linalg.solve(L,b);\n",
    "    kmax = 10000; k = 0;\n",
    "\n",
    "    error = np.zeros(kmax); \n",
    "\n",
    "    if flag: \n",
    "        statment = (np.linalg.norm(b-A.dot(x0))>tol and k<kmax);\n",
    "    else:\n",
    "        statment = (k<kmax);\n",
    "        \n",
    "    while statment:\n",
    "        error[k] = np.linalg.norm(b-A.dot(x0));\n",
    "        k = k+1;\n",
    "        x0 = C.dot(x0)+g;\n",
    "        if flag:\n",
    "            statment = (np.linalg.norm(b-A.dot(x0))>tol and k<kmax);\n",
    "        else:\n",
    "            statment = (k<kmax);\n",
    "\n",
    "    if (k == kmax and flag):\n",
    "        print('\\nErro: o método não converge.\\n')\n",
    "    \n",
    "    x = x0;\n",
    "    return x,k,error\n",
    "\n",
    "# Exemplo\n",
    "A = np.array([[ -8, 1, 1],  \n",
    "              [ 1, -5, 1],  \n",
    "              [1, 1, -4]], dtype='double')\n",
    "b = np.array([1,16,7], dtype='double')\n",
    "\n",
    "x0 = np.zeros(len(A))\n",
    "tol = 1e-8\n",
    "\n",
    "print('\\nSolução Gauss-Siedel:\\n')\n",
    "(x_siedel,k_siedel,erro_siedel) = gauss_seidel(A,b,x0,tol,1);\n",
    "print(x_siedel);"
   ],
   "execution_count": 5,
   "outputs": [
    {
     "name": "stdout",
     "output_type": "stream",
     "text": [
      "\n",
      "Solução Gauss-Siedel:\n",
      "\n",
      "[[-8.  0.  0.]\n",
      " [ 1. -5.  0.]\n",
      " [ 1.  1. -4.]] [[0. 1. 1.]\n",
      " [0. 0. 1.]\n",
      " [0. 0. 0.]]\n",
      "[-1. -4. -3.]\n"
     ]
    }
   ]
  },
  {
   "cell_type": "code",
   "execution_count": null,
   "outputs": [],
   "source": [],
   "metadata": {
    "collapsed": false
   }
  }
 ]
}
