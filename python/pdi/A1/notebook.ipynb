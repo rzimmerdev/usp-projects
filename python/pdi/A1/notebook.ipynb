{
 "cells": [
  {
   "cell_type": "code",
   "execution_count": 2,
   "outputs": [],
   "source": [
    "from math import cos, sin\n",
    "from random import seed, random, randint\n",
    "\n",
    "import numpy as np\n",
    "import matplotlib.pyplot as plt"
   ],
   "metadata": {
    "collapsed": false,
    "pycharm": {
     "name": "#%%\n"
    }
   }
  },
  {
   "cell_type": "code",
   "execution_count": 16,
   "outputs": [],
   "source": [
    "def draw_f(size, function):\n",
    "\n",
    "    image = np.zeros((size, size))\n",
    "\n",
    "    for pos_y in range(size):\n",
    "        for pos_x in range(size):\n",
    "            image[pos_y, pos_x] = function(pos_y, pos_x)\n",
    "\n",
    "    return image"
   ],
   "metadata": {
    "collapsed": false,
    "pycharm": {
     "name": "#%%\n"
    }
   }
  },
  {
   "cell_type": "code",
   "execution_count": 7,
   "outputs": [],
   "source": [
    "def normalize_matrix(matrix, max_range=1, min_range=0):\n",
    "\n",
    "    matrix -= np.min(matrix)\n",
    "    matrix /= (np.max(matrix) - np.min(matrix))\n",
    "    matrix *= (max_range - min_range)\n",
    "    matrix -= min_range"
   ],
   "metadata": {
    "collapsed": false,
    "pycharm": {
     "name": "#%%\n"
    }
   }
  },
  {
   "cell_type": "code",
   "execution_count": 25,
   "outputs": [],
   "source": [
    "size_c = 1024\n",
    "function_index = 0\n",
    "param_q = 1\n",
    "size_n = 720\n",
    "num_bits = 6\n",
    "seed = \"    1\"\n"
   ],
   "metadata": {
    "collapsed": false,
    "pycharm": {
     "name": "#%%\n"
    }
   }
  },
  {
   "cell_type": "code",
   "execution_count": 4,
   "outputs": [],
   "source": [
    "functions = [\n",
    "        lambda y, x: x*y + 2*y,\n",
    "        lambda y, x: abs(cos(x / param_q) + 2*sin(y / param_q)),\n",
    "        lambda y, x: abs(3*(x / param_q) - pow((y / param_q), 1/3)),\n",
    "        lambda y, x: random(),\n",
    "        lambda y, x: ((x + randint(-1, 1) % size_c), (y + randint(-1, 1)) % size_c)\n",
    "    ]"
   ],
   "metadata": {
    "collapsed": false,
    "pycharm": {
     "name": "#%%\n"
    }
   }
  },
  {
   "cell_type": "code",
   "execution_count": 38,
   "outputs": [],
   "source": [
    "image_f = draw_f(size_c, functions[function_index])"
   ],
   "metadata": {
    "collapsed": false,
    "pycharm": {
     "name": "#%%\n"
    }
   }
  },
  {
   "cell_type": "code",
   "execution_count": 39,
   "outputs": [],
   "source": [
    "normalize_matrix(image_f, max_range=65535)"
   ],
   "metadata": {
    "collapsed": false,
    "pycharm": {
     "name": "#%%\n"
    }
   }
  },
  {
   "cell_type": "code",
   "execution_count": 37,
   "outputs": [
    {
     "data": {
      "text/plain": "array([[6.55350000e+04, 6.55350000e+04, 6.55350000e+04, ...,\n        6.55350000e+04, 6.55350000e+04, 6.55350000e+04],\n       [6.55348750e+04, 6.55348125e+04, 6.55347500e+04, ...,\n        6.54710634e+04, 6.54710009e+04, 6.54709384e+04],\n       [6.55347500e+04, 6.55346250e+04, 6.55345000e+04, ...,\n        6.54071268e+04, 6.54070018e+04, 6.54068768e+04],\n       ...,\n       [6.54073768e+04, 6.53435652e+04, 6.52797537e+04, ...,\n        2.55746341e+02, 1.91934754e+02, 1.28123167e+02],\n       [6.54072518e+04, 6.53433777e+04, 6.52795037e+04, ...,\n        1.91809756e+02, 1.27935670e+02, 6.40615836e+01],\n       [6.54071268e+04, 6.53431902e+04, 6.52792537e+04, ...,\n        1.27873171e+02, 6.39365854e+01, 0.00000000e+00]])"
     },
     "execution_count": 37,
     "metadata": {},
     "output_type": "execute_result"
    }
   ],
   "source": [
    "image_f"
   ],
   "metadata": {
    "collapsed": false,
    "pycharm": {
     "name": "#%%\n"
    }
   }
  },
  {
   "cell_type": "code",
   "execution_count": 41,
   "outputs": [
    {
     "data": {
      "text/plain": "<Figure size 432x288 with 1 Axes>",
      "image/png": "[encoded data removed]"
     },
     "metadata": {
      "needs_background": "light"
     },
     "output_type": "display_data"
    }
   ],
   "source": [
    "plt.imshow(image_f, cmap='gray_r', vmin=0, vmax=65535)\n",
    "plt.show()"
   ],
   "metadata": {
    "collapsed": false,
    "pycharm": {
     "name": "#%%\n"
    }
   }
  },
  {
   "cell_type": "code",
   "execution_count": null,
   "outputs": [],
   "source": [],
   "metadata": {
    "collapsed": false,
    "pycharm": {
     "name": "#%%\n"
    }
   }
  }
 ],
 "metadata": {
  "kernelspec": {
   "display_name": "Python 3",
   "language": "python",
   "name": "python3"
  },
  "language_info": {
   "codemirror_mode": {
    "name": "ipython",
    "version": 2
   },
   "file_extension": ".py",
   "mimetype": "text/x-python",
   "name": "python",
   "nbconvert_exporter": "python",
   "pygments_lexer": "ipython2",
   "version": "2.7.6"
  }
 },
 "nbformat": 4,
 "nbformat_minor": 0
}