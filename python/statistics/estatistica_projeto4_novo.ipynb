{
 "nbformat": 4,
 "nbformat_minor": 0,
 "metadata": {
  "colab": {
   "provenance": [],
   "collapsed_sections": []
  },
  "kernelspec": {
   "name": "python3",
   "display_name": "Python 3"
  },
  "language_info": {
   "name": "python"
  }
 },
 "cells": [
  {
   "cell_type": "code",
   "execution_count": 2,
   "metadata": {
    "id": "OlN-_00PIrBj",
    "colab": {
     "base_uri": "https://localhost:8080/"
    },
    "outputId": "fe68e1f6-1dd1-4dbc-e670-b42155ac2ab9",
    "pycharm": {
     "name": "#%%\n"
    }
   },
   "outputs": [
    {
     "name": "stdout",
     "output_type": "stream",
     "text": [
      "tudo importado corretamente\n"
     ]
    }
   ],
   "source": [
    "import scipy.stats\n",
    "import numpy as np\n",
    "from random import random\n",
    "\n",
    "print(\"tudo importado corretamente\")"
   ]
  },
  {
   "cell_type": "markdown",
   "source": [
    "N individuos : \n",
    "\n",
    "S susceptiveis\n",
    "\n",
    "I infectados nao hospitalizados\n",
    "\n",
    "H infectados hospitalizados \n",
    "\n",
    "R recuperados\n",
    "\n",
    "\n",
    "- Taxa media de novos contagios $rI(t) = \\beta(t) * (I(t) + H(t)) * S(t) / N$\n",
    "em media 5% dos infectados sao $H \\beta(t) = \\beta(0) = 0.2592$\n",
    "\n",
    "- 2 dias por mes são excepcionais;\n",
    "\n",
    "- Nos dias excepcionais $\\beta(t) = 3 * \\beta(0)$\n",
    "\n",
    "- Taxa media de recuperacao dos infectados nao hospitalizados $(I)$ eh $r_{RI}(t) =  \\gamma_i I(t), \n",
    "( γ _i = 0.07143/dia)$ (duracao media da doenca ~= duas semanas)\n",
    "\n",
    "- Taxa media de recuperacao dos infectados hospitalizados $(H)$ eh $r_{RH}(t) =  \\gamma_i H(t)$, \n",
    "com $\\gamma_i = 0.03571/dia$ (duracao media da doenca ~= quatro semanas)\n",
    "\n",
    "\n",
    "_____________________________________________________________________________________\n",
    "SIMULACAO \n",
    "\n",
    "N = $10^4$\n",
    "\n",
    "$I(0)$ = rand(10, 20)\n",
    "\n",
    "$H(0)$ = 0\n",
    "\n",
    "$t$ ate nao haver mais pessoas hostpitalizadas por 3 dias seguidos\n",
    "\n",
    "Queremos salvar as variaveis\n",
    "- $X = max_t H(t)$\n",
    "- O tempo T*, desde a primeira hospitalizacao ate o pico maximo de hospitalizados\n",
    "- a fracao da populacao que teve a doenca uma vez acabada a epidemia. A fracao que esteve hospitalizada\n",
    "- O tempo desde a primeira hospitalizacao ate a hospitalizacao numero 10, e ate a hopitalizacao 40 ($T_10$ e $T_40$))\n",
    "\n",
    "\n"
   ],
   "metadata": {
    "id": "J58vMUIkI1w3",
    "pycharm": {
     "name": "#%% md\n"
    }
   }
  },
  {
   "cell_type": "markdown",
   "source": [
    "O que descobrimos:\n",
    "\n",
    "\n",
    "- $\\beta$ é influenciado por $t$ da seguinte maneira:\n",
    "A cada passagem de t, existe uma chance de $\\frac{1}{15}$ de ser um dia especial, se for o caso, $\\beta = 3 * \\beta_0$\n",
    "- Não esquecer q o número de recuperados não ode ser maior q o de novos infectados\n",
    "\n",
    "Questionamentos:\n",
    "\n",
    "- O que eh dt?\n",
    "- O que seria novosI = randp(0.95*p); nas sugestoes?\n",
    "- O que eh randp()?"
   ],
   "metadata": {
    "id": "XuNaLjjBORAY",
    "pycharm": {
     "name": "#%% md\n"
    }
   }
  },
  {
   "cell_type": "code",
   "source": [
    "def getBeta():\n",
    "  if random() <= 1/15: \n",
    "    return 3 * 0.2592\n",
    "  return 0.2592 \n",
    "\n",
    "\n",
    "def find_imm_least(Px):\n",
    "  ran = random()\n",
    "  for i in range(0,51):\n",
    "    if Px[i] > ran:\n",
    "      return i \n",
    "\n",
    "      \n",
    "def randp(p, size_probs):\n",
    "  Px = scipy.stats.poisson.cdf(range(0,size_probs+1),p)\n",
    "  return find_imm_least(Px)\n",
    "\n",
    "\n",
    "\n",
    "N = 10000  # tamanho da população\n",
    "\n",
    "infected_non_hospitalized = []\n",
    "infected_hospitalized = []\n",
    "susceptibles = []\n",
    "recovered = []\n",
    "\n",
    "infected_non_hospitalized.append(int(random() * 10 + 10)) # num de infectados\n",
    "infected_hospitalized.append(0)                            # num de hospitalizados\n",
    "susceptibles.append(N - infected_non_hospitalized[0])     # num de sãos susceptiveis \n",
    "recovered.append(0)                                       # num de recuperados\n",
    "\n",
    "t = 0                               # tempo\n",
    "dt = 1                              # fracao de tempo                             \n",
    "daysWithoutInfection = 0\n",
    "\n",
    "while daysWithoutInfection >= 3:    # enquanto não acabar a epidemia -> loop\n",
    "  \n",
    "  t += 1                            # avança o tempo em um dia\n",
    "\n",
    "  # probabilidade de infeccoes no dia de infecções do dia\n",
    "\n",
    "  p_infection = dt*getBeta()*(infected_non_hospitalized[t-1]+infected_hospitalized[t-1])*susceptibles[t-1]/N\n",
    "\n",
    "  #adotando 1 randp para novas infeccoes e tirando os pedacos\n",
    "  total_infected = randp(p_infection, 100)\n",
    "\n",
    "  infected_non_hospitalized.append(total_infected*0.95)\n",
    "  print(total_infected*0.95)\n",
    "  infected_hospitalized.append(total_infected*0.05)\n",
    "  print(total_infected*0.05)\n",
    "  \n",
    "\n",
    "  #adotando 2 randps\n",
    "\n",
    "  new_i = randp(0.95*p_infection, 100)\n",
    "  new_h = randp(0.05*p_infection, 100)\n",
    "  infected_non_hospitalized.append(new_i)\n",
    "  print(new_i)\n",
    "  infected_hospitalized.append(new_h)\n",
    "  print(new_h)\n",
    "\n",
    "\n",
    "  # num de recuperados\n",
    "\n",
    "  recover_rate_INFECTED = dt * 0.07143 * infected_non_hospitalized[t-1] # 2 weeks\n",
    "\n",
    "  poisson_distribution = scipy.stats.poisson.pmf(range(0, 100), recover_rate_INFECTED)\n",
    "\n",
    "  mx_RI = max(poisson_distribution)\n",
    "  newRI = poisson_distribution.index(mx_RI)\n",
    "\n",
    "  recover_rate_HOSPITALIZED = dt * 0.03571 * infected_hospitalized[t-1] # 4 weeks\n",
    "\n",
    "  poisson_distribution = scipy.stats.poisson.pmf(range(0, 100), recover_rate_HOSPITALIZED)\n",
    "\n",
    "  mxRH = max(poisson_distribution)\n",
    "  newRH = poisson_distribution.index(mxRH)\n",
    "\n",
    "\n",
    "  # atualizando dados de recuperados e sãos\n",
    "\n",
    "  recovered.append(mx_RI + mx_RH)\n",
    "\n",
    "  susceptibles.append(susceptibles[t-1] - (infected_non_hospitalized[t] + infected_hospitalized[t]))  # saos anterior - novos infectados\n",
    "\n",
    "  if((infected_non_hospitalized[t] + infected_hospitalized[t]) == 0):\n",
    "    daysWithoutInfection += 1\n",
    "  print(f\"newI : {newI}\")\n",
    "  print(f\"newH : {newH}\")\n",
    "  break\n",
    "\n",
    "\n",
    "\n",
    "#criação de constantes\n",
    "# '''\n",
    "# p = dt*beta(t)*(I(t-1)+H(t-1))*S(t-1)/N;\n",
    "# novosI = randp(0.95*p);\n",
    "# novosH = randp(0.05*p);\n",
    "# qI = dt*gammaI*I(t-1);\n",
    "# recuperadosI = randp(qI)\n",
    "# qH = dt*gammaH*H(t-1);\n",
    "# recuperadosH = randp(qH);\n",
    "# novosRecuperados = recuperadosI + recuperadosH;\n",
    "# '''"
   ],
   "metadata": {
    "id": "1nuV0Fp2Rnh9",
    "pycharm": {
     "name": "#%%\n"
    }
   },
   "execution_count": 3,
   "outputs": []
  },
  {
   "cell_type": "code",
   "source": [
    "# zimba\n",
    "'''\n",
    "class Poisson_Epidemic:\n",
    "  population_size = 0\n",
    "\n",
    "  def susceptible(self, t):\n",
    "    return 0\n",
    "  \n",
    "  def infected(self, t):\n",
    "    return 0\n",
    "  \n",
    "  def hospitalized(self, t):\n",
    "    return 0\n",
    "  \n",
    "  def recovered(self, t):\n",
    "    return 0\n",
    "\n",
    "  def beta(t):\n",
    "    return 0\n",
    "\n",
    "  def new_contagions(self, t):\n",
    "    return self.beta(t) * (self.infected(t) + self.hospitalized(t)) *\n",
    "'''"
   ],
   "metadata": {
    "id": "_lLnHQDmPBDm",
    "colab": {
     "base_uri": "https://localhost:8080/",
     "height": 70
    },
    "outputId": "96e838f5-98f2-4f1d-a46b-3676f5a89be8",
    "pycharm": {
     "name": "#%%\n"
    }
   },
   "execution_count": null,
   "outputs": []
  },
  {
   "cell_type": "code",
   "source": [],
   "metadata": {
    "id": "TxW551hCPLj7",
    "pycharm": {
     "name": "#%%\n"
    }
   },
   "execution_count": null,
   "outputs": []
  },
  {
   "cell_type": "markdown",
   "source": [],
   "metadata": {
    "id": "A0ygEl15Sp_p",
    "pycharm": {
     "name": "#%% md\n"
    }
   }
  }
 ]
}