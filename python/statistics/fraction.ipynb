{
 "cells": [
  {
   "cell_type": "code",
   "execution_count": 1,
   "id": "51c166bc",
   "metadata": {
    "pycharm": {
     "name": "#%%\n"
    }
   },
   "outputs": [],
   "source": [
    "import math"
   ]
  },
  {
   "cell_type": "code",
   "execution_count": 2,
   "id": "0106d446",
   "metadata": {
    "pycharm": {
     "name": "#%%\n"
    }
   },
   "outputs": [],
   "source": [
    "def divides(n, d):\n",
    "    return not n % d"
   ]
  },
  {
   "cell_type": "code",
   "execution_count": 3,
   "id": "a2021b3b",
   "metadata": {
    "pycharm": {
     "name": "#%%\n"
    }
   },
   "outputs": [],
   "source": [
    "def swap(n, x, y):\n",
    "    n[x], n[y] = n[y], n[x]\n",
    "\n",
    "\n",
    "def partition(n, low, high):\n",
    "    pivot, id_x = n[high], low\n",
    "    \n",
    "    for i in range(low, high):\n",
    "        if n[i] <= pivot:\n",
    "            swap(n, i, id_x)\n",
    "            id_x += 1\n",
    "    \n",
    "    swap(n, id_x, high)\n",
    "    return id_x\n",
    "\n",
    "def quick_sort_recurr(n, low, high):\n",
    "    if len(n) == 1:\n",
    "        return n\n",
    "    if low < high:\n",
    "        center = partition(n, low, high)\n",
    "        quick_sort_recurr(n, low, center - 1), quick_sort_recurr(n, center + 1, high)\n",
    "    return n\n",
    "\n",
    "def quick_sort(n):\n",
    "    return quick_sort_recurr(n, 0, len(n) - 1)\n"
   ]
  },
  {
   "cell_type": "code",
   "execution_count": 4,
   "id": "db3d7764",
   "metadata": {
    "pycharm": {
     "name": "#%%\n"
    }
   },
   "outputs": [],
   "source": [
    "def sieve(max_num: int):    \n",
    "    primes = [True for x in range(2, max_num)]\n",
    "    \n",
    "    for i in range(4, max_num, 2):\n",
    "        primes[i - 2] = False\n",
    "    \n",
    "    for i in range(3, max_num):\n",
    "        if not primes[i - 2]:\n",
    "            continue\n",
    "        for j in range(i * i, max_num, i):\n",
    "            primes[j - 2] = False\n",
    "    return primes \n",
    "\n",
    "def factorate(num: int, cache: list = None):\n",
    "    if not cache:\n",
    "        cache = sieve(int(num / 2) + 1)\n",
    "        \n",
    "    factors = list()\n",
    "    \n",
    "    while num != 1:\n",
    "        for prime, i in enumerate(cache):\n",
    "            if num % (prime + 2):\n",
    "                continue\n",
    "            while not num % (prime + 2):\n",
    "                factors.append(prime + 2)\n",
    "                num = int(num / (prime + 2))\n",
    "        if num != 1:\n",
    "            factors.append(num)\n",
    "        break\n",
    "    \n",
    "    return factors"
   ]
  },
  {
   "cell_type": "code",
   "execution_count": 5,
   "id": "b57d600d",
   "metadata": {
    "pycharm": {
     "name": "#%%\n"
    }
   },
   "outputs": [],
   "source": [
    "def merge(first_list, second_list):    \n",
    "    result = list()\n",
    "    \n",
    "    while first_list or second_list:\n",
    "        if not first_list:\n",
    "            result.append(second_list.pop(0))\n",
    "        elif not second_list:\n",
    "            result.append(first_list.pop(0))\n",
    "        elif first_list[0] < second_list[0]:\n",
    "            result.append(first_list.pop(0))\n",
    "        else:\n",
    "            result.append(second_list.pop(0))\n",
    "    return result"
   ]
  },
  {
   "cell_type": "code",
   "execution_count": 6,
   "id": "ab94d1c2",
   "metadata": {
    "pycharm": {
     "name": "#%%\n"
    }
   },
   "outputs": [],
   "source": [
    "def factor_product(n: list):\n",
    "    size = len(n)\n",
    "    while size > 1:\n",
    "        n[size - 2] = merge(n[size - 2], n.pop())\n",
    "        size -= 1\n",
    "        \n",
    "    return n[0]\n",
    "\n",
    "def simplify(n: list, d: list):\n",
    "    id_x, id_y = 0, 0\n",
    "    size_x, size_y = len(n), len(d)\n",
    "    \n",
    "    fraction = (list(), list())\n",
    "    \n",
    "    while id_x < size_x or id_y < size_y:\n",
    "        if id_x >= size_x:\n",
    "            fraction[1].append(d[id_y])\n",
    "            id_y += 1\n",
    "        elif id_y >= size_y:\n",
    "            fraction[0].append(n[id_x])\n",
    "            id_x += 1\n",
    "        elif n[id_x] < d[id_y]:\n",
    "            fraction[0].append(n[id_x])\n",
    "            id_x += 1\n",
    "        elif n[id_x] > d[id_y]:\n",
    "            fraction[1].append(d[id_y])\n",
    "            id_y += 1\n",
    "        else:\n",
    "            id_x += 1\n",
    "            id_y += 1\n",
    "    \n",
    "    fraction[0].append(1)\n",
    "    fraction[1].append(1)\n",
    "    \n",
    "    return (math.prod(fraction[0]), math.prod(fraction[1]))"
   ]
  },
  {
   "cell_type": "code",
   "execution_count": 7,
   "id": "fcbb3a47",
   "metadata": {
    "pycharm": {
     "name": "#%%\n"
    }
   },
   "outputs": [],
   "source": [
    "class frac:\n",
    "    def __init__(self, n, d):\n",
    "        self.n = n\n",
    "        self.d = d\n",
    "        self.composite = self.simplify()\n",
    "    \n",
    "    def simplify(self):\n",
    "        n = factorate(self.n)\n",
    "        d = factorate(self.d)\n",
    "        return simplify(n, d)\n",
    "    \n",
    "    def __add__(self, other):\n",
    "        if isinstance(other, frac):\n",
    "            n = self.n * other.d + self.d * other.n\n",
    "            d = self.d * other.d\n",
    "        elif isinstance(other, int):\n",
    "            n = self.n + other * self.d\n",
    "            d = self.d\n",
    "        else:\n",
    "            n = self.n\n",
    "            d = self.d\n",
    "        \n",
    "        return frac(n, d)\n",
    "    \n",
    "    def __sub__(self, other):\n",
    "        if isinstance(other, frac):\n",
    "            n = self.n * other.d - self.d * other.n\n",
    "            d = self.d * other.d\n",
    "        elif isinstance(other, int):\n",
    "            n = self.n - other * self.d\n",
    "            d = self.d\n",
    "        else:\n",
    "            n = self.n\n",
    "            d = self.d\n",
    "            \n",
    "        return frac(n, d)\n",
    "            \n",
    "    def __rsub__(other, self):\n",
    "        if isinstance(other, frac):\n",
    "            n = -self.n * other.d + self.d * other.n\n",
    "            d = self.d * other.d\n",
    "        elif isinstance(other, int):\n",
    "            n = -self.n + other * self.d\n",
    "            d = self.d\n",
    "        else:\n",
    "            n = self.n\n",
    "            d = self.d\n",
    "            \n",
    "        return frac(n, d)\n",
    "    \n",
    "    def __mul__(self, other):\n",
    "        if isinstance(other, frac):\n",
    "            n = self.n * other.n\n",
    "            d = self.d * other.d\n",
    "        elif isinstance(other, int):\n",
    "            n = self.n * other\n",
    "            d = self.d\n",
    "        else:\n",
    "            n = self.n\n",
    "            d = self.d\n",
    "        \n",
    "        return frac(n, d)\n",
    "        \n",
    "    __rmul__ = __mul__\n",
    "    __radd__ = __add__\n",
    "    \n",
    "    def __str__(self):\n",
    "        if self.composite[1] != 1:\n",
    "            return f\"{self.composite[0]}/{self.composite[1]}\"\n",
    "        else:\n",
    "            return str(self.composite[0])\n",
    "    \n",
    "    @property\n",
    "    def decimal(self):\n",
    "        return self.composite[0] / self.composite[1]"
   ]
  },
  {
   "cell_type": "code",
   "execution_count": 8,
   "id": "c5972d39",
   "metadata": {
    "pycharm": {
     "name": "#%%\n"
    }
   },
   "outputs": [
    {
     "name": "stdout",
     "output_type": "stream",
     "text": [
      "15/4\n",
      "7/3\n"
     ]
    }
   ],
   "source": [
    "print(3 + frac(3, 4))\n",
    "print(frac(4, 7) * frac(7, 3) + 1)"
   ]
  },
  {
   "cell_type": "code",
   "execution_count": 9,
   "id": "2215ccc3",
   "metadata": {
    "pycharm": {
     "name": "#%%\n"
    }
   },
   "outputs": [],
   "source": [
    "def read_fraction():\n",
    "    n, d = ([int(x) for x in input().split()] for _ in range(2))\n",
    "    return n, d\n",
    "    \n",
    "def print_fraction(fraction):\n",
    "    n, d = fraction\n",
    "    n = factor_product([factorate(x) for x in n])\n",
    "    d = factor_product([factorate(y) for y in d])\n",
    "    \n",
    "    print(simplify(n, d))\n",
    "#     print(\"\\n\\n\", math.prod(n), \"\\n---\\n\", math.prod(d))\n",
    "    "
   ]
  },
  {
   "cell_type": "code",
   "execution_count": 10,
   "id": "fb5007e2",
   "metadata": {
    "pycharm": {
     "name": "#%%\n"
    }
   },
   "outputs": [],
   "source": [
    "def arrange(n, p):\n",
    "    return [x for x in range(n, n-p, -1)]"
   ]
  },
  {
   "cell_type": "code",
   "execution_count": 11,
   "id": "a0f9c196",
   "metadata": {
    "pycharm": {
     "name": "#%%\n"
    }
   },
   "outputs": [
    {
     "name": "stdout",
     "output_type": "stream",
     "text": [
      "(1, 204)\n"
     ]
    }
   ],
   "source": [
    "print_fraction((arrange(26, 2), arrange(52, 3)))"
   ]
  },
  {
   "cell_type": "code",
   "execution_count": 12,
   "id": "248844e3",
   "metadata": {
    "pycharm": {
     "name": "#%%\n"
    }
   },
   "outputs": [
    {
     "ename": "IndexError",
     "evalue": "list index out of range",
     "output_type": "error",
     "traceback": [
      "\u001B[1;31m---------------------------------------------------------------------------\u001B[0m",
      "\u001B[1;31mIndexError\u001B[0m                                Traceback (most recent call last)",
      "Input \u001B[1;32mIn [12]\u001B[0m, in \u001B[0;36m<cell line: 1>\u001B[1;34m()\u001B[0m\n\u001B[1;32m----> 1\u001B[0m \u001B[43mprint_fraction\u001B[49m\u001B[43m(\u001B[49m\u001B[43mread_fraction\u001B[49m\u001B[43m(\u001B[49m\u001B[43m)\u001B[49m\u001B[43m)\u001B[49m\n",
      "Input \u001B[1;32mIn [9]\u001B[0m, in \u001B[0;36mprint_fraction\u001B[1;34m(fraction)\u001B[0m\n\u001B[0;32m      5\u001B[0m \u001B[38;5;28;01mdef\u001B[39;00m \u001B[38;5;21mprint_fraction\u001B[39m(fraction):\n\u001B[0;32m      6\u001B[0m     n, d \u001B[38;5;241m=\u001B[39m fraction\n\u001B[1;32m----> 7\u001B[0m     n \u001B[38;5;241m=\u001B[39m \u001B[43mfactor_product\u001B[49m\u001B[43m(\u001B[49m\u001B[43m[\u001B[49m\u001B[43mfactorate\u001B[49m\u001B[43m(\u001B[49m\u001B[43mx\u001B[49m\u001B[43m)\u001B[49m\u001B[43m \u001B[49m\u001B[38;5;28;43;01mfor\u001B[39;49;00m\u001B[43m \u001B[49m\u001B[43mx\u001B[49m\u001B[43m \u001B[49m\u001B[38;5;129;43;01min\u001B[39;49;00m\u001B[43m \u001B[49m\u001B[43mn\u001B[49m\u001B[43m]\u001B[49m\u001B[43m)\u001B[49m\n\u001B[0;32m      8\u001B[0m     d \u001B[38;5;241m=\u001B[39m factor_product([factorate(y) \u001B[38;5;28;01mfor\u001B[39;00m y \u001B[38;5;129;01min\u001B[39;00m d])\n\u001B[0;32m     10\u001B[0m     \u001B[38;5;28mprint\u001B[39m(simplify(n, d))\n",
      "Input \u001B[1;32mIn [6]\u001B[0m, in \u001B[0;36mfactor_product\u001B[1;34m(n)\u001B[0m\n\u001B[0;32m      4\u001B[0m     n[size \u001B[38;5;241m-\u001B[39m \u001B[38;5;241m2\u001B[39m] \u001B[38;5;241m=\u001B[39m merge(n[size \u001B[38;5;241m-\u001B[39m \u001B[38;5;241m2\u001B[39m], n\u001B[38;5;241m.\u001B[39mpop())\n\u001B[0;32m      5\u001B[0m     size \u001B[38;5;241m-\u001B[39m\u001B[38;5;241m=\u001B[39m \u001B[38;5;241m1\u001B[39m\n\u001B[1;32m----> 7\u001B[0m \u001B[38;5;28;01mreturn\u001B[39;00m \u001B[43mn\u001B[49m\u001B[43m[\u001B[49m\u001B[38;5;241;43m0\u001B[39;49m\u001B[43m]\u001B[49m\n",
      "\u001B[1;31mIndexError\u001B[0m: list index out of range"
     ]
    }
   ],
   "source": [
    "print_fraction(read_fraction())"
   ]
  },
  {
   "cell_type": "code",
   "execution_count": 13,
   "id": "193d4967",
   "metadata": {
    "pycharm": {
     "name": "#%%\n"
    }
   },
   "outputs": [
    {
     "name": "stdout",
     "output_type": "stream",
     "text": [
      "(13, 102)\n"
     ]
    }
   ],
   "source": [
    "print_fraction(([26], [204]))"
   ]
  },
  {
   "cell_type": "code",
   "execution_count": 14,
   "id": "5ee75798",
   "metadata": {
    "pycharm": {
     "name": "#%%\n"
    }
   },
   "outputs": [
    {
     "name": "stdout",
     "output_type": "stream",
     "text": [
      "3/2\n"
     ]
    }
   ],
   "source": [
    "print(frac(13, 102) * 3 * 2 + frac(13, 102) * 3 + frac(2, 17) * 3)"
   ]
  },
  {
   "cell_type": "code",
   "execution_count": 15,
   "id": "7427cfd6",
   "metadata": {
    "pycharm": {
     "name": "#%%\n"
    }
   },
   "outputs": [
    {
     "name": "stdout",
     "output_type": "stream",
     "text": [
      "101/34\n"
     ]
    }
   ],
   "source": [
    "print(frac(13, 102) * 3 * 4 + frac(13, 102) * 3 + frac(2, 17) * 9)"
   ]
  },
  {
   "cell_type": "code",
   "execution_count": 16,
   "id": "2dd9b48a",
   "metadata": {
    "pycharm": {
     "name": "#%%\n"
    }
   },
   "outputs": [],
   "source": [
    "r = frac(101, 34) - frac(9, 4)"
   ]
  },
  {
   "cell_type": "code",
   "execution_count": 17,
   "id": "c016ea9f",
   "metadata": {
    "pycharm": {
     "name": "#%%\n"
    }
   },
   "outputs": [
    {
     "name": "stdout",
     "output_type": "stream",
     "text": [
      "0.7205882352941176\n"
     ]
    }
   ],
   "source": [
    "print(r.decimal)"
   ]
  },
  {
   "cell_type": "code",
   "execution_count": 20,
   "id": "6fa5b63a",
   "metadata": {
    "pycharm": {
     "name": "#%%\n"
    }
   },
   "outputs": [
    {
     "name": "stdout",
     "output_type": "stream",
     "text": [
      "58/23\n"
     ]
    }
   ],
   "source": [
    "print(frac(350, 805) + 4 * frac(420, 805))"
   ]
  },
  {
   "cell_type": "code",
   "execution_count": 21,
   "outputs": [
    {
     "name": "stdout",
     "output_type": "stream",
     "text": [
      "178/529\n"
     ]
    }
   ],
   "source": [
    "print(frac(58, 23) - frac(1156, 529))"
   ],
   "metadata": {
    "collapsed": false,
    "pycharm": {
     "name": "#%%\n"
    }
   }
  },
  {
   "cell_type": "code",
   "execution_count": null,
   "outputs": [],
   "source": [],
   "metadata": {
    "collapsed": false,
    "pycharm": {
     "name": "#%%\n"
    }
   }
  }
 ],
 "metadata": {
  "kernelspec": {
   "display_name": "Python 3 (ipykernel)",
   "language": "python",
   "name": "python3"
  },
  "language_info": {
   "codemirror_mode": {
    "name": "ipython",
    "version": 3
   },
   "file_extension": ".py",
   "mimetype": "text/x-python",
   "name": "python",
   "nbconvert_exporter": "python",
   "pygments_lexer": "ipython3",
   "version": "3.9.12"
  }
 },
 "nbformat": 4,
 "nbformat_minor": 5
}