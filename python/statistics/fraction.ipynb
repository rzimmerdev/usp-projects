{
 "cells": [
  {
   "cell_type": "code",
   "execution_count": 91,
   "id": "51c166bc",
   "metadata": {
    "pycharm": {
     "name": "#%%\n"
    }
   },
   "outputs": [],
   "source": [
    "import math"
   ]
  },
  {
   "cell_type": "code",
   "execution_count": 92,
   "id": "0106d446",
   "metadata": {
    "pycharm": {
     "name": "#%%\n"
    }
   },
   "outputs": [],
   "source": [
    "def divides(n, d):\n",
    "    return not n % d"
   ]
  },
  {
   "cell_type": "code",
   "execution_count": 93,
   "id": "a2021b3b",
   "metadata": {
    "pycharm": {
     "name": "#%%\n"
    }
   },
   "outputs": [],
   "source": [
    "def swap(n, x, y):\n",
    "    n[x], n[y] = n[y], n[x]\n",
    "\n",
    "\n",
    "def partition(n, low, high):\n",
    "    pivot, id_x = n[high], low\n",
    "    \n",
    "    for i in range(low, high):\n",
    "        if n[i] <= pivot:\n",
    "            swap(n, i, id_x)\n",
    "            id_x += 1\n",
    "    \n",
    "    swap(n, id_x, high)\n",
    "    return id_x\n",
    "\n",
    "def quick_sort_recurr(n, low, high):\n",
    "    if len(n) == 1:\n",
    "        return n\n",
    "    if low < high:\n",
    "        center = partition(n, low, high)\n",
    "        quick_sort_recurr(n, low, center - 1), quick_sort_recurr(n, center + 1, high)\n",
    "    return n\n",
    "\n",
    "def quick_sort(n):\n",
    "    return quick_sort_recurr(n, 0, len(n) - 1)\n"
   ]
  },
  {
   "cell_type": "code",
   "execution_count": 94,
   "id": "db3d7764",
   "metadata": {
    "pycharm": {
     "name": "#%%\n"
    }
   },
   "outputs": [],
   "source": [
    "def sieve(max_num: int):    \n",
    "    primes = [True for x in range(2, max_num)]\n",
    "    \n",
    "    for i in range(4, max_num, 2):\n",
    "        primes[i - 2] = False\n",
    "    \n",
    "    for i in range(3, max_num):\n",
    "        if not primes[i - 2]:\n",
    "            continue\n",
    "        for j in range(i * i, max_num, i):\n",
    "            primes[j - 2] = False\n",
    "    return primes \n",
    "\n",
    "def factorate(num: int, cache: list = None):\n",
    "    if not cache:\n",
    "        cache = sieve(int(num / 2) + 1)\n",
    "        \n",
    "    factors = list()\n",
    "    \n",
    "    while num != 1:\n",
    "        for prime, i in enumerate(cache):\n",
    "            if num % (prime + 2):\n",
    "                continue\n",
    "            while not num % (prime + 2):\n",
    "                factors.append(prime + 2)\n",
    "                num = int(num / (prime + 2))\n",
    "        if num != 1:\n",
    "            factors.append(num)\n",
    "        break\n",
    "    \n",
    "    return factors"
   ]
  },
  {
   "cell_type": "code",
   "execution_count": 95,
   "id": "b57d600d",
   "metadata": {
    "pycharm": {
     "name": "#%%\n"
    }
   },
   "outputs": [],
   "source": [
    "def merge(first_list, second_list):    \n",
    "    result = list()\n",
    "    \n",
    "    while first_list or second_list:\n",
    "        if not first_list:\n",
    "            result.append(second_list.pop(0))\n",
    "        elif not second_list:\n",
    "            result.append(first_list.pop(0))\n",
    "        elif first_list[0] < second_list[0]:\n",
    "            result.append(first_list.pop(0))\n",
    "        else:\n",
    "            result.append(second_list.pop(0))\n",
    "    return result"
   ]
  },
  {
   "cell_type": "code",
   "execution_count": 103,
   "id": "ab94d1c2",
   "metadata": {
    "pycharm": {
     "name": "#%%\n"
    }
   },
   "outputs": [],
   "source": [
    "def factor_product(arr: list):\n",
    "    size = len(arr)\n",
    "    while size > 1:\n",
    "        arr[size - 2] = merge(arr[size - 2], arr.pop())\n",
    "        size -= 1\n",
    "        \n",
    "    return arr[0]"
   ]
  },
  {
   "cell_type": "code",
   "execution_count": 104,
   "id": "2215ccc3",
   "metadata": {
    "pycharm": {
     "name": "#%%\n"
    }
   },
   "outputs": [],
   "source": [
    "def read_fraction():\n",
    "    n, d = ([int(x) for x in input().split()] for _ in range(2))\n",
    "    return frac(n, d)"
   ]
  },
  {
   "cell_type": "code",
   "execution_count": 105,
   "id": "fb5007e2",
   "metadata": {
    "pycharm": {
     "name": "#%%\n"
    }
   },
   "outputs": [],
   "source": [
    "def arrange(n, p):\n",
    "    return [x for x in range(n, n-p, -1)]"
   ]
  },
  {
   "cell_type": "code",
   "execution_count": 99,
   "outputs": [],
   "source": [
    "def binary_search(n: list, val: int):\n",
    "    low, center, high = 0, 0, len(n) - 1\n",
    "\n",
    "    while low <= high:\n",
    "        center = (high + low) // 2\n",
    "\n",
    "        if n[center] < val:\n",
    "            low = center + 1\n",
    "        elif n[center] > val:\n",
    "            high = center - 1\n",
    "        else:\n",
    "            return center\n",
    "\n",
    "    return center"
   ],
   "metadata": {
    "collapsed": false,
    "pycharm": {
     "name": "#%%\n"
    }
   }
  },
  {
   "cell_type": "code",
   "execution_count": 100,
   "outputs": [],
   "source": [
    "def insort(n: list, val: int):\n",
    "    new = n.copy()\n",
    "    new.insert(binary_search(n, val), val)\n",
    "    return new"
   ],
   "metadata": {
    "collapsed": false,
    "pycharm": {
     "name": "#%%\n"
    }
   }
  },
  {
   "cell_type": "code",
   "execution_count": 101,
   "outputs": [],
   "source": [
    "class frac:\n",
    "    prime_cache = sieve(10000)\n",
    "\n",
    "    def __init__(self, n: int = None, d: int = None, composite: tuple = None):\n",
    "        if n and d is not None:\n",
    "            composite = (factorate(n, self.prime_cache), factorate(d, self.prime_cache))\n",
    "            self.n, self.d = self._simplify(composite)\n",
    "        else:\n",
    "            self.n, self.d = self._simplify(composite)\n",
    "\n",
    "    @staticmethod\n",
    "    def _simplify(composite: tuple):\n",
    "        n, d = composite\n",
    "        id_x, id_y = 0, 0\n",
    "        size_x, size_y = len(n), len(d)\n",
    "\n",
    "        result_n, result_d = (list(), list())\n",
    "\n",
    "        while id_x < size_x or id_y < size_y:\n",
    "            if id_x >= size_x:\n",
    "                result_d.append(d[id_y])\n",
    "                id_y += 1\n",
    "            elif id_y >= size_y:\n",
    "                result_n.append(n[id_x])\n",
    "                id_x += 1\n",
    "            elif n[id_x] < d[id_y]:\n",
    "                result_n.append(n[id_x])\n",
    "                id_x += 1\n",
    "            elif n[id_x] > d[id_y]:\n",
    "                result_d.append(d[id_y])\n",
    "                id_y += 1\n",
    "            else:\n",
    "                id_x += 1\n",
    "                id_y += 1\n",
    "\n",
    "        return result_n, result_d\n",
    "\n",
    "    def __mul__(self, other):\n",
    "        if isinstance(other, frac):\n",
    "            n = merge(self.n, other.n)\n",
    "            d = merge(self.d, other.d)\n",
    "        elif isinstance(other, int):\n",
    "            n = insort(self.n, other)\n",
    "            d = self.d\n",
    "        else:\n",
    "            n = self.n\n",
    "            d = self.d\n",
    "\n",
    "        return frac(composite=(n, d))\n",
    "\n",
    "    def __add__(self, other):\n",
    "        if isinstance(other, frac):\n",
    "            n = math.prod(self.n) * math.prod(other.d) + math.prod(self.d) * math.prod(other.n)\n",
    "            n = factorate(n, self.prime_cache)\n",
    "            d = merge(self.d, other.d)\n",
    "        elif isinstance(other, int):\n",
    "            n = math.prod(self.n) + math.prod(self.d) * other\n",
    "            n = factorate(n, self.prime_cache)\n",
    "            d = self.d\n",
    "        else:\n",
    "            n = self.n\n",
    "            d = self.d\n",
    "\n",
    "        return frac(composite=(n, d))\n",
    "\n",
    "    def __sub__(self, other):\n",
    "        if isinstance(other, frac):\n",
    "            n = math.prod(self.n) * math.prod(other.d) - math.prod(self.d) * math.prod(other.n)\n",
    "            n = factorate(n, self.prime_cache)\n",
    "            d = merge(self.d, other.d)\n",
    "        elif isinstance(other, int):\n",
    "            n = math.prod(self.n) - math.prod(self.d) * other\n",
    "            n = factorate(n, self.prime_cache)\n",
    "            d = self.d\n",
    "        else:\n",
    "            n = self.n\n",
    "            d = self.d\n",
    "\n",
    "        return frac(composite=(n, d))\n",
    "\n",
    "    def __rsub__(self, other):\n",
    "        if isinstance(other, frac):\n",
    "            n = -math.prod(self.n) * math.prod(other.d) + math.prod(self.d) * math.prod(other.n)\n",
    "            n = factorate(n, self.prime_cache)\n",
    "            d = merge(self.d, other.d)\n",
    "        elif isinstance(other, int):\n",
    "            n = -math.prod(self.n) + math.prod(self.d) * other\n",
    "            n = factorate(n, self.prime_cache)\n",
    "            d = self.d\n",
    "        else:\n",
    "            n = self.n\n",
    "            d = self.d\n",
    "\n",
    "        return frac(composite=(n, d))\n",
    "\n",
    "    __rmul__ = __mul__\n",
    "    __radd__ = __add__\n",
    "\n",
    "    def __str__(self):\n",
    "        if not self.d:\n",
    "            return str(math.prod(self.n))\n",
    "        else:\n",
    "            return f\"{math.prod(self.n)}/{math.prod(self.d)}\"\n",
    "\n",
    "    @property\n",
    "    def decimal(self):\n",
    "        return math.prod(self.n)/math.prod(self.d)"
   ],
   "metadata": {
    "collapsed": false,
    "pycharm": {
     "name": "#%%\n"
    }
   }
  }
 ],
 "metadata": {
  "kernelspec": {
   "display_name": "Python 3 (ipykernel)",
   "language": "python",
   "name": "python3"
  },
  "language_info": {
   "codemirror_mode": {
    "name": "ipython",
    "version": 3
   },
   "file_extension": ".py",
   "mimetype": "text/x-python",
   "name": "python",
   "nbconvert_exporter": "python",
   "pygments_lexer": "ipython3",
   "version": "3.9.12"
  }
 },
 "nbformat": 4,
 "nbformat_minor": 5
}