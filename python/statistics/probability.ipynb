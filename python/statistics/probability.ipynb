{
 "cells": [
  {
   "cell_type": "code",
   "execution_count": 132,
   "outputs": [],
   "source": [
    "import math\n",
    "import fraction\n",
    "import importlib\n",
    "from typing import Union"
   ],
   "metadata": {
    "collapsed": false,
    "pycharm": {
     "name": "#%%\n"
    }
   }
  },
  {
   "cell_type": "code",
   "execution_count": 181,
   "outputs": [],
   "source": [
    "importlib.reload(fraction)\n",
    "from fraction import arrange, frac, merge, frac_pow"
   ],
   "metadata": {
    "collapsed": false,
    "pycharm": {
     "name": "#%%\n"
    }
   }
  },
  {
   "cell_type": "code",
   "execution_count": 106,
   "outputs": [],
   "source": [
    "def combination(n, p):\n",
    "    return frac(composite=(arrange(n), merge(arrange(p), arrange(n, p))))"
   ],
   "metadata": {
    "collapsed": false,
    "pycharm": {
     "name": "#%%\n"
    }
   }
  },
  {
   "cell_type": "code",
   "execution_count": 158,
   "outputs": [],
   "source": [
    "def bernoulli(p: Union[float, frac], x) -> Union[float, frac]:\n",
    "    if not 0 <= p <= 1:\n",
    "        raise ValueError(\"p should be between 0 and 1.\")\n",
    "    return frac_pow(p, x) * frac_pow((1 - p), 1 - x)"
   ],
   "metadata": {
    "collapsed": false,
    "pycharm": {
     "name": "#%%\n"
    }
   }
  },
  {
   "cell_type": "code",
   "execution_count": 162,
   "outputs": [],
   "source": [
    "def binomial(p: Union[float, frac], n: int, y) -> Union[float, frac]:\n",
    "    return combination(n, y) * frac_pow(p, y) * frac_pow(1 - p, n - y)"
   ],
   "metadata": {
    "collapsed": false,
    "pycharm": {
     "name": "#%%\n"
    }
   }
  },
  {
   "cell_type": "code",
   "execution_count": null,
   "outputs": [],
   "source": [
    "def geometric(p: Union[float, frac], x: int) -> Union[float, frac]:\n",
    "    return p * frac_pow(1 - p, x - 1)"
   ],
   "metadata": {
    "collapsed": false,
    "pycharm": {
     "name": "#%%\n"
    }
   }
  },
  {
   "cell_type": "code",
   "execution_count": 175,
   "outputs": [],
   "source": [
    "def negative(p: Union[float, frac], k: int, x: int) -> Union[float, frac]:\n",
    "    return combination(x - 1, k - 1) * frac_pow(p, k) * frac_pow(1 - p, x - k)"
   ],
   "metadata": {
    "collapsed": false,
    "pycharm": {
     "name": "#%%\n"
    }
   }
  },
  {
   "cell_type": "code",
   "execution_count": 178,
   "outputs": [],
   "source": [
    "def hypergeometric(N, k, n, x) -> Union[float, frac]:\n",
    "    return (combination(k, x) * combination(N - k, n - x)) / combination(N, n)"
   ],
   "metadata": {
    "collapsed": false,
    "pycharm": {
     "name": "#%%\n"
    }
   }
  },
  {
   "cell_type": "code",
   "execution_count": 179,
   "outputs": [
    {
     "name": "stdout",
     "output_type": "stream",
     "text": [
      "1/100\n",
      "48/125\n",
      "55296/300763\n"
     ]
    }
   ],
   "source": [
    "print(bernoulli(frac(1, 10), 2))\n",
    "print(binomial(frac(2, 10), n=3, y=1))\n",
    "print(negative(frac(48, 67), k = 3, x = 2))"
   ],
   "metadata": {
    "collapsed": false,
    "pycharm": {
     "name": "#%%\n"
    }
   }
  },
  {
   "cell_type": "code",
   "execution_count": 189,
   "outputs": [
    {
     "name": "stdout",
     "output_type": "stream",
     "text": [
      "784008849485092547121\n"
     ]
    }
   ],
   "source": [
    "print(combination(118, 18))"
   ],
   "metadata": {
    "collapsed": false,
    "pycharm": {
     "name": "#%%\n"
    }
   }
  },
  {
   "cell_type": "code",
   "execution_count": null,
   "outputs": [],
   "source": [
    "print(hypergeometric(118, 110, 18, 3))"
   ],
   "metadata": {
    "collapsed": false,
    "pycharm": {
     "name": "#%%\n"
    }
   }
  }
 ],
 "metadata": {
  "kernelspec": {
   "display_name": "Python 3 (ipykernel)",
   "language": "python",
   "name": "python3"
  },
  "language_info": {
   "codemirror_mode": {
    "name": "ipython",
    "version": 3
   },
   "file_extension": ".py",
   "mimetype": "text/x-python",
   "name": "python",
   "nbconvert_exporter": "python",
   "pygments_lexer": "ipython3",
   "version": "3.9.12"
  }
 },
 "nbformat": 4,
 "nbformat_minor": 5
}